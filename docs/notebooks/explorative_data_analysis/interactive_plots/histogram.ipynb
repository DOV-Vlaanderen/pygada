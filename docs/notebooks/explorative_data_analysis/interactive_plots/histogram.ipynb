{
 "cells": [
  {
   "cell_type": "markdown",
   "source": [
    "## Import Dependencies"
   ],
   "metadata": {
    "collapsed": false
   }
  },
  {
   "cell_type": "code",
   "execution_count": 27,
   "outputs": [],
   "source": [
    "from highcharts_core.chart import Chart"
   ],
   "metadata": {
    "collapsed": false,
    "ExecuteTime": {
     "end_time": "2023-07-10T14:25:47.360277700Z",
     "start_time": "2023-07-10T14:25:47.340047900Z"
    }
   }
  },
  {
   "cell_type": "markdown",
   "source": [
    "## Prepare the Configuration"
   ],
   "metadata": {
    "collapsed": false
   }
  },
  {
   "cell_type": "code",
   "execution_count": 31,
   "outputs": [],
   "source": [
    "data = [3.5, 3, 3.2, 3.1, 3.6, 3.9, 3.4, 3.4, 2.9, 3.1, 3.7, 3.4, 3, 3,\n",
    "    4, 4.4, 3.9, 3.5, 3.8, 3.8, 3.4, 3.7, 3.6, 3.3, 3.4, 3, 3.4, 3.5, 3.4,\n",
    "    3.2, 3.1, 3.4, 4.1, 4.2, 3.1, 3.2, 3.5, 3.6, 3, 3.4, 3.5, 2.3, 3.2, 3.5,\n",
    "    3.8, 3, 3.8, 3.2, 3.7, 3.3, 3.2, 3.2, 3.1, 2.3, 2.8, 2.8, 3.3, 2.4, 2.9,\n",
    "    2.7, 2, 3, 2.2, 2.9, 2.9, 3.1, 3, 2.7, 2.2, 2.5, 3.2, 2.8, 2.5, 2.8, 2.9,\n",
    "    3, 2.8, 3, 2.9, 2.6, 2.4, 2.4, 2.7, 2.7, 3, 3.4, 3.1, 2.3, 3, 2.5, 2.6,\n",
    "    3, 2.6, 2.3, 2.7, 3, 2.9, 2.9, 2.5, 2.8, 3.3, 2.7, 3, 2.9, 3, 3, 2.5, 2.9,\n",
    "    2.5, 3.6, 3.2, 2.7, 3, 2.5, 2.8, 3.2, 3, 3.8, 2.6, 2.2, 3.2, 2.8, 2.8, 2.7,\n",
    "    3.3, 3.2, 2.8, 3, 2.8, 3, 2.8, 3.8, 2.8, 2.8, 2.6, 3, 3.4, 3.1, 3, 3.1,\n",
    "    3.1, 3.1, 2.7, 3.2, 3.3, 3, 2.5, 3, 3.4, 3]\n",
    "\n",
    "options_kwargs = {\n",
    "\n",
    "'legend': False,\n",
    "'series': [{\n",
    "      'name': 'Histogram',\n",
    "      'type': 'histogram',\n",
    "      'xAxis': 1,\n",
    "      'yAxis': 1,\n",
    "      'baseSeries': 's1',\n",
    "      'zIndex': -1\n",
    "}, {\n",
    "  'name': 'Data',\n",
    "  'type': 'histogram',\n",
    "  'data': data,\n",
    "  'id': 's1',\n",
    "  'marker': {\n",
    "    'radius': 1.5\n",
    "  },\n",
    "  'visible' : False\n",
    "}],\n",
    "'title': {\n",
    "'text': 'Distance histogram'\n",
    "},\n",
    "'xAxis': [{\n",
    "    'title': { 'text': '' },\n",
    "    'alignTicks': False\n",
    "}, {\n",
    "    'title': { 'text': '' },\n",
    "    'alignTicks': False,\n",
    "}],\n",
    "\n",
    "'yAxis': [{\n",
    "    'title': { 'text': '' }\n",
    "}, {\n",
    "    'title': { 'text': 'Histogram' },\n",
    "}],\n",
    "'plotOptions': {\n",
    "    'histogram': {\n",
    "        'accessibility': {\n",
    "            'point': {\n",
    "                'valueDescriptionFormat': '{index}. {point.x:.3f} to {point.x2:.3f}, {point.y}.'\n",
    "            }\n",
    "        }\n",
    "    }\n",
    "},\n",
    "}"
   ],
   "metadata": {
    "collapsed": false,
    "ExecuteTime": {
     "end_time": "2023-07-10T14:26:51.328119Z",
     "start_time": "2023-07-10T14:26:51.304935600Z"
    }
   }
  },
  {
   "cell_type": "markdown",
   "source": [
    "## Assemble the Chart"
   ],
   "metadata": {
    "collapsed": false
   }
  },
  {
   "cell_type": "code",
   "execution_count": 32,
   "outputs": [],
   "source": [
    "chart = Chart(options = options_kwargs)"
   ],
   "metadata": {
    "collapsed": false,
    "ExecuteTime": {
     "end_time": "2023-07-10T14:26:52.065393800Z",
     "start_time": "2023-07-10T14:26:52.026093200Z"
    }
   }
  },
  {
   "cell_type": "markdown",
   "source": [
    "## Display the Chart"
   ],
   "metadata": {
    "collapsed": false
   }
  },
  {
   "cell_type": "code",
   "execution_count": 33,
   "outputs": [
    {
     "data": {
      "text/plain": "<IPython.core.display.Javascript object>",
      "application/javascript": "new Promise(function(resolve, reject) {\n  var existing_tags = document.querySelectorAll(\"script[src='https://code.highcharts.com/highcharts.js']\");  if (existing_tags.length == 0) {\n        var script = document.createElement(\"script\");\n        script.onload = resolve;\n        script.onerror = reject;        script.src = 'https://code.highcharts.com/highcharts.js';        document.head.appendChild(script);\n    };\n}).then(() => {new Promise(function(resolve, reject) {\n  var existing_tags = document.querySelectorAll(\"script[src='https://code.highcharts.com/highcharts-more.js']\");  if (existing_tags.length == 0) {\n        var script = document.createElement(\"script\");\n        script.onload = resolve;\n        script.onerror = reject;        script.src = 'https://code.highcharts.com/highcharts-more.js';        document.head.appendChild(script);\n    };\n}).then(() => {new Promise(function(resolve, reject) {\n  var existing_tags = document.querySelectorAll(\"script[src='https://code.highcharts.com/highcharts-3d.js']\");  if (existing_tags.length == 0) {\n        var script = document.createElement(\"script\");\n        script.onload = resolve;\n        script.onerror = reject;        script.src = 'https://code.highcharts.com/highcharts-3d.js';        document.head.appendChild(script);\n    };\n}).then(() => {new Promise(function(resolve, reject) {\n  var existing_tags = document.querySelectorAll(\"script[src='https://code.highcharts.com/modules/sonification.js']\");  if (existing_tags.length == 0) {\n        var script = document.createElement(\"script\");\n        script.onload = resolve;\n        script.onerror = reject;        script.src = 'https://code.highcharts.com/modules/sonification.js';        document.head.appendChild(script);\n    };\n}).then(() => {new Promise(function(resolve, reject) {\n  var existing_tags = document.querySelectorAll(\"script[src='https://code.highcharts.com/modules/accessibility.js']\");  if (existing_tags.length == 0) {\n        var script = document.createElement(\"script\");\n        script.onload = resolve;\n        script.onerror = reject;        script.src = 'https://code.highcharts.com/modules/accessibility.js';        document.head.appendChild(script);\n    };\n}).then(() => {new Promise(function(resolve, reject) {\n  var existing_tags = document.querySelectorAll(\"script[src='https://code.highcharts.com/modules/annotations.js']\");  if (existing_tags.length == 0) {\n        var script = document.createElement(\"script\");\n        script.onload = resolve;\n        script.onerror = reject;        script.src = 'https://code.highcharts.com/modules/annotations.js';        document.head.appendChild(script);\n    };\n}).then(() => {new Promise(function(resolve, reject) {\n  var existing_tags = document.querySelectorAll(\"script[src='https://code.highcharts.com/modules/annotations-advanced.js']\");  if (existing_tags.length == 0) {\n        var script = document.createElement(\"script\");\n        script.onload = resolve;\n        script.onerror = reject;        script.src = 'https://code.highcharts.com/modules/annotations-advanced.js';        document.head.appendChild(script);\n    };\n}).then(() => {new Promise(function(resolve, reject) {\n  var existing_tags = document.querySelectorAll(\"script[src='https://code.highcharts.com/modules/sankey.js']\");  if (existing_tags.length == 0) {\n        var script = document.createElement(\"script\");\n        script.onload = resolve;\n        script.onerror = reject;        script.src = 'https://code.highcharts.com/modules/sankey.js';        document.head.appendChild(script);\n    };\n}).then(() => {new Promise(function(resolve, reject) {\n  var existing_tags = document.querySelectorAll(\"script[src='https://code.highcharts.com/modules/arc-diagram.js']\");  if (existing_tags.length == 0) {\n        var script = document.createElement(\"script\");\n        script.onload = resolve;\n        script.onerror = reject;        script.src = 'https://code.highcharts.com/modules/arc-diagram.js';        document.head.appendChild(script);\n    };\n}).then(() => {new Promise(function(resolve, reject) {\n  var existing_tags = document.querySelectorAll(\"script[src='https://code.highcharts.com/modules/boost.js']\");  if (existing_tags.length == 0) {\n        var script = document.createElement(\"script\");\n        script.onload = resolve;\n        script.onerror = reject;        script.src = 'https://code.highcharts.com/modules/boost.js';        document.head.appendChild(script);\n    };\n}).then(() => {new Promise(function(resolve, reject) {\n  var existing_tags = document.querySelectorAll(\"script[src='https://code.highcharts.com/modules/broken-axis.js']\");  if (existing_tags.length == 0) {\n        var script = document.createElement(\"script\");\n        script.onload = resolve;\n        script.onerror = reject;        script.src = 'https://code.highcharts.com/modules/broken-axis.js';        document.head.appendChild(script);\n    };\n}).then(() => {new Promise(function(resolve, reject) {\n  var existing_tags = document.querySelectorAll(\"script[src='https://code.highcharts.com/modules/bullet.js']\");  if (existing_tags.length == 0) {\n        var script = document.createElement(\"script\");\n        script.onload = resolve;\n        script.onerror = reject;        script.src = 'https://code.highcharts.com/modules/bullet.js';        document.head.appendChild(script);\n    };\n}).then(() => {new Promise(function(resolve, reject) {\n  var existing_tags = document.querySelectorAll(\"script[src='https://code.highcharts.com/modules/cylinder.js']\");  if (existing_tags.length == 0) {\n        var script = document.createElement(\"script\");\n        script.onload = resolve;\n        script.onerror = reject;        script.src = 'https://code.highcharts.com/modules/cylinder.js';        document.head.appendChild(script);\n    };\n}).then(() => {new Promise(function(resolve, reject) {\n  var existing_tags = document.querySelectorAll(\"script[src='https://code.highcharts.com/modules/data.js']\");  if (existing_tags.length == 0) {\n        var script = document.createElement(\"script\");\n        script.onload = resolve;\n        script.onerror = reject;        script.src = 'https://code.highcharts.com/modules/data.js';        document.head.appendChild(script);\n    };\n}).then(() => {new Promise(function(resolve, reject) {\n  var existing_tags = document.querySelectorAll(\"script[src='https://code.highcharts.com/modules/datagrouping.js']\");  if (existing_tags.length == 0) {\n        var script = document.createElement(\"script\");\n        script.onload = resolve;\n        script.onerror = reject;        script.src = 'https://code.highcharts.com/modules/datagrouping.js';        document.head.appendChild(script);\n    };\n}).then(() => {new Promise(function(resolve, reject) {\n  var existing_tags = document.querySelectorAll(\"script[src='https://code.highcharts.com/modules/debugger.js']\");  if (existing_tags.length == 0) {\n        var script = document.createElement(\"script\");\n        script.onload = resolve;\n        script.onerror = reject;        script.src = 'https://code.highcharts.com/modules/debugger.js';        document.head.appendChild(script);\n    };\n}).then(() => {new Promise(function(resolve, reject) {\n  var existing_tags = document.querySelectorAll(\"script[src='https://code.highcharts.com/modules/dependency-wheel.js']\");  if (existing_tags.length == 0) {\n        var script = document.createElement(\"script\");\n        script.onload = resolve;\n        script.onerror = reject;        script.src = 'https://code.highcharts.com/modules/dependency-wheel.js';        document.head.appendChild(script);\n    };\n}).then(() => {new Promise(function(resolve, reject) {\n  var existing_tags = document.querySelectorAll(\"script[src='https://code.highcharts.com/modules/drag-panes.js']\");  if (existing_tags.length == 0) {\n        var script = document.createElement(\"script\");\n        script.onload = resolve;\n        script.onerror = reject;        script.src = 'https://code.highcharts.com/modules/drag-panes.js';        document.head.appendChild(script);\n    };\n}).then(() => {new Promise(function(resolve, reject) {\n  var existing_tags = document.querySelectorAll(\"script[src='https://code.highcharts.com/modules/draggable-points.js']\");  if (existing_tags.length == 0) {\n        var script = document.createElement(\"script\");\n        script.onload = resolve;\n        script.onerror = reject;        script.src = 'https://code.highcharts.com/modules/draggable-points.js';        document.head.appendChild(script);\n    };\n}).then(() => {new Promise(function(resolve, reject) {\n  var existing_tags = document.querySelectorAll(\"script[src='https://code.highcharts.com/modules/drilldown.js']\");  if (existing_tags.length == 0) {\n        var script = document.createElement(\"script\");\n        script.onload = resolve;\n        script.onerror = reject;        script.src = 'https://code.highcharts.com/modules/drilldown.js';        document.head.appendChild(script);\n    };\n}).then(() => {new Promise(function(resolve, reject) {\n  var existing_tags = document.querySelectorAll(\"script[src='https://code.highcharts.com/modules/dumbbell.js']\");  if (existing_tags.length == 0) {\n        var script = document.createElement(\"script\");\n        script.onload = resolve;\n        script.onerror = reject;        script.src = 'https://code.highcharts.com/modules/dumbbell.js';        document.head.appendChild(script);\n    };\n}).then(() => {new Promise(function(resolve, reject) {\n  var existing_tags = document.querySelectorAll(\"script[src='https://code.highcharts.com/modules/export-data.js']\");  if (existing_tags.length == 0) {\n        var script = document.createElement(\"script\");\n        script.onload = resolve;\n        script.onerror = reject;        script.src = 'https://code.highcharts.com/modules/export-data.js';        document.head.appendChild(script);\n    };\n}).then(() => {new Promise(function(resolve, reject) {\n  var existing_tags = document.querySelectorAll(\"script[src='https://code.highcharts.com/modules/exporting.js']\");  if (existing_tags.length == 0) {\n        var script = document.createElement(\"script\");\n        script.onload = resolve;\n        script.onerror = reject;        script.src = 'https://code.highcharts.com/modules/exporting.js';        document.head.appendChild(script);\n    };\n}).then(() => {new Promise(function(resolve, reject) {\n  var existing_tags = document.querySelectorAll(\"script[src='https://code.highcharts.com/modules/funnel.js']\");  if (existing_tags.length == 0) {\n        var script = document.createElement(\"script\");\n        script.onload = resolve;\n        script.onerror = reject;        script.src = 'https://code.highcharts.com/modules/funnel.js';        document.head.appendChild(script);\n    };\n}).then(() => {new Promise(function(resolve, reject) {\n  var existing_tags = document.querySelectorAll(\"script[src='https://code.highcharts.com/modules/funnel3d.js']\");  if (existing_tags.length == 0) {\n        var script = document.createElement(\"script\");\n        script.onload = resolve;\n        script.onerror = reject;        script.src = 'https://code.highcharts.com/modules/funnel3d.js';        document.head.appendChild(script);\n    };\n}).then(() => {new Promise(function(resolve, reject) {\n  var existing_tags = document.querySelectorAll(\"script[src='https://code.highcharts.com/modules/heatmap.js']\");  if (existing_tags.length == 0) {\n        var script = document.createElement(\"script\");\n        script.onload = resolve;\n        script.onerror = reject;        script.src = 'https://code.highcharts.com/modules/heatmap.js';        document.head.appendChild(script);\n    };\n}).then(() => {new Promise(function(resolve, reject) {\n  var existing_tags = document.querySelectorAll(\"script[src='https://code.highcharts.com/modules/item-series.js']\");  if (existing_tags.length == 0) {\n        var script = document.createElement(\"script\");\n        script.onload = resolve;\n        script.onerror = reject;        script.src = 'https://code.highcharts.com/modules/item-series.js';        document.head.appendChild(script);\n    };\n}).then(() => {new Promise(function(resolve, reject) {\n  var existing_tags = document.querySelectorAll(\"script[src='https://code.highcharts.com/modules/lollipop.js']\");  if (existing_tags.length == 0) {\n        var script = document.createElement(\"script\");\n        script.onload = resolve;\n        script.onerror = reject;        script.src = 'https://code.highcharts.com/modules/lollipop.js';        document.head.appendChild(script);\n    };\n}).then(() => {new Promise(function(resolve, reject) {\n  var existing_tags = document.querySelectorAll(\"script[src='https://code.highcharts.com/modules/networkgraph.js']\");  if (existing_tags.length == 0) {\n        var script = document.createElement(\"script\");\n        script.onload = resolve;\n        script.onerror = reject;        script.src = 'https://code.highcharts.com/modules/networkgraph.js';        document.head.appendChild(script);\n    };\n}).then(() => {new Promise(function(resolve, reject) {\n  var existing_tags = document.querySelectorAll(\"script[src='https://code.highcharts.com/modules/no-data-to-display.js']\");  if (existing_tags.length == 0) {\n        var script = document.createElement(\"script\");\n        script.onload = resolve;\n        script.onerror = reject;        script.src = 'https://code.highcharts.com/modules/no-data-to-display.js';        document.head.appendChild(script);\n    };\n}).then(() => {new Promise(function(resolve, reject) {\n  var existing_tags = document.querySelectorAll(\"script[src='https://code.highcharts.com/modules/offline-exporting.js']\");  if (existing_tags.length == 0) {\n        var script = document.createElement(\"script\");\n        script.onload = resolve;\n        script.onerror = reject;        script.src = 'https://code.highcharts.com/modules/offline-exporting.js';        document.head.appendChild(script);\n    };\n}).then(() => {new Promise(function(resolve, reject) {\n  var existing_tags = document.querySelectorAll(\"script[src='https://code.highcharts.com/modules/oldie.js']\");  if (existing_tags.length == 0) {\n        var script = document.createElement(\"script\");\n        script.onload = resolve;\n        script.onerror = reject;        script.src = 'https://code.highcharts.com/modules/oldie.js';        document.head.appendChild(script);\n    };\n}).then(() => {new Promise(function(resolve, reject) {\n  var existing_tags = document.querySelectorAll(\"script[src='https://code.highcharts.com/modules/organization.js']\");  if (existing_tags.length == 0) {\n        var script = document.createElement(\"script\");\n        script.onload = resolve;\n        script.onerror = reject;        script.src = 'https://code.highcharts.com/modules/organization.js';        document.head.appendChild(script);\n    };\n}).then(() => {new Promise(function(resolve, reject) {\n  var existing_tags = document.querySelectorAll(\"script[src='https://code.highcharts.com/modules/parallel-coordinates.js']\");  if (existing_tags.length == 0) {\n        var script = document.createElement(\"script\");\n        script.onload = resolve;\n        script.onerror = reject;        script.src = 'https://code.highcharts.com/modules/parallel-coordinates.js';        document.head.appendChild(script);\n    };\n}).then(() => {new Promise(function(resolve, reject) {\n  var existing_tags = document.querySelectorAll(\"script[src='https://code.highcharts.com/modules/pareto.js']\");  if (existing_tags.length == 0) {\n        var script = document.createElement(\"script\");\n        script.onload = resolve;\n        script.onerror = reject;        script.src = 'https://code.highcharts.com/modules/pareto.js';        document.head.appendChild(script);\n    };\n}).then(() => {new Promise(function(resolve, reject) {\n  var existing_tags = document.querySelectorAll(\"script[src='https://code.highcharts.com/modules/pictorial.js']\");  if (existing_tags.length == 0) {\n        var script = document.createElement(\"script\");\n        script.onload = resolve;\n        script.onerror = reject;        script.src = 'https://code.highcharts.com/modules/pictorial.js';        document.head.appendChild(script);\n    };\n}).then(() => {new Promise(function(resolve, reject) {\n  var existing_tags = document.querySelectorAll(\"script[src='https://code.highcharts.com/modules/pyramid3d.js']\");  if (existing_tags.length == 0) {\n        var script = document.createElement(\"script\");\n        script.onload = resolve;\n        script.onerror = reject;        script.src = 'https://code.highcharts.com/modules/pyramid3d.js';        document.head.appendChild(script);\n    };\n}).then(() => {new Promise(function(resolve, reject) {\n  var existing_tags = document.querySelectorAll(\"script[src='https://code.highcharts.com/modules/series-label.js']\");  if (existing_tags.length == 0) {\n        var script = document.createElement(\"script\");\n        script.onload = resolve;\n        script.onerror = reject;        script.src = 'https://code.highcharts.com/modules/series-label.js';        document.head.appendChild(script);\n    };\n}).then(() => {new Promise(function(resolve, reject) {\n  var existing_tags = document.querySelectorAll(\"script[src='https://code.highcharts.com/modules/series-on-point.js']\");  if (existing_tags.length == 0) {\n        var script = document.createElement(\"script\");\n        script.onload = resolve;\n        script.onerror = reject;        script.src = 'https://code.highcharts.com/modules/series-on-point.js';        document.head.appendChild(script);\n    };\n}).then(() => {new Promise(function(resolve, reject) {\n  var existing_tags = document.querySelectorAll(\"script[src='https://code.highcharts.com/modules/solid-gauge.js']\");  if (existing_tags.length == 0) {\n        var script = document.createElement(\"script\");\n        script.onload = resolve;\n        script.onerror = reject;        script.src = 'https://code.highcharts.com/modules/solid-gauge.js';        document.head.appendChild(script);\n    };\n}).then(() => {new Promise(function(resolve, reject) {\n  var existing_tags = document.querySelectorAll(\"script[src='https://code.highcharts.com/modules/streamgraph.js']\");  if (existing_tags.length == 0) {\n        var script = document.createElement(\"script\");\n        script.onload = resolve;\n        script.onerror = reject;        script.src = 'https://code.highcharts.com/modules/streamgraph.js';        document.head.appendChild(script);\n    };\n}).then(() => {new Promise(function(resolve, reject) {\n  var existing_tags = document.querySelectorAll(\"script[src='https://code.highcharts.com/modules/sunburst.js']\");  if (existing_tags.length == 0) {\n        var script = document.createElement(\"script\");\n        script.onload = resolve;\n        script.onerror = reject;        script.src = 'https://code.highcharts.com/modules/sunburst.js';        document.head.appendChild(script);\n    };\n}).then(() => {new Promise(function(resolve, reject) {\n  var existing_tags = document.querySelectorAll(\"script[src='https://code.highcharts.com/modules/tilemap.js']\");  if (existing_tags.length == 0) {\n        var script = document.createElement(\"script\");\n        script.onload = resolve;\n        script.onerror = reject;        script.src = 'https://code.highcharts.com/modules/tilemap.js';        document.head.appendChild(script);\n    };\n}).then(() => {new Promise(function(resolve, reject) {\n  var existing_tags = document.querySelectorAll(\"script[src='https://code.highcharts.com/modules/timeline.js']\");  if (existing_tags.length == 0) {\n        var script = document.createElement(\"script\");\n        script.onload = resolve;\n        script.onerror = reject;        script.src = 'https://code.highcharts.com/modules/timeline.js';        document.head.appendChild(script);\n    };\n}).then(() => {new Promise(function(resolve, reject) {\n  var existing_tags = document.querySelectorAll(\"script[src='https://code.highcharts.com/modules/treegraph.js']\");  if (existing_tags.length == 0) {\n        var script = document.createElement(\"script\");\n        script.onload = resolve;\n        script.onerror = reject;        script.src = 'https://code.highcharts.com/modules/treegraph.js';        document.head.appendChild(script);\n    };\n}).then(() => {new Promise(function(resolve, reject) {\n  var existing_tags = document.querySelectorAll(\"script[src='https://code.highcharts.com/modules/treemap.js']\");  if (existing_tags.length == 0) {\n        var script = document.createElement(\"script\");\n        script.onload = resolve;\n        script.onerror = reject;        script.src = 'https://code.highcharts.com/modules/treemap.js';        document.head.appendChild(script);\n    };\n}).then(() => {new Promise(function(resolve, reject) {\n  var existing_tags = document.querySelectorAll(\"script[src='https://code.highcharts.com/modules/variable-pie.js']\");  if (existing_tags.length == 0) {\n        var script = document.createElement(\"script\");\n        script.onload = resolve;\n        script.onerror = reject;        script.src = 'https://code.highcharts.com/modules/variable-pie.js';        document.head.appendChild(script);\n    };\n}).then(() => {new Promise(function(resolve, reject) {\n  var existing_tags = document.querySelectorAll(\"script[src='https://code.highcharts.com/modules/variwide.js']\");  if (existing_tags.length == 0) {\n        var script = document.createElement(\"script\");\n        script.onload = resolve;\n        script.onerror = reject;        script.src = 'https://code.highcharts.com/modules/variwide.js';        document.head.appendChild(script);\n    };\n}).then(() => {new Promise(function(resolve, reject) {\n  var existing_tags = document.querySelectorAll(\"script[src='https://code.highcharts.com/modules/vector.js']\");  if (existing_tags.length == 0) {\n        var script = document.createElement(\"script\");\n        script.onload = resolve;\n        script.onerror = reject;        script.src = 'https://code.highcharts.com/modules/vector.js';        document.head.appendChild(script);\n    };\n}).then(() => {new Promise(function(resolve, reject) {\n  var existing_tags = document.querySelectorAll(\"script[src='https://code.highcharts.com/modules/venn.js']\");  if (existing_tags.length == 0) {\n        var script = document.createElement(\"script\");\n        script.onload = resolve;\n        script.onerror = reject;        script.src = 'https://code.highcharts.com/modules/venn.js';        document.head.appendChild(script);\n    };\n}).then(() => {new Promise(function(resolve, reject) {\n  var existing_tags = document.querySelectorAll(\"script[src='https://code.highcharts.com/modules/windbarb.js']\");  if (existing_tags.length == 0) {\n        var script = document.createElement(\"script\");\n        script.onload = resolve;\n        script.onerror = reject;        script.src = 'https://code.highcharts.com/modules/windbarb.js';        document.head.appendChild(script);\n    };\n}).then(() => {new Promise(function(resolve, reject) {\n  var existing_tags = document.querySelectorAll(\"script[src='https://code.highcharts.com/modules/wordcloud.js']\");  if (existing_tags.length == 0) {\n        var script = document.createElement(\"script\");\n        script.onload = resolve;\n        script.onerror = reject;        script.src = 'https://code.highcharts.com/modules/wordcloud.js';        document.head.appendChild(script);\n    };\n}).then(() => {new Promise(function(resolve, reject) {\n  var existing_tags = document.querySelectorAll(\"script[src='https://code.highcharts.com/modules/xrange.js']\");  if (existing_tags.length == 0) {\n        var script = document.createElement(\"script\");\n        script.onload = resolve;\n        script.onerror = reject;        script.src = 'https://code.highcharts.com/modules/xrange.js';        document.head.appendChild(script);\n    };\n}).then(() => {});});});});});});});});});});});});});});});});});});});});});});});});});});});});});});});});});});});});});});});});});});});});});});});});});});});});});"
     },
     "metadata": {},
     "output_type": "display_data"
    },
    {
     "data": {
      "text/plain": "<IPython.core.display.HTML object>",
      "text/html": "<div id=\"highcharts_container_77ZFOH\" style=\"width:100%; height:400;\"></div>\n"
     },
     "metadata": {},
     "output_type": "display_data"
    },
    {
     "data": {
      "text/plain": "<IPython.core.display.Javascript object>",
      "application/javascript": "function retryHighcharts(fn, container = 'highcharts_target_div', retries = 3, retriesLeft = 3, \n        interval = 1000) {\n            return new Promise((resolve, reject) => {\n            try {\n                fn()\n                return resolve();\n            } catch (err) {\n                if ((err instanceof ReferenceError) || (err instanceof TypeError)) {\n                    if (retriesLeft === 0) {\n                        var target_div = document.getElementById(container);\n                        if (target_div) {\n                            var timeElapsed = (retries * interval) / 1000;\n                            var errorMessage = \"Something went wrong with the Highcharts.js script. It should have been automatically loaded, but it did not load for over \" + timeElapsed + \" seconds. Check your internet connection, and then if the problem persists please reach out for support. (You can also check your browser's console log for more details.)\";\n                            var errorHTML = \"<p>\" + errorMessage + \"</p>\";\n                            target_div.innerHTML = errorMessage;\n                            console.log(errorMessage);\n                            console.error(err);\n                        }\n                        return reject();\n                    }\n\n                    setTimeout(() => {\n                        retryHighcharts(fn, container, retries, retriesLeft - 1, interval).then(resolve).catch(reject);\n                    }, interval);\n                } else if ((err instanceof Error) && (err.message.includes('#13'))) {\n                    var errorMessage = \"It looks like the container specified '\" + container + \"' was not created successfully. Please check your browser's console log for more details.\";\n                    console.error(errorMessage);\n                    console.error(err);\n                    \n                    return reject();\n                } else {\n                    throw err;\n                }\n            }\n        });\n    };function insertChart_77ZFOH() {\n\nHighcharts.chart('highcharts_container_77ZFOH',\n{\n  plotOptions: {\n  histogram: {\n  accessibility: {\n  point: {\n  valueDescriptionFormat: '{index}. {point.x:.3f} to {point.x2:.3f}, {point.y}.'\n}\n},\n  type: 'histogram'\n}\n},\n  series: [{\n  baseSeries: 's1',\n  name: 'Histogram',\n  xAxis: 1,\n  yAxis: 1,\n  zIndex: -1,\n  type: 'histogram'\n},\n{\n  id: 's1',\n  name: 'Data',\n  marker: {\n  radius: 1.5\n},\n  visible: false,\n  type: 'histogram'\n}],\n  title: {\n  text: 'Distance histogram'\n},\n  xAxis: [{\n  alignTicks: false\n},\n{\n  alignTicks: false\n}],\n  yAxis: [null,\n{\n  title: {\n  text: 'Histogram'\n}\n}]\n},\n);\n\n};\nretryHighcharts(insertChart_77ZFOH, 'highcharts_container_77ZFOH', 3, 3, 1000);"
     },
     "metadata": {},
     "output_type": "display_data"
    }
   ],
   "source": [
    "chart.display(container = 'highcharts_container')"
   ],
   "metadata": {
    "collapsed": false,
    "ExecuteTime": {
     "end_time": "2023-07-10T14:26:53.257099600Z",
     "start_time": "2023-07-10T14:26:53.097149900Z"
    }
   }
  },
  {
   "cell_type": "code",
   "execution_count": null,
   "outputs": [],
   "source": [],
   "metadata": {
    "collapsed": false
   }
  }
 ],
 "metadata": {
  "kernelspec": {
   "display_name": "Python 3",
   "language": "python",
   "name": "python3"
  },
  "language_info": {
   "codemirror_mode": {
    "name": "ipython",
    "version": 2
   },
   "file_extension": ".py",
   "mimetype": "text/x-python",
   "name": "python",
   "nbconvert_exporter": "python",
   "pygments_lexer": "ipython2",
   "version": "2.7.6"
  }
 },
 "nbformat": 4,
 "nbformat_minor": 0
}
