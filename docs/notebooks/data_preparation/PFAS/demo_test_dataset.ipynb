{
 "cells": [
  {
   "cell_type": "markdown",
   "source": [
    "# Create a demo and test dataset"
   ],
   "metadata": {
    "collapsed": false
   }
  },
  {
   "cell_type": "code",
   "execution_count": 2,
   "outputs": [],
   "source": [
    "import pandas as pd"
   ],
   "metadata": {
    "collapsed": false,
    "ExecuteTime": {
     "end_time": "2023-08-25T09:14:41.851145900Z",
     "start_time": "2023-08-25T09:14:40.583554700Z"
    }
   }
  },
  {
   "cell_type": "markdown",
   "source": [
    "## Data preparation\n",
    "After the soil and groundwater data cleaning, the datasets are merged into one. This result is saved as the demo dataset. Besides the demo dataset a test dataset is made based on a random selection of 100000 records of the demo dataset."
   ],
   "metadata": {
    "collapsed": false
   }
  },
  {
   "cell_type": "code",
   "execution_count": 8,
   "outputs": [
    {
     "name": "stderr",
     "output_type": "stream",
     "text": [
      "C:\\Users\\vandekgu\\AppData\\Local\\Temp\\ipykernel_17488\\3668698976.py:1: DtypeWarning: Columns (1) have mixed types. Specify dtype option on import or set low_memory=False.\n",
      "  df_groundwater = pd.read_csv('../../../../pygada/datasets/PFAS/gecombineerde_grondwater_dataset.csv', sep=';')\n",
      "C:\\Users\\vandekgu\\AppData\\Local\\Temp\\ipykernel_17488\\3668698976.py:3: DtypeWarning: Columns (1) have mixed types. Specify dtype option on import or set low_memory=False.\n",
      "  df_soil = pd.read_csv('../../../../pygada/datasets/PFAS/gecombineerde_bodem_dataset.csv', sep=';')\n"
     ]
    },
    {
     "data": {
      "text/plain": "        Unnamed: 0                   id                datum      x_m_L72  \\\n0                0  861/61/2-F2/MPF2101  2021-07-27 00:00:00  143922,4688   \n1                1  861/61/2-F2/MPF2101  2021-07-27 00:00:00  143922,4688   \n2                2  861/61/2-F2/MPF2101  2021-07-27 00:00:00  143922,4688   \n3                3  861/61/2-F2/MPF2101  2021-07-27 00:00:00  143922,4688   \n4                4  861/61/2-F2/MPF2101  2021-07-27 00:00:00  143922,4688   \n...            ...                  ...                  ...          ...   \n461237      100793                AD103                  NaN       152459   \n461238      100794                AD103                  NaN       152459   \n461239      100795                AD103                  NaN       152459   \n461240      100796                AD103                  NaN       152459   \n461241      100797                AD103                  NaN       152459   \n\n            y_m_L72 top_m_mv basis_m_mv  parameter detectieconditie  \\\n0       214154,2188      4,5          5      PFOSA                <   \n1       214154,2188      4,5          5       PFOA              NaN   \n2       214154,2188      4,5          5       PFDA                <   \n3       214154,2188      4,5          5  PFOStotal              NaN   \n4       214154,2188      4,5          5       PFBS              NaN   \n...             ...      ...        ...        ...              ...   \n461237       214707     11,4       11,9   10:2 FTS                <   \n461238       214707     11,4       11,9      PFBSA                <   \n461239       214707     11,4       11,9    MePFBSA                <   \n461240       214707     11,4       11,9   MePFBSAA                <   \n461241       214707     11,4       11,9     PFHxSA                <   \n\n       meetwaarde meeteenheid    bron       matrix  \n0               1        ng/l     VMM  Groundwater  \n1               2        ng/l     VMM  Groundwater  \n2               1        ng/l     VMM  Groundwater  \n3               1        ng/l     VMM  Groundwater  \n4              32        ng/l     VMM  Groundwater  \n...           ...         ...     ...          ...  \n461237          1    µg/kg ds  Lantis         Soil  \n461238          1    µg/kg ds  Lantis         Soil  \n461239          1    µg/kg ds  Lantis         Soil  \n461240          1    µg/kg ds  Lantis         Soil  \n461241          1    µg/kg ds  Lantis         Soil  \n\n[461242 rows x 13 columns]",
      "text/html": "<div>\n<style scoped>\n    .dataframe tbody tr th:only-of-type {\n        vertical-align: middle;\n    }\n\n    .dataframe tbody tr th {\n        vertical-align: top;\n    }\n\n    .dataframe thead th {\n        text-align: right;\n    }\n</style>\n<table border=\"1\" class=\"dataframe\">\n  <thead>\n    <tr style=\"text-align: right;\">\n      <th></th>\n      <th>Unnamed: 0</th>\n      <th>id</th>\n      <th>datum</th>\n      <th>x_m_L72</th>\n      <th>y_m_L72</th>\n      <th>top_m_mv</th>\n      <th>basis_m_mv</th>\n      <th>parameter</th>\n      <th>detectieconditie</th>\n      <th>meetwaarde</th>\n      <th>meeteenheid</th>\n      <th>bron</th>\n      <th>matrix</th>\n    </tr>\n  </thead>\n  <tbody>\n    <tr>\n      <th>0</th>\n      <td>0</td>\n      <td>861/61/2-F2/MPF2101</td>\n      <td>2021-07-27 00:00:00</td>\n      <td>143922,4688</td>\n      <td>214154,2188</td>\n      <td>4,5</td>\n      <td>5</td>\n      <td>PFOSA</td>\n      <td>&lt;</td>\n      <td>1</td>\n      <td>ng/l</td>\n      <td>VMM</td>\n      <td>Groundwater</td>\n    </tr>\n    <tr>\n      <th>1</th>\n      <td>1</td>\n      <td>861/61/2-F2/MPF2101</td>\n      <td>2021-07-27 00:00:00</td>\n      <td>143922,4688</td>\n      <td>214154,2188</td>\n      <td>4,5</td>\n      <td>5</td>\n      <td>PFOA</td>\n      <td>NaN</td>\n      <td>2</td>\n      <td>ng/l</td>\n      <td>VMM</td>\n      <td>Groundwater</td>\n    </tr>\n    <tr>\n      <th>2</th>\n      <td>2</td>\n      <td>861/61/2-F2/MPF2101</td>\n      <td>2021-07-27 00:00:00</td>\n      <td>143922,4688</td>\n      <td>214154,2188</td>\n      <td>4,5</td>\n      <td>5</td>\n      <td>PFDA</td>\n      <td>&lt;</td>\n      <td>1</td>\n      <td>ng/l</td>\n      <td>VMM</td>\n      <td>Groundwater</td>\n    </tr>\n    <tr>\n      <th>3</th>\n      <td>3</td>\n      <td>861/61/2-F2/MPF2101</td>\n      <td>2021-07-27 00:00:00</td>\n      <td>143922,4688</td>\n      <td>214154,2188</td>\n      <td>4,5</td>\n      <td>5</td>\n      <td>PFOStotal</td>\n      <td>NaN</td>\n      <td>1</td>\n      <td>ng/l</td>\n      <td>VMM</td>\n      <td>Groundwater</td>\n    </tr>\n    <tr>\n      <th>4</th>\n      <td>4</td>\n      <td>861/61/2-F2/MPF2101</td>\n      <td>2021-07-27 00:00:00</td>\n      <td>143922,4688</td>\n      <td>214154,2188</td>\n      <td>4,5</td>\n      <td>5</td>\n      <td>PFBS</td>\n      <td>NaN</td>\n      <td>32</td>\n      <td>ng/l</td>\n      <td>VMM</td>\n      <td>Groundwater</td>\n    </tr>\n    <tr>\n      <th>...</th>\n      <td>...</td>\n      <td>...</td>\n      <td>...</td>\n      <td>...</td>\n      <td>...</td>\n      <td>...</td>\n      <td>...</td>\n      <td>...</td>\n      <td>...</td>\n      <td>...</td>\n      <td>...</td>\n      <td>...</td>\n      <td>...</td>\n    </tr>\n    <tr>\n      <th>461237</th>\n      <td>100793</td>\n      <td>AD103</td>\n      <td>NaN</td>\n      <td>152459</td>\n      <td>214707</td>\n      <td>11,4</td>\n      <td>11,9</td>\n      <td>10:2 FTS</td>\n      <td>&lt;</td>\n      <td>1</td>\n      <td>µg/kg ds</td>\n      <td>Lantis</td>\n      <td>Soil</td>\n    </tr>\n    <tr>\n      <th>461238</th>\n      <td>100794</td>\n      <td>AD103</td>\n      <td>NaN</td>\n      <td>152459</td>\n      <td>214707</td>\n      <td>11,4</td>\n      <td>11,9</td>\n      <td>PFBSA</td>\n      <td>&lt;</td>\n      <td>1</td>\n      <td>µg/kg ds</td>\n      <td>Lantis</td>\n      <td>Soil</td>\n    </tr>\n    <tr>\n      <th>461239</th>\n      <td>100795</td>\n      <td>AD103</td>\n      <td>NaN</td>\n      <td>152459</td>\n      <td>214707</td>\n      <td>11,4</td>\n      <td>11,9</td>\n      <td>MePFBSA</td>\n      <td>&lt;</td>\n      <td>1</td>\n      <td>µg/kg ds</td>\n      <td>Lantis</td>\n      <td>Soil</td>\n    </tr>\n    <tr>\n      <th>461240</th>\n      <td>100796</td>\n      <td>AD103</td>\n      <td>NaN</td>\n      <td>152459</td>\n      <td>214707</td>\n      <td>11,4</td>\n      <td>11,9</td>\n      <td>MePFBSAA</td>\n      <td>&lt;</td>\n      <td>1</td>\n      <td>µg/kg ds</td>\n      <td>Lantis</td>\n      <td>Soil</td>\n    </tr>\n    <tr>\n      <th>461241</th>\n      <td>100797</td>\n      <td>AD103</td>\n      <td>NaN</td>\n      <td>152459</td>\n      <td>214707</td>\n      <td>11,4</td>\n      <td>11,9</td>\n      <td>PFHxSA</td>\n      <td>&lt;</td>\n      <td>1</td>\n      <td>µg/kg ds</td>\n      <td>Lantis</td>\n      <td>Soil</td>\n    </tr>\n  </tbody>\n</table>\n<p>461242 rows × 13 columns</p>\n</div>"
     },
     "execution_count": 8,
     "metadata": {},
     "output_type": "execute_result"
    }
   ],
   "source": [
    "df_groundwater = pd.read_csv('../../../../pygada/datasets/PFAS/gecombineerde_grondwater_dataset.csv', sep=';')\n",
    "df_groundwater['matrix'] = 'Groundwater'\n",
    "df_soil = pd.read_csv('../../../../pygada/datasets/PFAS/gecombineerde_bodem_dataset.csv', sep=';')\n",
    "df_soil['matrix'] = 'Soil'\n",
    "dataset = pd.concat([df_groundwater, df_soil])\n",
    "dataset = dataset.reset_index(drop=True)\n",
    "dataset"
   ],
   "metadata": {
    "collapsed": false,
    "ExecuteTime": {
     "end_time": "2023-08-25T09:29:31.117955500Z",
     "start_time": "2023-08-25T09:29:30.494513100Z"
    }
   }
  },
  {
   "cell_type": "code",
   "execution_count": 9,
   "outputs": [
    {
     "ename": "KeyError",
     "evalue": "\"['date', 'detection_condition', 'value', 'unit', 'source'] not in index\"",
     "output_type": "error",
     "traceback": [
      "\u001B[1;31m---------------------------------------------------------------------------\u001B[0m",
      "\u001B[1;31mKeyError\u001B[0m                                  Traceback (most recent call last)",
      "Cell \u001B[1;32mIn[9], line 3\u001B[0m\n\u001B[0;32m      1\u001B[0m \u001B[38;5;66;03m# change to filtering part\u001B[39;00m\n\u001B[0;32m      2\u001B[0m dataset \u001B[38;5;241m=\u001B[39m dataset\u001B[38;5;241m.\u001B[39mrename(columns\u001B[38;5;241m=\u001B[39m{\u001B[38;5;124m'\u001B[39m\u001B[38;5;124mx_m_L72\u001B[39m\u001B[38;5;124m'\u001B[39m: \u001B[38;5;124m'\u001B[39m\u001B[38;5;124mx\u001B[39m\u001B[38;5;124m'\u001B[39m, \u001B[38;5;124m'\u001B[39m\u001B[38;5;124my_m_L72\u001B[39m\u001B[38;5;124m'\u001B[39m: \u001B[38;5;124m'\u001B[39m\u001B[38;5;124my\u001B[39m\u001B[38;5;124m'\u001B[39m, \u001B[38;5;124m'\u001B[39m\u001B[38;5;124mtop_m_mv\u001B[39m\u001B[38;5;124m'\u001B[39m: \u001B[38;5;124m'\u001B[39m\u001B[38;5;124mtop\u001B[39m\u001B[38;5;124m'\u001B[39m, \u001B[38;5;124m'\u001B[39m\u001B[38;5;124mbasis_m_mv\u001B[39m\u001B[38;5;124m'\u001B[39m: \u001B[38;5;124m'\u001B[39m\u001B[38;5;124mbasis\u001B[39m\u001B[38;5;124m'\u001B[39m})\n\u001B[1;32m----> 3\u001B[0m dataset \u001B[38;5;241m=\u001B[39m \u001B[43mdataset\u001B[49m\u001B[43m[\u001B[49m\u001B[43m[\u001B[49m\u001B[38;5;124;43m'\u001B[39;49m\u001B[38;5;124;43mid\u001B[39;49m\u001B[38;5;124;43m'\u001B[39;49m\u001B[43m,\u001B[49m\u001B[43m \u001B[49m\u001B[38;5;124;43m'\u001B[39;49m\u001B[38;5;124;43mdate\u001B[39;49m\u001B[38;5;124;43m'\u001B[39;49m\u001B[43m,\u001B[49m\u001B[43m \u001B[49m\u001B[38;5;124;43m'\u001B[39;49m\u001B[38;5;124;43mx\u001B[39;49m\u001B[38;5;124;43m'\u001B[39;49m\u001B[43m,\u001B[49m\u001B[43m \u001B[49m\u001B[38;5;124;43m'\u001B[39;49m\u001B[38;5;124;43my\u001B[39;49m\u001B[38;5;124;43m'\u001B[39;49m\u001B[43m,\u001B[49m\u001B[43m \u001B[49m\u001B[38;5;124;43m'\u001B[39;49m\u001B[38;5;124;43mtop\u001B[39;49m\u001B[38;5;124;43m'\u001B[39;49m\u001B[43m,\u001B[49m\u001B[43m \u001B[49m\u001B[38;5;124;43m'\u001B[39;49m\u001B[38;5;124;43mbasis\u001B[39;49m\u001B[38;5;124;43m'\u001B[39;49m\u001B[43m,\u001B[49m\u001B[43m \u001B[49m\u001B[38;5;124;43m'\u001B[39;49m\u001B[38;5;124;43mparameter\u001B[39;49m\u001B[38;5;124;43m'\u001B[39;49m\u001B[43m,\u001B[49m\u001B[43m \u001B[49m\u001B[38;5;124;43m'\u001B[39;49m\u001B[38;5;124;43mdetection_condition\u001B[39;49m\u001B[38;5;124;43m'\u001B[39;49m\u001B[43m,\u001B[49m\u001B[43m \u001B[49m\u001B[38;5;124;43m'\u001B[39;49m\u001B[38;5;124;43mvalue\u001B[39;49m\u001B[38;5;124;43m'\u001B[39;49m\u001B[43m,\u001B[49m\u001B[43m \u001B[49m\u001B[38;5;124;43m'\u001B[39;49m\u001B[38;5;124;43munit\u001B[39;49m\u001B[38;5;124;43m'\u001B[39;49m\u001B[43m,\u001B[49m\u001B[43m \u001B[49m\u001B[38;5;124;43m'\u001B[39;49m\u001B[38;5;124;43msource\u001B[39;49m\u001B[38;5;124;43m'\u001B[39;49m\u001B[43m,\u001B[49m\u001B[43m \u001B[49m\u001B[38;5;124;43m'\u001B[39;49m\u001B[38;5;124;43mmatrix\u001B[39;49m\u001B[38;5;124;43m'\u001B[39;49m\u001B[43m]\u001B[49m\u001B[43m]\u001B[49m\n\u001B[0;32m      4\u001B[0m dataset \n",
      "File \u001B[1;32m~\\.conda\\envs\\pygada\\lib\\site-packages\\pandas\\core\\frame.py:3811\u001B[0m, in \u001B[0;36mDataFrame.__getitem__\u001B[1;34m(self, key)\u001B[0m\n\u001B[0;32m   3809\u001B[0m     \u001B[38;5;28;01mif\u001B[39;00m is_iterator(key):\n\u001B[0;32m   3810\u001B[0m         key \u001B[38;5;241m=\u001B[39m \u001B[38;5;28mlist\u001B[39m(key)\n\u001B[1;32m-> 3811\u001B[0m     indexer \u001B[38;5;241m=\u001B[39m \u001B[38;5;28;43mself\u001B[39;49m\u001B[38;5;241;43m.\u001B[39;49m\u001B[43mcolumns\u001B[49m\u001B[38;5;241;43m.\u001B[39;49m\u001B[43m_get_indexer_strict\u001B[49m\u001B[43m(\u001B[49m\u001B[43mkey\u001B[49m\u001B[43m,\u001B[49m\u001B[43m \u001B[49m\u001B[38;5;124;43m\"\u001B[39;49m\u001B[38;5;124;43mcolumns\u001B[39;49m\u001B[38;5;124;43m\"\u001B[39;49m\u001B[43m)\u001B[49m[\u001B[38;5;241m1\u001B[39m]\n\u001B[0;32m   3813\u001B[0m \u001B[38;5;66;03m# take() does not accept boolean indexers\u001B[39;00m\n\u001B[0;32m   3814\u001B[0m \u001B[38;5;28;01mif\u001B[39;00m \u001B[38;5;28mgetattr\u001B[39m(indexer, \u001B[38;5;124m\"\u001B[39m\u001B[38;5;124mdtype\u001B[39m\u001B[38;5;124m\"\u001B[39m, \u001B[38;5;28;01mNone\u001B[39;00m) \u001B[38;5;241m==\u001B[39m \u001B[38;5;28mbool\u001B[39m:\n",
      "File \u001B[1;32m~\\.conda\\envs\\pygada\\lib\\site-packages\\pandas\\core\\indexes\\base.py:6108\u001B[0m, in \u001B[0;36mIndex._get_indexer_strict\u001B[1;34m(self, key, axis_name)\u001B[0m\n\u001B[0;32m   6105\u001B[0m \u001B[38;5;28;01melse\u001B[39;00m:\n\u001B[0;32m   6106\u001B[0m     keyarr, indexer, new_indexer \u001B[38;5;241m=\u001B[39m \u001B[38;5;28mself\u001B[39m\u001B[38;5;241m.\u001B[39m_reindex_non_unique(keyarr)\n\u001B[1;32m-> 6108\u001B[0m \u001B[38;5;28;43mself\u001B[39;49m\u001B[38;5;241;43m.\u001B[39;49m\u001B[43m_raise_if_missing\u001B[49m\u001B[43m(\u001B[49m\u001B[43mkeyarr\u001B[49m\u001B[43m,\u001B[49m\u001B[43m \u001B[49m\u001B[43mindexer\u001B[49m\u001B[43m,\u001B[49m\u001B[43m \u001B[49m\u001B[43maxis_name\u001B[49m\u001B[43m)\u001B[49m\n\u001B[0;32m   6110\u001B[0m keyarr \u001B[38;5;241m=\u001B[39m \u001B[38;5;28mself\u001B[39m\u001B[38;5;241m.\u001B[39mtake(indexer)\n\u001B[0;32m   6111\u001B[0m \u001B[38;5;28;01mif\u001B[39;00m \u001B[38;5;28misinstance\u001B[39m(key, Index):\n\u001B[0;32m   6112\u001B[0m     \u001B[38;5;66;03m# GH 42790 - Preserve name from an Index\u001B[39;00m\n",
      "File \u001B[1;32m~\\.conda\\envs\\pygada\\lib\\site-packages\\pandas\\core\\indexes\\base.py:6171\u001B[0m, in \u001B[0;36mIndex._raise_if_missing\u001B[1;34m(self, key, indexer, axis_name)\u001B[0m\n\u001B[0;32m   6168\u001B[0m     \u001B[38;5;28;01mraise\u001B[39;00m \u001B[38;5;167;01mKeyError\u001B[39;00m(\u001B[38;5;124mf\u001B[39m\u001B[38;5;124m\"\u001B[39m\u001B[38;5;124mNone of [\u001B[39m\u001B[38;5;132;01m{\u001B[39;00mkey\u001B[38;5;132;01m}\u001B[39;00m\u001B[38;5;124m] are in the [\u001B[39m\u001B[38;5;132;01m{\u001B[39;00maxis_name\u001B[38;5;132;01m}\u001B[39;00m\u001B[38;5;124m]\u001B[39m\u001B[38;5;124m\"\u001B[39m)\n\u001B[0;32m   6170\u001B[0m not_found \u001B[38;5;241m=\u001B[39m \u001B[38;5;28mlist\u001B[39m(ensure_index(key)[missing_mask\u001B[38;5;241m.\u001B[39mnonzero()[\u001B[38;5;241m0\u001B[39m]]\u001B[38;5;241m.\u001B[39munique())\n\u001B[1;32m-> 6171\u001B[0m \u001B[38;5;28;01mraise\u001B[39;00m \u001B[38;5;167;01mKeyError\u001B[39;00m(\u001B[38;5;124mf\u001B[39m\u001B[38;5;124m\"\u001B[39m\u001B[38;5;132;01m{\u001B[39;00mnot_found\u001B[38;5;132;01m}\u001B[39;00m\u001B[38;5;124m not in index\u001B[39m\u001B[38;5;124m\"\u001B[39m)\n",
      "\u001B[1;31mKeyError\u001B[0m: \"['date', 'detection_condition', 'value', 'unit', 'source'] not in index\""
     ]
    }
   ],
   "source": [
    "# change to filtering part\n",
    "# dataset = dataset.rename(columns={'x_m_L72': 'x', 'y_m_L72': 'y', 'top_m_mv': 'top', 'basis_m_mv': 'basis'})\n",
    "# dataset = dataset[['id', 'date', 'x', 'y', 'top', 'basis', 'parameter', 'detection_condition', 'value', 'unit', 'source', 'matrix']]"
   ],
   "metadata": {
    "collapsed": false,
    "ExecuteTime": {
     "end_time": "2023-08-25T09:29:59.735392600Z",
     "start_time": "2023-08-25T09:29:58.889038600Z"
    }
   }
  },
  {
   "cell_type": "markdown",
   "source": [
    "### Demo dataset"
   ],
   "metadata": {
    "collapsed": false
   }
  },
  {
   "cell_type": "code",
   "execution_count": 4,
   "outputs": [],
   "source": [
    "demo_dataset = dataset.copy()\n",
    "demo_dataset.to_csv('../../../../pygada/datasets/PFAS/demo_dataset.txt', encoding='utf-8-sig')"
   ],
   "metadata": {
    "collapsed": false,
    "ExecuteTime": {
     "end_time": "2023-08-18T14:33:37.242514Z",
     "start_time": "2023-08-18T14:33:34.659551700Z"
    }
   }
  },
  {
   "cell_type": "markdown",
   "source": [
    "### Test dataset"
   ],
   "metadata": {
    "collapsed": false
   }
  },
  {
   "cell_type": "code",
   "execution_count": 5,
   "outputs": [],
   "source": [
    "test_dataset = dataset.copy()\n",
    "test_dataset = test_dataset.sample(n=100000, random_state=1)\n",
    "test_dataset.to_csv('../../../../pygada/datasets/PFAS/test_dataset.txt', encoding='utf-8-sig')"
   ],
   "metadata": {
    "collapsed": false,
    "ExecuteTime": {
     "end_time": "2023-08-18T14:33:37.947453900Z",
     "start_time": "2023-08-18T14:33:37.247121800Z"
    }
   }
  }
 ],
 "metadata": {
  "kernelspec": {
   "display_name": "Python 3",
   "language": "python",
   "name": "python3"
  },
  "language_info": {
   "codemirror_mode": {
    "name": "ipython",
    "version": 2
   },
   "file_extension": ".py",
   "mimetype": "text/x-python",
   "name": "python",
   "nbconvert_exporter": "python",
   "pygments_lexer": "ipython2",
   "version": "2.7.6"
  }
 },
 "nbformat": 4,
 "nbformat_minor": 0
}
