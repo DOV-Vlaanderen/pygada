{
 "cells": [
  {
   "cell_type": "markdown",
   "source": [
    "## Import Dependencies"
   ],
   "metadata": {
    "collapsed": false
   }
  },
  {
   "cell_type": "code",
   "execution_count": 2,
   "outputs": [],
   "source": [
    "from highcharts_core.chart import Chart\n",
    "from highcharts_core.options.series.bar import BarSeries\n",
    "import pandas"
   ],
   "metadata": {
    "collapsed": false,
    "ExecuteTime": {
     "end_time": "2023-06-02T08:47:09.524159800Z",
     "start_time": "2023-06-02T08:47:09.515057700Z"
    }
   }
  },
  {
   "cell_type": "markdown",
   "source": [
    "## Prepare the Configuration"
   ],
   "metadata": {
    "collapsed": false
   }
  },
  {
   "cell_type": "code",
   "execution_count": 3,
   "outputs": [],
   "source": [
    "options_kwargs = {\n",
    "\n",
    "    'title': {\n",
    "        'text': 'Highcharts Box Plot Example'\n",
    "    },\n",
    "\n",
    "    'legend': {\n",
    "        'enabled': True\n",
    "    },\n",
    "\n",
    "    'xAxis': {\n",
    "        'categories': ['1', '2', '3', '4', '5'],\n",
    "        'title': {\n",
    "            'text': 'Experiment No.'\n",
    "        }\n",
    "    },\n",
    "\n",
    "    'yAxis': {\n",
    "        'title': {\n",
    "            'text': 'Observations'\n",
    "        }\n",
    "    }\n",
    "}"
   ],
   "metadata": {
    "collapsed": false,
    "ExecuteTime": {
     "end_time": "2023-06-02T08:47:11.768055Z",
     "start_time": "2023-06-02T08:47:11.758786400Z"
    }
   }
  },
  {
   "cell_type": "markdown",
   "source": [
    "## Populate the Dataframe"
   ],
   "metadata": {
    "collapsed": false
   }
  },
  {
   "cell_type": "code",
   "execution_count": 4,
   "outputs": [
    {
     "data": {
      "text/plain": "    Installation & Developers  Manufacturing  Sales & Distribution  \\\n0                       43934          24916                 11744   \n1                       48656          37941                 30000   \n2                       65165          29742                 16005   \n3                       81827          29851                 19771   \n4                      112143          32490                 20185   \n5                      142383          30282                 24377   \n6                      171533          38121                 32147   \n7                      165174          36885                 30912   \n8                      155157          33726                 29243   \n9                      161454          34243                 29213   \n10                     154610          31050                 25663   \n\n    Operations & Maintenance  Other  \n0                        NaN  21908  \n1                        NaN   5548  \n2                        NaN   8105  \n3                        NaN  11248  \n4                        NaN   8989  \n5                        NaN  11816  \n6                        NaN  18274  \n7                        NaN  17300  \n8                    11164.0  13053  \n9                    11218.0  11906  \n10                   10077.0  10073  ",
      "text/html": "<div>\n<style scoped>\n    .dataframe tbody tr th:only-of-type {\n        vertical-align: middle;\n    }\n\n    .dataframe tbody tr th {\n        vertical-align: top;\n    }\n\n    .dataframe thead th {\n        text-align: right;\n    }\n</style>\n<table border=\"1\" class=\"dataframe\">\n  <thead>\n    <tr style=\"text-align: right;\">\n      <th></th>\n      <th>Installation &amp; Developers</th>\n      <th>Manufacturing</th>\n      <th>Sales &amp; Distribution</th>\n      <th>Operations &amp; Maintenance</th>\n      <th>Other</th>\n    </tr>\n  </thead>\n  <tbody>\n    <tr>\n      <th>0</th>\n      <td>43934</td>\n      <td>24916</td>\n      <td>11744</td>\n      <td>NaN</td>\n      <td>21908</td>\n    </tr>\n    <tr>\n      <th>1</th>\n      <td>48656</td>\n      <td>37941</td>\n      <td>30000</td>\n      <td>NaN</td>\n      <td>5548</td>\n    </tr>\n    <tr>\n      <th>2</th>\n      <td>65165</td>\n      <td>29742</td>\n      <td>16005</td>\n      <td>NaN</td>\n      <td>8105</td>\n    </tr>\n    <tr>\n      <th>3</th>\n      <td>81827</td>\n      <td>29851</td>\n      <td>19771</td>\n      <td>NaN</td>\n      <td>11248</td>\n    </tr>\n    <tr>\n      <th>4</th>\n      <td>112143</td>\n      <td>32490</td>\n      <td>20185</td>\n      <td>NaN</td>\n      <td>8989</td>\n    </tr>\n    <tr>\n      <th>5</th>\n      <td>142383</td>\n      <td>30282</td>\n      <td>24377</td>\n      <td>NaN</td>\n      <td>11816</td>\n    </tr>\n    <tr>\n      <th>6</th>\n      <td>171533</td>\n      <td>38121</td>\n      <td>32147</td>\n      <td>NaN</td>\n      <td>18274</td>\n    </tr>\n    <tr>\n      <th>7</th>\n      <td>165174</td>\n      <td>36885</td>\n      <td>30912</td>\n      <td>NaN</td>\n      <td>17300</td>\n    </tr>\n    <tr>\n      <th>8</th>\n      <td>155157</td>\n      <td>33726</td>\n      <td>29243</td>\n      <td>11164.0</td>\n      <td>13053</td>\n    </tr>\n    <tr>\n      <th>9</th>\n      <td>161454</td>\n      <td>34243</td>\n      <td>29213</td>\n      <td>11218.0</td>\n      <td>11906</td>\n    </tr>\n    <tr>\n      <th>10</th>\n      <td>154610</td>\n      <td>31050</td>\n      <td>25663</td>\n      <td>10077.0</td>\n      <td>10073</td>\n    </tr>\n  </tbody>\n</table>\n</div>"
     },
     "execution_count": 4,
     "metadata": {},
     "output_type": "execute_result"
    }
   ],
   "source": [
    "df = pandas.read_csv('from-pandas.csv')\n",
    "df"
   ],
   "metadata": {
    "collapsed": false,
    "ExecuteTime": {
     "end_time": "2023-06-02T08:47:14.054063100Z",
     "start_time": "2023-06-02T08:47:14.007441300Z"
    }
   }
  },
  {
   "cell_type": "markdown",
   "source": [
    "## Create the Series"
   ],
   "metadata": {
    "collapsed": false
   }
  },
  {
   "cell_type": "code",
   "execution_count": 13,
   "outputs": [],
   "source": [
    "series_columns = ['Installation & Developers',\n",
    "                  'Manufacturing',\n",
    "                  'Sales & Distribution',\n",
    "                  'Operations & Maintenance',\n",
    "                  'Other']\n",
    "series = [BarSeries.from_pandas(df, property_map = {'y': x}, series_kwargs = {'name': x}) for x in series_columns]"
   ],
   "metadata": {
    "collapsed": false,
    "ExecuteTime": {
     "end_time": "2023-06-02T10:24:16.542035200Z",
     "start_time": "2023-06-02T10:24:16.513169600Z"
    }
   }
  },
  {
   "cell_type": "markdown",
   "source": [
    "## Assemble the Chart"
   ],
   "metadata": {
    "collapsed": false
   }
  },
  {
   "cell_type": "code",
   "execution_count": 6,
   "outputs": [],
   "source": [
    "chart = Chart(options = options_kwargs)\n",
    "chart.add_series(*series)"
   ],
   "metadata": {
    "collapsed": false,
    "ExecuteTime": {
     "end_time": "2023-06-02T08:47:20.559294400Z",
     "start_time": "2023-06-02T08:47:20.548665500Z"
    }
   }
  },
  {
   "cell_type": "markdown",
   "source": [
    "## Display the Chart"
   ],
   "metadata": {
    "collapsed": false
   }
  },
  {
   "cell_type": "code",
   "execution_count": 7,
   "outputs": [
    {
     "data": {
      "text/plain": "<IPython.core.display.Javascript object>",
      "application/javascript": "new Promise(function(resolve, reject) {\n  var existing_tags = document.querySelectorAll(\"script[src='https://code.highcharts.com/highcharts.js']\");  if (existing_tags.length == 0) {\n        var script = document.createElement(\"script\");\n        script.onload = resolve;\n        script.onerror = reject;        script.src = 'https://code.highcharts.com/highcharts.js';        document.head.appendChild(script);\n    };\n}).then(() => {new Promise(function(resolve, reject) {\n  var existing_tags = document.querySelectorAll(\"script[src='https://code.highcharts.com/highcharts-more.js']\");  if (existing_tags.length == 0) {\n        var script = document.createElement(\"script\");\n        script.onload = resolve;\n        script.onerror = reject;        script.src = 'https://code.highcharts.com/highcharts-more.js';        document.head.appendChild(script);\n    };\n}).then(() => {new Promise(function(resolve, reject) {\n  var existing_tags = document.querySelectorAll(\"script[src='https://code.highcharts.com/highcharts-3d.js']\");  if (existing_tags.length == 0) {\n        var script = document.createElement(\"script\");\n        script.onload = resolve;\n        script.onerror = reject;        script.src = 'https://code.highcharts.com/highcharts-3d.js';        document.head.appendChild(script);\n    };\n}).then(() => {new Promise(function(resolve, reject) {\n  var existing_tags = document.querySelectorAll(\"script[src='https://code.highcharts.com/modules/sonification.js']\");  if (existing_tags.length == 0) {\n        var script = document.createElement(\"script\");\n        script.onload = resolve;\n        script.onerror = reject;        script.src = 'https://code.highcharts.com/modules/sonification.js';        document.head.appendChild(script);\n    };\n}).then(() => {new Promise(function(resolve, reject) {\n  var existing_tags = document.querySelectorAll(\"script[src='https://code.highcharts.com/modules/accessibility.js']\");  if (existing_tags.length == 0) {\n        var script = document.createElement(\"script\");\n        script.onload = resolve;\n        script.onerror = reject;        script.src = 'https://code.highcharts.com/modules/accessibility.js';        document.head.appendChild(script);\n    };\n}).then(() => {new Promise(function(resolve, reject) {\n  var existing_tags = document.querySelectorAll(\"script[src='https://code.highcharts.com/modules/annotations.js']\");  if (existing_tags.length == 0) {\n        var script = document.createElement(\"script\");\n        script.onload = resolve;\n        script.onerror = reject;        script.src = 'https://code.highcharts.com/modules/annotations.js';        document.head.appendChild(script);\n    };\n}).then(() => {new Promise(function(resolve, reject) {\n  var existing_tags = document.querySelectorAll(\"script[src='https://code.highcharts.com/modules/annotations-advanced.js']\");  if (existing_tags.length == 0) {\n        var script = document.createElement(\"script\");\n        script.onload = resolve;\n        script.onerror = reject;        script.src = 'https://code.highcharts.com/modules/annotations-advanced.js';        document.head.appendChild(script);\n    };\n}).then(() => {new Promise(function(resolve, reject) {\n  var existing_tags = document.querySelectorAll(\"script[src='https://code.highcharts.com/modules/sankey.js']\");  if (existing_tags.length == 0) {\n        var script = document.createElement(\"script\");\n        script.onload = resolve;\n        script.onerror = reject;        script.src = 'https://code.highcharts.com/modules/sankey.js';        document.head.appendChild(script);\n    };\n}).then(() => {new Promise(function(resolve, reject) {\n  var existing_tags = document.querySelectorAll(\"script[src='https://code.highcharts.com/modules/arc-diagram.js']\");  if (existing_tags.length == 0) {\n        var script = document.createElement(\"script\");\n        script.onload = resolve;\n        script.onerror = reject;        script.src = 'https://code.highcharts.com/modules/arc-diagram.js';        document.head.appendChild(script);\n    };\n}).then(() => {new Promise(function(resolve, reject) {\n  var existing_tags = document.querySelectorAll(\"script[src='https://code.highcharts.com/modules/boost.js']\");  if (existing_tags.length == 0) {\n        var script = document.createElement(\"script\");\n        script.onload = resolve;\n        script.onerror = reject;        script.src = 'https://code.highcharts.com/modules/boost.js';        document.head.appendChild(script);\n    };\n}).then(() => {new Promise(function(resolve, reject) {\n  var existing_tags = document.querySelectorAll(\"script[src='https://code.highcharts.com/modules/broken-axis.js']\");  if (existing_tags.length == 0) {\n        var script = document.createElement(\"script\");\n        script.onload = resolve;\n        script.onerror = reject;        script.src = 'https://code.highcharts.com/modules/broken-axis.js';        document.head.appendChild(script);\n    };\n}).then(() => {new Promise(function(resolve, reject) {\n  var existing_tags = document.querySelectorAll(\"script[src='https://code.highcharts.com/modules/bullet.js']\");  if (existing_tags.length == 0) {\n        var script = document.createElement(\"script\");\n        script.onload = resolve;\n        script.onerror = reject;        script.src = 'https://code.highcharts.com/modules/bullet.js';        document.head.appendChild(script);\n    };\n}).then(() => {new Promise(function(resolve, reject) {\n  var existing_tags = document.querySelectorAll(\"script[src='https://code.highcharts.com/modules/cylinder.js']\");  if (existing_tags.length == 0) {\n        var script = document.createElement(\"script\");\n        script.onload = resolve;\n        script.onerror = reject;        script.src = 'https://code.highcharts.com/modules/cylinder.js';        document.head.appendChild(script);\n    };\n}).then(() => {new Promise(function(resolve, reject) {\n  var existing_tags = document.querySelectorAll(\"script[src='https://code.highcharts.com/modules/data.js']\");  if (existing_tags.length == 0) {\n        var script = document.createElement(\"script\");\n        script.onload = resolve;\n        script.onerror = reject;        script.src = 'https://code.highcharts.com/modules/data.js';        document.head.appendChild(script);\n    };\n}).then(() => {new Promise(function(resolve, reject) {\n  var existing_tags = document.querySelectorAll(\"script[src='https://code.highcharts.com/modules/datagrouping.js']\");  if (existing_tags.length == 0) {\n        var script = document.createElement(\"script\");\n        script.onload = resolve;\n        script.onerror = reject;        script.src = 'https://code.highcharts.com/modules/datagrouping.js';        document.head.appendChild(script);\n    };\n}).then(() => {new Promise(function(resolve, reject) {\n  var existing_tags = document.querySelectorAll(\"script[src='https://code.highcharts.com/modules/debugger.js']\");  if (existing_tags.length == 0) {\n        var script = document.createElement(\"script\");\n        script.onload = resolve;\n        script.onerror = reject;        script.src = 'https://code.highcharts.com/modules/debugger.js';        document.head.appendChild(script);\n    };\n}).then(() => {new Promise(function(resolve, reject) {\n  var existing_tags = document.querySelectorAll(\"script[src='https://code.highcharts.com/modules/dependency-wheel.js']\");  if (existing_tags.length == 0) {\n        var script = document.createElement(\"script\");\n        script.onload = resolve;\n        script.onerror = reject;        script.src = 'https://code.highcharts.com/modules/dependency-wheel.js';        document.head.appendChild(script);\n    };\n}).then(() => {new Promise(function(resolve, reject) {\n  var existing_tags = document.querySelectorAll(\"script[src='https://code.highcharts.com/modules/drag-panes.js']\");  if (existing_tags.length == 0) {\n        var script = document.createElement(\"script\");\n        script.onload = resolve;\n        script.onerror = reject;        script.src = 'https://code.highcharts.com/modules/drag-panes.js';        document.head.appendChild(script);\n    };\n}).then(() => {new Promise(function(resolve, reject) {\n  var existing_tags = document.querySelectorAll(\"script[src='https://code.highcharts.com/modules/draggable-points.js']\");  if (existing_tags.length == 0) {\n        var script = document.createElement(\"script\");\n        script.onload = resolve;\n        script.onerror = reject;        script.src = 'https://code.highcharts.com/modules/draggable-points.js';        document.head.appendChild(script);\n    };\n}).then(() => {new Promise(function(resolve, reject) {\n  var existing_tags = document.querySelectorAll(\"script[src='https://code.highcharts.com/modules/drilldown.js']\");  if (existing_tags.length == 0) {\n        var script = document.createElement(\"script\");\n        script.onload = resolve;\n        script.onerror = reject;        script.src = 'https://code.highcharts.com/modules/drilldown.js';        document.head.appendChild(script);\n    };\n}).then(() => {new Promise(function(resolve, reject) {\n  var existing_tags = document.querySelectorAll(\"script[src='https://code.highcharts.com/modules/dumbbell.js']\");  if (existing_tags.length == 0) {\n        var script = document.createElement(\"script\");\n        script.onload = resolve;\n        script.onerror = reject;        script.src = 'https://code.highcharts.com/modules/dumbbell.js';        document.head.appendChild(script);\n    };\n}).then(() => {new Promise(function(resolve, reject) {\n  var existing_tags = document.querySelectorAll(\"script[src='https://code.highcharts.com/modules/export-data.js']\");  if (existing_tags.length == 0) {\n        var script = document.createElement(\"script\");\n        script.onload = resolve;\n        script.onerror = reject;        script.src = 'https://code.highcharts.com/modules/export-data.js';        document.head.appendChild(script);\n    };\n}).then(() => {new Promise(function(resolve, reject) {\n  var existing_tags = document.querySelectorAll(\"script[src='https://code.highcharts.com/modules/exporting.js']\");  if (existing_tags.length == 0) {\n        var script = document.createElement(\"script\");\n        script.onload = resolve;\n        script.onerror = reject;        script.src = 'https://code.highcharts.com/modules/exporting.js';        document.head.appendChild(script);\n    };\n}).then(() => {new Promise(function(resolve, reject) {\n  var existing_tags = document.querySelectorAll(\"script[src='https://code.highcharts.com/modules/funnel.js']\");  if (existing_tags.length == 0) {\n        var script = document.createElement(\"script\");\n        script.onload = resolve;\n        script.onerror = reject;        script.src = 'https://code.highcharts.com/modules/funnel.js';        document.head.appendChild(script);\n    };\n}).then(() => {new Promise(function(resolve, reject) {\n  var existing_tags = document.querySelectorAll(\"script[src='https://code.highcharts.com/modules/funnel3d.js']\");  if (existing_tags.length == 0) {\n        var script = document.createElement(\"script\");\n        script.onload = resolve;\n        script.onerror = reject;        script.src = 'https://code.highcharts.com/modules/funnel3d.js';        document.head.appendChild(script);\n    };\n}).then(() => {new Promise(function(resolve, reject) {\n  var existing_tags = document.querySelectorAll(\"script[src='https://code.highcharts.com/modules/heatmap.js']\");  if (existing_tags.length == 0) {\n        var script = document.createElement(\"script\");\n        script.onload = resolve;\n        script.onerror = reject;        script.src = 'https://code.highcharts.com/modules/heatmap.js';        document.head.appendChild(script);\n    };\n}).then(() => {new Promise(function(resolve, reject) {\n  var existing_tags = document.querySelectorAll(\"script[src='https://code.highcharts.com/modules/item-series.js']\");  if (existing_tags.length == 0) {\n        var script = document.createElement(\"script\");\n        script.onload = resolve;\n        script.onerror = reject;        script.src = 'https://code.highcharts.com/modules/item-series.js';        document.head.appendChild(script);\n    };\n}).then(() => {new Promise(function(resolve, reject) {\n  var existing_tags = document.querySelectorAll(\"script[src='https://code.highcharts.com/modules/lollipop.js']\");  if (existing_tags.length == 0) {\n        var script = document.createElement(\"script\");\n        script.onload = resolve;\n        script.onerror = reject;        script.src = 'https://code.highcharts.com/modules/lollipop.js';        document.head.appendChild(script);\n    };\n}).then(() => {new Promise(function(resolve, reject) {\n  var existing_tags = document.querySelectorAll(\"script[src='https://code.highcharts.com/modules/networkgraph.js']\");  if (existing_tags.length == 0) {\n        var script = document.createElement(\"script\");\n        script.onload = resolve;\n        script.onerror = reject;        script.src = 'https://code.highcharts.com/modules/networkgraph.js';        document.head.appendChild(script);\n    };\n}).then(() => {new Promise(function(resolve, reject) {\n  var existing_tags = document.querySelectorAll(\"script[src='https://code.highcharts.com/modules/no-data-to-display.js']\");  if (existing_tags.length == 0) {\n        var script = document.createElement(\"script\");\n        script.onload = resolve;\n        script.onerror = reject;        script.src = 'https://code.highcharts.com/modules/no-data-to-display.js';        document.head.appendChild(script);\n    };\n}).then(() => {new Promise(function(resolve, reject) {\n  var existing_tags = document.querySelectorAll(\"script[src='https://code.highcharts.com/modules/offline-exporting.js']\");  if (existing_tags.length == 0) {\n        var script = document.createElement(\"script\");\n        script.onload = resolve;\n        script.onerror = reject;        script.src = 'https://code.highcharts.com/modules/offline-exporting.js';        document.head.appendChild(script);\n    };\n}).then(() => {new Promise(function(resolve, reject) {\n  var existing_tags = document.querySelectorAll(\"script[src='https://code.highcharts.com/modules/oldie.js']\");  if (existing_tags.length == 0) {\n        var script = document.createElement(\"script\");\n        script.onload = resolve;\n        script.onerror = reject;        script.src = 'https://code.highcharts.com/modules/oldie.js';        document.head.appendChild(script);\n    };\n}).then(() => {new Promise(function(resolve, reject) {\n  var existing_tags = document.querySelectorAll(\"script[src='https://code.highcharts.com/modules/organization.js']\");  if (existing_tags.length == 0) {\n        var script = document.createElement(\"script\");\n        script.onload = resolve;\n        script.onerror = reject;        script.src = 'https://code.highcharts.com/modules/organization.js';        document.head.appendChild(script);\n    };\n}).then(() => {new Promise(function(resolve, reject) {\n  var existing_tags = document.querySelectorAll(\"script[src='https://code.highcharts.com/modules/parallel-coordinates.js']\");  if (existing_tags.length == 0) {\n        var script = document.createElement(\"script\");\n        script.onload = resolve;\n        script.onerror = reject;        script.src = 'https://code.highcharts.com/modules/parallel-coordinates.js';        document.head.appendChild(script);\n    };\n}).then(() => {new Promise(function(resolve, reject) {\n  var existing_tags = document.querySelectorAll(\"script[src='https://code.highcharts.com/modules/pareto.js']\");  if (existing_tags.length == 0) {\n        var script = document.createElement(\"script\");\n        script.onload = resolve;\n        script.onerror = reject;        script.src = 'https://code.highcharts.com/modules/pareto.js';        document.head.appendChild(script);\n    };\n}).then(() => {new Promise(function(resolve, reject) {\n  var existing_tags = document.querySelectorAll(\"script[src='https://code.highcharts.com/modules/pictorial.js']\");  if (existing_tags.length == 0) {\n        var script = document.createElement(\"script\");\n        script.onload = resolve;\n        script.onerror = reject;        script.src = 'https://code.highcharts.com/modules/pictorial.js';        document.head.appendChild(script);\n    };\n}).then(() => {new Promise(function(resolve, reject) {\n  var existing_tags = document.querySelectorAll(\"script[src='https://code.highcharts.com/modules/pyramid3d.js']\");  if (existing_tags.length == 0) {\n        var script = document.createElement(\"script\");\n        script.onload = resolve;\n        script.onerror = reject;        script.src = 'https://code.highcharts.com/modules/pyramid3d.js';        document.head.appendChild(script);\n    };\n}).then(() => {new Promise(function(resolve, reject) {\n  var existing_tags = document.querySelectorAll(\"script[src='https://code.highcharts.com/modules/series-label.js']\");  if (existing_tags.length == 0) {\n        var script = document.createElement(\"script\");\n        script.onload = resolve;\n        script.onerror = reject;        script.src = 'https://code.highcharts.com/modules/series-label.js';        document.head.appendChild(script);\n    };\n}).then(() => {new Promise(function(resolve, reject) {\n  var existing_tags = document.querySelectorAll(\"script[src='https://code.highcharts.com/modules/series-on-point.js']\");  if (existing_tags.length == 0) {\n        var script = document.createElement(\"script\");\n        script.onload = resolve;\n        script.onerror = reject;        script.src = 'https://code.highcharts.com/modules/series-on-point.js';        document.head.appendChild(script);\n    };\n}).then(() => {new Promise(function(resolve, reject) {\n  var existing_tags = document.querySelectorAll(\"script[src='https://code.highcharts.com/modules/solid-gauge.js']\");  if (existing_tags.length == 0) {\n        var script = document.createElement(\"script\");\n        script.onload = resolve;\n        script.onerror = reject;        script.src = 'https://code.highcharts.com/modules/solid-gauge.js';        document.head.appendChild(script);\n    };\n}).then(() => {new Promise(function(resolve, reject) {\n  var existing_tags = document.querySelectorAll(\"script[src='https://code.highcharts.com/modules/streamgraph.js']\");  if (existing_tags.length == 0) {\n        var script = document.createElement(\"script\");\n        script.onload = resolve;\n        script.onerror = reject;        script.src = 'https://code.highcharts.com/modules/streamgraph.js';        document.head.appendChild(script);\n    };\n}).then(() => {new Promise(function(resolve, reject) {\n  var existing_tags = document.querySelectorAll(\"script[src='https://code.highcharts.com/modules/sunburst.js']\");  if (existing_tags.length == 0) {\n        var script = document.createElement(\"script\");\n        script.onload = resolve;\n        script.onerror = reject;        script.src = 'https://code.highcharts.com/modules/sunburst.js';        document.head.appendChild(script);\n    };\n}).then(() => {new Promise(function(resolve, reject) {\n  var existing_tags = document.querySelectorAll(\"script[src='https://code.highcharts.com/modules/tilemap.js']\");  if (existing_tags.length == 0) {\n        var script = document.createElement(\"script\");\n        script.onload = resolve;\n        script.onerror = reject;        script.src = 'https://code.highcharts.com/modules/tilemap.js';        document.head.appendChild(script);\n    };\n}).then(() => {new Promise(function(resolve, reject) {\n  var existing_tags = document.querySelectorAll(\"script[src='https://code.highcharts.com/modules/timeline.js']\");  if (existing_tags.length == 0) {\n        var script = document.createElement(\"script\");\n        script.onload = resolve;\n        script.onerror = reject;        script.src = 'https://code.highcharts.com/modules/timeline.js';        document.head.appendChild(script);\n    };\n}).then(() => {new Promise(function(resolve, reject) {\n  var existing_tags = document.querySelectorAll(\"script[src='https://code.highcharts.com/modules/treegraph.js']\");  if (existing_tags.length == 0) {\n        var script = document.createElement(\"script\");\n        script.onload = resolve;\n        script.onerror = reject;        script.src = 'https://code.highcharts.com/modules/treegraph.js';        document.head.appendChild(script);\n    };\n}).then(() => {new Promise(function(resolve, reject) {\n  var existing_tags = document.querySelectorAll(\"script[src='https://code.highcharts.com/modules/treemap.js']\");  if (existing_tags.length == 0) {\n        var script = document.createElement(\"script\");\n        script.onload = resolve;\n        script.onerror = reject;        script.src = 'https://code.highcharts.com/modules/treemap.js';        document.head.appendChild(script);\n    };\n}).then(() => {new Promise(function(resolve, reject) {\n  var existing_tags = document.querySelectorAll(\"script[src='https://code.highcharts.com/modules/variable-pie.js']\");  if (existing_tags.length == 0) {\n        var script = document.createElement(\"script\");\n        script.onload = resolve;\n        script.onerror = reject;        script.src = 'https://code.highcharts.com/modules/variable-pie.js';        document.head.appendChild(script);\n    };\n}).then(() => {new Promise(function(resolve, reject) {\n  var existing_tags = document.querySelectorAll(\"script[src='https://code.highcharts.com/modules/variwide.js']\");  if (existing_tags.length == 0) {\n        var script = document.createElement(\"script\");\n        script.onload = resolve;\n        script.onerror = reject;        script.src = 'https://code.highcharts.com/modules/variwide.js';        document.head.appendChild(script);\n    };\n}).then(() => {new Promise(function(resolve, reject) {\n  var existing_tags = document.querySelectorAll(\"script[src='https://code.highcharts.com/modules/vector.js']\");  if (existing_tags.length == 0) {\n        var script = document.createElement(\"script\");\n        script.onload = resolve;\n        script.onerror = reject;        script.src = 'https://code.highcharts.com/modules/vector.js';        document.head.appendChild(script);\n    };\n}).then(() => {new Promise(function(resolve, reject) {\n  var existing_tags = document.querySelectorAll(\"script[src='https://code.highcharts.com/modules/venn.js']\");  if (existing_tags.length == 0) {\n        var script = document.createElement(\"script\");\n        script.onload = resolve;\n        script.onerror = reject;        script.src = 'https://code.highcharts.com/modules/venn.js';        document.head.appendChild(script);\n    };\n}).then(() => {new Promise(function(resolve, reject) {\n  var existing_tags = document.querySelectorAll(\"script[src='https://code.highcharts.com/modules/windbarb.js']\");  if (existing_tags.length == 0) {\n        var script = document.createElement(\"script\");\n        script.onload = resolve;\n        script.onerror = reject;        script.src = 'https://code.highcharts.com/modules/windbarb.js';        document.head.appendChild(script);\n    };\n}).then(() => {new Promise(function(resolve, reject) {\n  var existing_tags = document.querySelectorAll(\"script[src='https://code.highcharts.com/modules/wordcloud.js']\");  if (existing_tags.length == 0) {\n        var script = document.createElement(\"script\");\n        script.onload = resolve;\n        script.onerror = reject;        script.src = 'https://code.highcharts.com/modules/wordcloud.js';        document.head.appendChild(script);\n    };\n}).then(() => {new Promise(function(resolve, reject) {\n  var existing_tags = document.querySelectorAll(\"script[src='https://code.highcharts.com/modules/xrange.js']\");  if (existing_tags.length == 0) {\n        var script = document.createElement(\"script\");\n        script.onload = resolve;\n        script.onerror = reject;        script.src = 'https://code.highcharts.com/modules/xrange.js';        document.head.appendChild(script);\n    };\n}).then(() => {});});});});});});});});});});});});});});});});});});});});});});});});});});});});});});});});});});});});});});});});});});});});});});});});});});});});});"
     },
     "metadata": {},
     "output_type": "display_data"
    },
    {
     "data": {
      "text/plain": "<IPython.core.display.HTML object>",
      "text/html": "<div id=\"highcharts_container_YYYCDH\" style=\"width:100%; height:400;\"></div>\n"
     },
     "metadata": {},
     "output_type": "display_data"
    },
    {
     "data": {
      "text/plain": "<IPython.core.display.Javascript object>",
      "application/javascript": "function retryHighcharts(fn, container = 'highcharts_target_div', retries = 3, retriesLeft = 3, \n        interval = 1000) {\n            return new Promise((resolve, reject) => {\n            try {\n                fn()\n                return resolve();\n            } catch (err) {\n                if ((err instanceof ReferenceError) || (err instanceof TypeError)) {\n                    if (retriesLeft === 0) {\n                        var target_div = document.getElementById(container);\n                        if (target_div) {\n                            var timeElapsed = (retries * interval) / 1000;\n                            var errorMessage = \"Something went wrong with the Highcharts.js script. It should have been automatically loaded, but it did not load for over \" + timeElapsed + \" seconds. Check your internet connection, and then if the problem persists please reach out for support. (You can also check your browser's console log for more details.)\";\n                            var errorHTML = \"<p>\" + errorMessage + \"</p>\";\n                            target_div.innerHTML = errorMessage;\n                            console.log(errorMessage);\n                            console.error(err);\n                        }\n                        return reject();\n                    }\n\n                    setTimeout(() => {\n                        retryHighcharts(fn, container, retries, retriesLeft - 1, interval).then(resolve).catch(reject);\n                    }, interval);\n                } else if ((err instanceof Error) && (err.message.includes('#13'))) {\n                    var errorMessage = \"It looks like the container specified '\" + container + \"' was not created successfully. Please check your browser's console log for more details.\";\n                    console.error(errorMessage);\n                    console.error(err);\n                    \n                    return reject();\n                } else {\n                    throw err;\n                }\n            }\n        });\n    };function insertChart_YYYCDH() {\n\nHighcharts.chart('highcharts_container_YYYCDH',\n{\n  legend: {\n  enabled: true\n},\n  series: [{\n  data: [{\n  y: 43934\n},\n{\n  y: 48656\n},\n{\n  y: 65165\n},\n{\n  y: 81827\n},\n{\n  y: 112143\n},\n{\n  y: 142383\n},\n{\n  y: 171533\n},\n{\n  y: 165174\n},\n{\n  y: 155157\n},\n{\n  y: 161454\n},\n{\n  y: 154610\n}],\n  name: 'Installation & Developers',\n  type: 'bar'\n},\n{\n  data: [{\n  y: 24916\n},\n{\n  y: 37941\n},\n{\n  y: 29742\n},\n{\n  y: 29851\n},\n{\n  y: 32490\n},\n{\n  y: 30282\n},\n{\n  y: 38121\n},\n{\n  y: 36885\n},\n{\n  y: 33726\n},\n{\n  y: 34243\n},\n{\n  y: 31050\n}],\n  name: 'Manufacturing',\n  type: 'bar'\n},\n{\n  data: [{\n  y: 11744\n},\n{\n  y: 30000\n},\n{\n  y: 16005\n},\n{\n  y: 19771\n},\n{\n  y: 20185\n},\n{\n  y: 24377\n},\n{\n  y: 32147\n},\n{\n  y: 30912\n},\n{\n  y: 29243\n},\n{\n  y: 29213\n},\n{\n  y: 25663\n}],\n  name: 'Sales & Distribution',\n  type: 'bar'\n},\n{\n  data: [{\n  y: null\n},\n{\n  y: null\n},\n{\n  y: null\n},\n{\n  y: null\n},\n{\n  y: null\n},\n{\n  y: null\n},\n{\n  y: null\n},\n{\n  y: null\n},\n{\n  y: 11164.0\n},\n{\n  y: 11218.0\n},\n{\n  y: 10077.0\n}],\n  name: 'Operations & Maintenance',\n  type: 'bar'\n},\n{\n  data: [{\n  y: 21908\n},\n{\n  y: 5548\n},\n{\n  y: 8105\n},\n{\n  y: 11248\n},\n{\n  y: 8989\n},\n{\n  y: 11816\n},\n{\n  y: 18274\n},\n{\n  y: 17300\n},\n{\n  y: 13053\n},\n{\n  y: 11906\n},\n{\n  y: 10073\n}],\n  name: 'Other',\n  type: 'bar'\n}],\n  title: {\n  text: 'Highcharts Box Plot Example'\n},\n  xAxis: {\n  categories: ['1',\n'2',\n'3',\n'4',\n'5'],\n  title: {\n  text: 'Experiment No.'\n}\n},\n  yAxis: {\n  title: {\n  text: 'Observations'\n}\n}\n},\n);\n\n};\nretryHighcharts(insertChart_YYYCDH, 'highcharts_container_YYYCDH', 3, 3, 1000);"
     },
     "metadata": {},
     "output_type": "display_data"
    }
   ],
   "source": [
    "chart.display(container = 'highcharts_container')"
   ],
   "metadata": {
    "collapsed": false,
    "ExecuteTime": {
     "end_time": "2023-06-02T08:47:22.686580300Z",
     "start_time": "2023-06-02T08:47:22.205842600Z"
    }
   }
  },
  {
   "cell_type": "code",
   "execution_count": null,
   "outputs": [],
   "source": [],
   "metadata": {
    "collapsed": false
   }
  }
 ],
 "metadata": {
  "kernelspec": {
   "display_name": "Python 3",
   "language": "python",
   "name": "python3"
  },
  "language_info": {
   "codemirror_mode": {
    "name": "ipython",
    "version": 2
   },
   "file_extension": ".py",
   "mimetype": "text/x-python",
   "name": "python",
   "nbconvert_exporter": "python",
   "pygments_lexer": "ipython2",
   "version": "2.7.6"
  }
 },
 "nbformat": 4,
 "nbformat_minor": 0
}
