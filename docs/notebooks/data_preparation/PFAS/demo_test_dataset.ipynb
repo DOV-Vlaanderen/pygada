{
 "cells": [
  {
   "cell_type": "markdown",
   "source": [
    "# Create a demo and test dataset"
   ],
   "metadata": {
    "collapsed": false
   }
  },
  {
   "cell_type": "code",
   "execution_count": 1,
   "outputs": [],
   "source": [
    "import pandas as pd"
   ],
   "metadata": {
    "collapsed": false,
    "ExecuteTime": {
     "end_time": "2023-08-18T14:33:34.061046100Z",
     "start_time": "2023-08-18T14:33:33.650935300Z"
    }
   }
  },
  {
   "cell_type": "markdown",
   "source": [
    "## Data preparation\n",
    "After the soil and groundwater data cleaning, the datasets are merged into one. This result is saved as the demo dataset. Besides the demo dataset a test dataset is made based on a random selection of 100000 records of the demo dataset."
   ],
   "metadata": {
    "collapsed": false
   }
  },
  {
   "cell_type": "code",
   "execution_count": 2,
   "outputs": [
    {
     "name": "stderr",
     "output_type": "stream",
     "text": [
      "C:\\Users\\vandekgu\\AppData\\Local\\Temp\\ipykernel_21840\\3359215884.py:1: DtypeWarning: Columns (2) have mixed types. Specify dtype option on import or set low_memory=False.\n",
      "  df_groundwater = pd.read_csv('../../../../pygada/datasets/PFAS/combined_groundwater_dataset_cleaned.txt')\n",
      "C:\\Users\\vandekgu\\AppData\\Local\\Temp\\ipykernel_21840\\3359215884.py:3: DtypeWarning: Columns (2) have mixed types. Specify dtype option on import or set low_memory=False.\n",
      "  df_soil = pd.read_csv('../../../../pygada/datasets/PFAS/combined_soil_dataset_cleaned.txt')\n"
     ]
    },
    {
     "data": {
      "text/plain": "        Unnamed: 0.1  Unnamed: 0                   id        date  \\\n0                  0           0  861/61/2-F2/MPF2101  2021/07/27   \n1                  1           1  861/61/2-F2/MPF2101  2021/07/27   \n2                  2           2  861/61/2-F2/MPF2101  2021/07/27   \n3                  3           3  861/61/2-F2/MPF2101  2021/07/27   \n4                  4           4  861/61/2-F2/MPF2101  2021/07/27   \n...              ...         ...                  ...         ...   \n421054        300892      100750     PFC3B-B4102_N-16  2023/01/02   \n421055        300893      100751     PFC3B-B4102_N-16  2023/01/02   \n421056        300894      100752     PFC3B-B4102_N-16  2023/01/02   \n421057        300895      100753     PFC3B-B4102_N-16  2023/01/02   \n421058        300896      100754     PFC3B-B4102_N-16  2023/01/02   \n\n            x_m_L72      y_m_L72  top_m_mv  basis_m_mv  parameter  \\\n0       143922.4688  214154.2188       4.5         5.0      PFOSA   \n1       143922.4688  214154.2188       4.5         5.0       PFOA   \n2       143922.4688  214154.2188       4.5         5.0       PFDA   \n3       143922.4688  214154.2188       4.5         5.0  PFOStotal   \n4       143922.4688  214154.2188       4.5         5.0       PFBS   \n...             ...          ...       ...         ...        ...   \n421054  154175.7316  214257.0762       5.6         6.0   10:2 FTS   \n421055  154175.7316  214257.0762       5.6         6.0      PFBSA   \n421056  154175.7316  214257.0762       5.6         6.0    MePFBSA   \n421057  154175.7316  214257.0762       5.6         6.0   MePFBSAA   \n421058  154175.7316  214257.0762       5.6         6.0     PFHxSA   \n\n       detection_condition  value      unit  source       matrix  \n0                        <    1.0      ng/l     VMM  Groundwater  \n1                        =    2.0      ng/l     VMM  Groundwater  \n2                        <    1.0      ng/l     VMM  Groundwater  \n3                        =    1.0      ng/l     VMM  Groundwater  \n4                        =   32.0      ng/l     VMM  Groundwater  \n...                    ...    ...       ...     ...          ...  \n421054                   <    1.0  µg/kg ds  Lantis         Soil  \n421055                   <    1.0  µg/kg ds  Lantis         Soil  \n421056                   <    1.0  µg/kg ds  Lantis         Soil  \n421057                   <    1.0  µg/kg ds  Lantis         Soil  \n421058                   <    1.0  µg/kg ds  Lantis         Soil  \n\n[421059 rows x 14 columns]",
      "text/html": "<div>\n<style scoped>\n    .dataframe tbody tr th:only-of-type {\n        vertical-align: middle;\n    }\n\n    .dataframe tbody tr th {\n        vertical-align: top;\n    }\n\n    .dataframe thead th {\n        text-align: right;\n    }\n</style>\n<table border=\"1\" class=\"dataframe\">\n  <thead>\n    <tr style=\"text-align: right;\">\n      <th></th>\n      <th>Unnamed: 0.1</th>\n      <th>Unnamed: 0</th>\n      <th>id</th>\n      <th>date</th>\n      <th>x_m_L72</th>\n      <th>y_m_L72</th>\n      <th>top_m_mv</th>\n      <th>basis_m_mv</th>\n      <th>parameter</th>\n      <th>detection_condition</th>\n      <th>value</th>\n      <th>unit</th>\n      <th>source</th>\n      <th>matrix</th>\n    </tr>\n  </thead>\n  <tbody>\n    <tr>\n      <th>0</th>\n      <td>0</td>\n      <td>0</td>\n      <td>861/61/2-F2/MPF2101</td>\n      <td>2021/07/27</td>\n      <td>143922.4688</td>\n      <td>214154.2188</td>\n      <td>4.5</td>\n      <td>5.0</td>\n      <td>PFOSA</td>\n      <td>&lt;</td>\n      <td>1.0</td>\n      <td>ng/l</td>\n      <td>VMM</td>\n      <td>Groundwater</td>\n    </tr>\n    <tr>\n      <th>1</th>\n      <td>1</td>\n      <td>1</td>\n      <td>861/61/2-F2/MPF2101</td>\n      <td>2021/07/27</td>\n      <td>143922.4688</td>\n      <td>214154.2188</td>\n      <td>4.5</td>\n      <td>5.0</td>\n      <td>PFOA</td>\n      <td>=</td>\n      <td>2.0</td>\n      <td>ng/l</td>\n      <td>VMM</td>\n      <td>Groundwater</td>\n    </tr>\n    <tr>\n      <th>2</th>\n      <td>2</td>\n      <td>2</td>\n      <td>861/61/2-F2/MPF2101</td>\n      <td>2021/07/27</td>\n      <td>143922.4688</td>\n      <td>214154.2188</td>\n      <td>4.5</td>\n      <td>5.0</td>\n      <td>PFDA</td>\n      <td>&lt;</td>\n      <td>1.0</td>\n      <td>ng/l</td>\n      <td>VMM</td>\n      <td>Groundwater</td>\n    </tr>\n    <tr>\n      <th>3</th>\n      <td>3</td>\n      <td>3</td>\n      <td>861/61/2-F2/MPF2101</td>\n      <td>2021/07/27</td>\n      <td>143922.4688</td>\n      <td>214154.2188</td>\n      <td>4.5</td>\n      <td>5.0</td>\n      <td>PFOStotal</td>\n      <td>=</td>\n      <td>1.0</td>\n      <td>ng/l</td>\n      <td>VMM</td>\n      <td>Groundwater</td>\n    </tr>\n    <tr>\n      <th>4</th>\n      <td>4</td>\n      <td>4</td>\n      <td>861/61/2-F2/MPF2101</td>\n      <td>2021/07/27</td>\n      <td>143922.4688</td>\n      <td>214154.2188</td>\n      <td>4.5</td>\n      <td>5.0</td>\n      <td>PFBS</td>\n      <td>=</td>\n      <td>32.0</td>\n      <td>ng/l</td>\n      <td>VMM</td>\n      <td>Groundwater</td>\n    </tr>\n    <tr>\n      <th>...</th>\n      <td>...</td>\n      <td>...</td>\n      <td>...</td>\n      <td>...</td>\n      <td>...</td>\n      <td>...</td>\n      <td>...</td>\n      <td>...</td>\n      <td>...</td>\n      <td>...</td>\n      <td>...</td>\n      <td>...</td>\n      <td>...</td>\n      <td>...</td>\n    </tr>\n    <tr>\n      <th>421054</th>\n      <td>300892</td>\n      <td>100750</td>\n      <td>PFC3B-B4102_N-16</td>\n      <td>2023/01/02</td>\n      <td>154175.7316</td>\n      <td>214257.0762</td>\n      <td>5.6</td>\n      <td>6.0</td>\n      <td>10:2 FTS</td>\n      <td>&lt;</td>\n      <td>1.0</td>\n      <td>µg/kg ds</td>\n      <td>Lantis</td>\n      <td>Soil</td>\n    </tr>\n    <tr>\n      <th>421055</th>\n      <td>300893</td>\n      <td>100751</td>\n      <td>PFC3B-B4102_N-16</td>\n      <td>2023/01/02</td>\n      <td>154175.7316</td>\n      <td>214257.0762</td>\n      <td>5.6</td>\n      <td>6.0</td>\n      <td>PFBSA</td>\n      <td>&lt;</td>\n      <td>1.0</td>\n      <td>µg/kg ds</td>\n      <td>Lantis</td>\n      <td>Soil</td>\n    </tr>\n    <tr>\n      <th>421056</th>\n      <td>300894</td>\n      <td>100752</td>\n      <td>PFC3B-B4102_N-16</td>\n      <td>2023/01/02</td>\n      <td>154175.7316</td>\n      <td>214257.0762</td>\n      <td>5.6</td>\n      <td>6.0</td>\n      <td>MePFBSA</td>\n      <td>&lt;</td>\n      <td>1.0</td>\n      <td>µg/kg ds</td>\n      <td>Lantis</td>\n      <td>Soil</td>\n    </tr>\n    <tr>\n      <th>421057</th>\n      <td>300895</td>\n      <td>100753</td>\n      <td>PFC3B-B4102_N-16</td>\n      <td>2023/01/02</td>\n      <td>154175.7316</td>\n      <td>214257.0762</td>\n      <td>5.6</td>\n      <td>6.0</td>\n      <td>MePFBSAA</td>\n      <td>&lt;</td>\n      <td>1.0</td>\n      <td>µg/kg ds</td>\n      <td>Lantis</td>\n      <td>Soil</td>\n    </tr>\n    <tr>\n      <th>421058</th>\n      <td>300896</td>\n      <td>100754</td>\n      <td>PFC3B-B4102_N-16</td>\n      <td>2023/01/02</td>\n      <td>154175.7316</td>\n      <td>214257.0762</td>\n      <td>5.6</td>\n      <td>6.0</td>\n      <td>PFHxSA</td>\n      <td>&lt;</td>\n      <td>1.0</td>\n      <td>µg/kg ds</td>\n      <td>Lantis</td>\n      <td>Soil</td>\n    </tr>\n  </tbody>\n</table>\n<p>421059 rows × 14 columns</p>\n</div>"
     },
     "execution_count": 2,
     "metadata": {},
     "output_type": "execute_result"
    }
   ],
   "source": [
    "df_groundwater = pd.read_csv('../../../../pygada/datasets/PFAS/combined_groundwater_dataset_cleaned.txt')\n",
    "df_groundwater['matrix'] = 'Groundwater'\n",
    "df_soil = pd.read_csv('../../../../pygada/datasets/PFAS/combined_soil_dataset_cleaned.txt')\n",
    "df_soil['matrix'] = 'Soil'\n",
    "dataset = pd.concat([df_groundwater, df_soil])\n",
    "dataset = dataset.reset_index(drop=True)\n",
    "dataset"
   ],
   "metadata": {
    "collapsed": false,
    "ExecuteTime": {
     "end_time": "2023-08-18T14:33:34.643822700Z",
     "start_time": "2023-08-18T14:33:34.065040800Z"
    }
   }
  },
  {
   "cell_type": "code",
   "execution_count": 3,
   "outputs": [],
   "source": [
    "# change to filtering part\n",
    "# dataset = dataset.rename(columns={'x_m_L72': 'x', 'y_m_L72': 'y', 'top_m_mv': 'top', 'basis_m_mv': 'basis'})\n",
    "# dataset = dataset[['id', 'date', 'x', 'y', 'top', 'basis', 'parameter', 'detection_condition', 'value', 'unit', 'source', 'matrix']]"
   ],
   "metadata": {
    "collapsed": false,
    "ExecuteTime": {
     "end_time": "2023-08-18T14:33:34.658551500Z",
     "start_time": "2023-08-18T14:33:34.644321600Z"
    }
   }
  },
  {
   "cell_type": "markdown",
   "source": [
    "### Demo dataset"
   ],
   "metadata": {
    "collapsed": false
   }
  },
  {
   "cell_type": "code",
   "execution_count": 4,
   "outputs": [],
   "source": [
    "demo_dataset = dataset.copy()\n",
    "demo_dataset.to_csv('../../../../pygada/datasets/PFAS/demo_dataset.txt', encoding='utf-8-sig')"
   ],
   "metadata": {
    "collapsed": false,
    "ExecuteTime": {
     "end_time": "2023-08-18T14:33:37.242514Z",
     "start_time": "2023-08-18T14:33:34.659551700Z"
    }
   }
  },
  {
   "cell_type": "markdown",
   "source": [
    "### Test dataset"
   ],
   "metadata": {
    "collapsed": false
   }
  },
  {
   "cell_type": "code",
   "execution_count": 5,
   "outputs": [],
   "source": [
    "test_dataset = dataset.copy()\n",
    "test_dataset = test_dataset.sample(n=100000, random_state=1)\n",
    "test_dataset.to_csv('../../../../pygada/datasets/PFAS/test_dataset.txt', encoding='utf-8-sig')"
   ],
   "metadata": {
    "collapsed": false,
    "ExecuteTime": {
     "end_time": "2023-08-18T14:33:37.947453900Z",
     "start_time": "2023-08-18T14:33:37.247121800Z"
    }
   }
  }
 ],
 "metadata": {
  "kernelspec": {
   "display_name": "Python 3",
   "language": "python",
   "name": "python3"
  },
  "language_info": {
   "codemirror_mode": {
    "name": "ipython",
    "version": 2
   },
   "file_extension": ".py",
   "mimetype": "text/x-python",
   "name": "python",
   "nbconvert_exporter": "python",
   "pygments_lexer": "ipython2",
   "version": "2.7.6"
  }
 },
 "nbformat": 4,
 "nbformat_minor": 0
}
