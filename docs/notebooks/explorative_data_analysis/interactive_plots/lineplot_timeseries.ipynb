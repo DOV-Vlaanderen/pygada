{
 "cells": [
  {
   "cell_type": "markdown",
   "source": [
    "## Import Dependencies"
   ],
   "metadata": {
    "collapsed": false
   }
  },
  {
   "cell_type": "code",
   "execution_count": 25,
   "outputs": [],
   "source": [
    "from highcharts_core.chart import Chart\n",
    "import pandas as pd\n",
    "from highcharts_core.options.series.area import LineSeries"
   ],
   "metadata": {
    "collapsed": false,
    "ExecuteTime": {
     "end_time": "2023-07-06T07:58:25.943022100Z",
     "start_time": "2023-07-06T07:58:25.920593Z"
    }
   }
  },
  {
   "cell_type": "markdown",
   "source": [
    "## Prepare the Configuration"
   ],
   "metadata": {
    "collapsed": false
   }
  },
  {
   "cell_type": "markdown",
   "source": [
    "## Populate the Dataframe"
   ],
   "metadata": {
    "collapsed": false
   }
  },
  {
   "cell_type": "code",
   "execution_count": 26,
   "outputs": [
    {
     "data": {
      "text/plain": "   Unnamed: 0.1  Unnamed: 0  \\\n0             0           0   \n1             1           1   \n2             2           2   \n3             3           3   \n4             4           4   \n\n                                               index grondwatermonsternummer  \\\n0  https://www.dov.vlaanderen.be/data/watermonste...     861/61/2-F2/MPF2101   \n1  https://www.dov.vlaanderen.be/data/watermonste...     861/61/2-F2/MPF2101   \n2  https://www.dov.vlaanderen.be/data/watermonste...     861/61/2-F2/MPF2101   \n3  https://www.dov.vlaanderen.be/data/watermonste...     861/61/2-F2/MPF2101   \n4  https://www.dov.vlaanderen.be/data/watermonste...     861/61/2-F2/MPF2101   \n\n                              pkey_grondwaterlocatie     gw_id  \\\n0  https://www.dov.vlaanderen.be/data/put/2017-00...  861/61/2   \n1  https://www.dov.vlaanderen.be/data/put/2017-00...  861/61/2   \n2  https://www.dov.vlaanderen.be/data/put/2017-00...  861/61/2   \n3  https://www.dov.vlaanderen.be/data/put/2017-00...  861/61/2   \n4  https://www.dov.vlaanderen.be/data/put/2017-00...  861/61/2   \n\n                                         pkey_filter  filternummer  \\\n0  https://www.dov.vlaanderen.be/data/filter/2003...             2   \n1  https://www.dov.vlaanderen.be/data/filter/2003...             2   \n2  https://www.dov.vlaanderen.be/data/filter/2003...             2   \n3  https://www.dov.vlaanderen.be/data/filter/2003...             2   \n4  https://www.dov.vlaanderen.be/data/filter/2003...             2   \n\n             x            y  ...            parametergroep  parameter  \\\n0  143922,4688  214154,2188  ...  Grondwater_chemisch_PFAS      PFOSA   \n1  143922,4688  214154,2188  ...  Grondwater_chemisch_PFAS       PFOA   \n2  143922,4688  214154,2188  ...  Grondwater_chemisch_PFAS       PFDA   \n3  143922,4688  214154,2188  ...  Grondwater_chemisch_PFAS  PFOStotal   \n4  143922,4688  214154,2188  ...  Grondwater_chemisch_PFAS       PFBS   \n\n  detectie value  unit field_lab  aquifer_code bottom lengte_filter  top  \n0        <     1  ng/l      LABO           233      5           0,5  4.5  \n1      NaN     2  ng/l      LABO           233      5           0,5  4.5  \n2        <     1  ng/l      LABO           233      5           0,5  4.5  \n3      NaN     1  ng/l      LABO           233      5           0,5  4.5  \n4      NaN    32  ng/l      LABO           233      5           0,5  4.5  \n\n[5 rows x 23 columns]",
      "text/html": "<div>\n<style scoped>\n    .dataframe tbody tr th:only-of-type {\n        vertical-align: middle;\n    }\n\n    .dataframe tbody tr th {\n        vertical-align: top;\n    }\n\n    .dataframe thead th {\n        text-align: right;\n    }\n</style>\n<table border=\"1\" class=\"dataframe\">\n  <thead>\n    <tr style=\"text-align: right;\">\n      <th></th>\n      <th>Unnamed: 0.1</th>\n      <th>Unnamed: 0</th>\n      <th>index</th>\n      <th>grondwatermonsternummer</th>\n      <th>pkey_grondwaterlocatie</th>\n      <th>gw_id</th>\n      <th>pkey_filter</th>\n      <th>filternummer</th>\n      <th>x</th>\n      <th>y</th>\n      <th>...</th>\n      <th>parametergroep</th>\n      <th>parameter</th>\n      <th>detectie</th>\n      <th>value</th>\n      <th>unit</th>\n      <th>field_lab</th>\n      <th>aquifer_code</th>\n      <th>bottom</th>\n      <th>lengte_filter</th>\n      <th>top</th>\n    </tr>\n  </thead>\n  <tbody>\n    <tr>\n      <th>0</th>\n      <td>0</td>\n      <td>0</td>\n      <td>https://www.dov.vlaanderen.be/data/watermonste...</td>\n      <td>861/61/2-F2/MPF2101</td>\n      <td>https://www.dov.vlaanderen.be/data/put/2017-00...</td>\n      <td>861/61/2</td>\n      <td>https://www.dov.vlaanderen.be/data/filter/2003...</td>\n      <td>2</td>\n      <td>143922,4688</td>\n      <td>214154,2188</td>\n      <td>...</td>\n      <td>Grondwater_chemisch_PFAS</td>\n      <td>PFOSA</td>\n      <td>&lt;</td>\n      <td>1</td>\n      <td>ng/l</td>\n      <td>LABO</td>\n      <td>233</td>\n      <td>5</td>\n      <td>0,5</td>\n      <td>4.5</td>\n    </tr>\n    <tr>\n      <th>1</th>\n      <td>1</td>\n      <td>1</td>\n      <td>https://www.dov.vlaanderen.be/data/watermonste...</td>\n      <td>861/61/2-F2/MPF2101</td>\n      <td>https://www.dov.vlaanderen.be/data/put/2017-00...</td>\n      <td>861/61/2</td>\n      <td>https://www.dov.vlaanderen.be/data/filter/2003...</td>\n      <td>2</td>\n      <td>143922,4688</td>\n      <td>214154,2188</td>\n      <td>...</td>\n      <td>Grondwater_chemisch_PFAS</td>\n      <td>PFOA</td>\n      <td>NaN</td>\n      <td>2</td>\n      <td>ng/l</td>\n      <td>LABO</td>\n      <td>233</td>\n      <td>5</td>\n      <td>0,5</td>\n      <td>4.5</td>\n    </tr>\n    <tr>\n      <th>2</th>\n      <td>2</td>\n      <td>2</td>\n      <td>https://www.dov.vlaanderen.be/data/watermonste...</td>\n      <td>861/61/2-F2/MPF2101</td>\n      <td>https://www.dov.vlaanderen.be/data/put/2017-00...</td>\n      <td>861/61/2</td>\n      <td>https://www.dov.vlaanderen.be/data/filter/2003...</td>\n      <td>2</td>\n      <td>143922,4688</td>\n      <td>214154,2188</td>\n      <td>...</td>\n      <td>Grondwater_chemisch_PFAS</td>\n      <td>PFDA</td>\n      <td>&lt;</td>\n      <td>1</td>\n      <td>ng/l</td>\n      <td>LABO</td>\n      <td>233</td>\n      <td>5</td>\n      <td>0,5</td>\n      <td>4.5</td>\n    </tr>\n    <tr>\n      <th>3</th>\n      <td>3</td>\n      <td>3</td>\n      <td>https://www.dov.vlaanderen.be/data/watermonste...</td>\n      <td>861/61/2-F2/MPF2101</td>\n      <td>https://www.dov.vlaanderen.be/data/put/2017-00...</td>\n      <td>861/61/2</td>\n      <td>https://www.dov.vlaanderen.be/data/filter/2003...</td>\n      <td>2</td>\n      <td>143922,4688</td>\n      <td>214154,2188</td>\n      <td>...</td>\n      <td>Grondwater_chemisch_PFAS</td>\n      <td>PFOStotal</td>\n      <td>NaN</td>\n      <td>1</td>\n      <td>ng/l</td>\n      <td>LABO</td>\n      <td>233</td>\n      <td>5</td>\n      <td>0,5</td>\n      <td>4.5</td>\n    </tr>\n    <tr>\n      <th>4</th>\n      <td>4</td>\n      <td>4</td>\n      <td>https://www.dov.vlaanderen.be/data/watermonste...</td>\n      <td>861/61/2-F2/MPF2101</td>\n      <td>https://www.dov.vlaanderen.be/data/put/2017-00...</td>\n      <td>861/61/2</td>\n      <td>https://www.dov.vlaanderen.be/data/filter/2003...</td>\n      <td>2</td>\n      <td>143922,4688</td>\n      <td>214154,2188</td>\n      <td>...</td>\n      <td>Grondwater_chemisch_PFAS</td>\n      <td>PFBS</td>\n      <td>NaN</td>\n      <td>32</td>\n      <td>ng/l</td>\n      <td>LABO</td>\n      <td>233</td>\n      <td>5</td>\n      <td>0,5</td>\n      <td>4.5</td>\n    </tr>\n  </tbody>\n</table>\n<p>5 rows × 23 columns</p>\n</div>"
     },
     "execution_count": 26,
     "metadata": {},
     "output_type": "execute_result"
    }
   ],
   "source": [
    "df = pd.read_csv('C:/Users/vandekgu/OneDrive - Vlaamse overheid - Office 365/Documenten/PycharmProjects/pygada/pygada/test_data/results/PFAS_gw_VMM.csv')\n",
    "df.head()"
   ],
   "metadata": {
    "collapsed": false,
    "ExecuteTime": {
     "end_time": "2023-07-06T07:58:27.361863500Z",
     "start_time": "2023-07-06T07:58:27.283483700Z"
    }
   }
  },
  {
   "cell_type": "markdown",
   "source": [
    "## Create the Series"
   ],
   "metadata": {
    "collapsed": false
   }
  },
  {
   "cell_type": "code",
   "execution_count": 27,
   "outputs": [
    {
     "data": {
      "text/plain": "         date  count\n0  2021-07-27  546.0\n1  2021-07-28  312.0\n2  2021-07-29  390.0\n3  2021-07-30  232.0\n4  2021-07-31    0.0",
      "text/html": "<div>\n<style scoped>\n    .dataframe tbody tr th:only-of-type {\n        vertical-align: middle;\n    }\n\n    .dataframe tbody tr th {\n        vertical-align: top;\n    }\n\n    .dataframe thead th {\n        text-align: right;\n    }\n</style>\n<table border=\"1\" class=\"dataframe\">\n  <thead>\n    <tr style=\"text-align: right;\">\n      <th></th>\n      <th>date</th>\n      <th>count</th>\n    </tr>\n  </thead>\n  <tbody>\n    <tr>\n      <th>0</th>\n      <td>2021-07-27</td>\n      <td>546.0</td>\n    </tr>\n    <tr>\n      <th>1</th>\n      <td>2021-07-28</td>\n      <td>312.0</td>\n    </tr>\n    <tr>\n      <th>2</th>\n      <td>2021-07-29</td>\n      <td>390.0</td>\n    </tr>\n    <tr>\n      <th>3</th>\n      <td>2021-07-30</td>\n      <td>232.0</td>\n    </tr>\n    <tr>\n      <th>4</th>\n      <td>2021-07-31</td>\n      <td>0.0</td>\n    </tr>\n  </tbody>\n</table>\n</div>"
     },
     "execution_count": 27,
     "metadata": {},
     "output_type": "execute_result"
    }
   ],
   "source": [
    "df[\"date\"] = df[\"date\"].astype(\"datetime64\")\n",
    "df = df[\"date\"].groupby(df.date.dt.to_period(\"D\")).agg('count')\n",
    "df = df.to_timestamp()\n",
    "df = pd.DataFrame(df)\n",
    "df = df.rename(columns={\"date\": \"count\"})\n",
    "idx = pd.date_range(df.index.values[0], df.index.values[-1])\n",
    "df = df.reindex(idx)\n",
    "df = df.reset_index()\n",
    "df = df.rename(columns={\"index\": \"date\"})\n",
    "df['date'] = df[\"date\"].astype(str)\n",
    "df = df.fillna(0)\n",
    "df.head()"
   ],
   "metadata": {
    "collapsed": false,
    "ExecuteTime": {
     "end_time": "2023-07-06T07:58:28.483481200Z",
     "start_time": "2023-07-06T07:58:28.454450300Z"
    }
   }
  },
  {
   "cell_type": "code",
   "execution_count": 28,
   "outputs": [],
   "source": [
    "series = [LineSeries.from_pandas(df, property_map = {'y': 'count', 'x':'date'}, series_kwargs = {'name': 'VMM groundwater'})]"
   ],
   "metadata": {
    "collapsed": false,
    "ExecuteTime": {
     "end_time": "2023-07-06T07:58:29.254445500Z",
     "start_time": "2023-07-06T07:58:29.247587600Z"
    }
   }
  },
  {
   "cell_type": "code",
   "execution_count": 29,
   "outputs": [],
   "source": [
    "options_kwargs = {\n",
    "            'chart': {\n",
    "                'zooming': {\n",
    "                    'key': 'shift',\n",
    "                    'type': 'x'\n",
    "                },\n",
    "              },\n",
    "            'title': {\n",
    "                'text': 'Count of datapoints'\n",
    "            },\n",
    "\n",
    "            'legend': {\n",
    "                'enabled': True\n",
    "            },\n",
    "\n",
    "            'xAxis': {\n",
    "                'type': 'datetime',\n",
    "                'title': {\n",
    "                    'text': 'Date'\n",
    "                }\n",
    "            },\n",
    "\n",
    "            'yAxis': {\n",
    "                'title': {\n",
    "                    'text': 'Count'\n",
    "                }\n",
    "            }\n",
    "        }"
   ],
   "metadata": {
    "collapsed": false,
    "ExecuteTime": {
     "end_time": "2023-07-06T07:58:30.093869300Z",
     "start_time": "2023-07-06T07:58:30.076961100Z"
    }
   }
  },
  {
   "cell_type": "markdown",
   "source": [
    "## Assemble the Chart"
   ],
   "metadata": {
    "collapsed": false
   }
  },
  {
   "cell_type": "code",
   "execution_count": 30,
   "outputs": [],
   "source": [
    "chart = Chart(options = options_kwargs)\n",
    "chart.add_series(*series)"
   ],
   "metadata": {
    "collapsed": false,
    "ExecuteTime": {
     "end_time": "2023-07-06T07:58:31.056785500Z",
     "start_time": "2023-07-06T07:58:31.040527600Z"
    }
   }
  },
  {
   "cell_type": "markdown",
   "source": [
    "## Display the Chart"
   ],
   "metadata": {
    "collapsed": false
   }
  },
  {
   "cell_type": "code",
   "execution_count": 31,
   "outputs": [
    {
     "data": {
      "text/plain": "<IPython.core.display.Javascript object>",
      "application/javascript": "new Promise(function(resolve, reject) {\n  var existing_tags = document.querySelectorAll(\"script[src='https://code.highcharts.com/highcharts.js']\");  if (existing_tags.length == 0) {\n        var script = document.createElement(\"script\");\n        script.onload = resolve;\n        script.onerror = reject;        script.src = 'https://code.highcharts.com/highcharts.js';        document.head.appendChild(script);\n    };\n}).then(() => {new Promise(function(resolve, reject) {\n  var existing_tags = document.querySelectorAll(\"script[src='https://code.highcharts.com/highcharts-more.js']\");  if (existing_tags.length == 0) {\n        var script = document.createElement(\"script\");\n        script.onload = resolve;\n        script.onerror = reject;        script.src = 'https://code.highcharts.com/highcharts-more.js';        document.head.appendChild(script);\n    };\n}).then(() => {new Promise(function(resolve, reject) {\n  var existing_tags = document.querySelectorAll(\"script[src='https://code.highcharts.com/highcharts-3d.js']\");  if (existing_tags.length == 0) {\n        var script = document.createElement(\"script\");\n        script.onload = resolve;\n        script.onerror = reject;        script.src = 'https://code.highcharts.com/highcharts-3d.js';        document.head.appendChild(script);\n    };\n}).then(() => {new Promise(function(resolve, reject) {\n  var existing_tags = document.querySelectorAll(\"script[src='https://code.highcharts.com/modules/sonification.js']\");  if (existing_tags.length == 0) {\n        var script = document.createElement(\"script\");\n        script.onload = resolve;\n        script.onerror = reject;        script.src = 'https://code.highcharts.com/modules/sonification.js';        document.head.appendChild(script);\n    };\n}).then(() => {new Promise(function(resolve, reject) {\n  var existing_tags = document.querySelectorAll(\"script[src='https://code.highcharts.com/modules/accessibility.js']\");  if (existing_tags.length == 0) {\n        var script = document.createElement(\"script\");\n        script.onload = resolve;\n        script.onerror = reject;        script.src = 'https://code.highcharts.com/modules/accessibility.js';        document.head.appendChild(script);\n    };\n}).then(() => {new Promise(function(resolve, reject) {\n  var existing_tags = document.querySelectorAll(\"script[src='https://code.highcharts.com/modules/annotations.js']\");  if (existing_tags.length == 0) {\n        var script = document.createElement(\"script\");\n        script.onload = resolve;\n        script.onerror = reject;        script.src = 'https://code.highcharts.com/modules/annotations.js';        document.head.appendChild(script);\n    };\n}).then(() => {new Promise(function(resolve, reject) {\n  var existing_tags = document.querySelectorAll(\"script[src='https://code.highcharts.com/modules/annotations-advanced.js']\");  if (existing_tags.length == 0) {\n        var script = document.createElement(\"script\");\n        script.onload = resolve;\n        script.onerror = reject;        script.src = 'https://code.highcharts.com/modules/annotations-advanced.js';        document.head.appendChild(script);\n    };\n}).then(() => {new Promise(function(resolve, reject) {\n  var existing_tags = document.querySelectorAll(\"script[src='https://code.highcharts.com/modules/sankey.js']\");  if (existing_tags.length == 0) {\n        var script = document.createElement(\"script\");\n        script.onload = resolve;\n        script.onerror = reject;        script.src = 'https://code.highcharts.com/modules/sankey.js';        document.head.appendChild(script);\n    };\n}).then(() => {new Promise(function(resolve, reject) {\n  var existing_tags = document.querySelectorAll(\"script[src='https://code.highcharts.com/modules/arc-diagram.js']\");  if (existing_tags.length == 0) {\n        var script = document.createElement(\"script\");\n        script.onload = resolve;\n        script.onerror = reject;        script.src = 'https://code.highcharts.com/modules/arc-diagram.js';        document.head.appendChild(script);\n    };\n}).then(() => {new Promise(function(resolve, reject) {\n  var existing_tags = document.querySelectorAll(\"script[src='https://code.highcharts.com/modules/boost.js']\");  if (existing_tags.length == 0) {\n        var script = document.createElement(\"script\");\n        script.onload = resolve;\n        script.onerror = reject;        script.src = 'https://code.highcharts.com/modules/boost.js';        document.head.appendChild(script);\n    };\n}).then(() => {new Promise(function(resolve, reject) {\n  var existing_tags = document.querySelectorAll(\"script[src='https://code.highcharts.com/modules/broken-axis.js']\");  if (existing_tags.length == 0) {\n        var script = document.createElement(\"script\");\n        script.onload = resolve;\n        script.onerror = reject;        script.src = 'https://code.highcharts.com/modules/broken-axis.js';        document.head.appendChild(script);\n    };\n}).then(() => {new Promise(function(resolve, reject) {\n  var existing_tags = document.querySelectorAll(\"script[src='https://code.highcharts.com/modules/bullet.js']\");  if (existing_tags.length == 0) {\n        var script = document.createElement(\"script\");\n        script.onload = resolve;\n        script.onerror = reject;        script.src = 'https://code.highcharts.com/modules/bullet.js';        document.head.appendChild(script);\n    };\n}).then(() => {new Promise(function(resolve, reject) {\n  var existing_tags = document.querySelectorAll(\"script[src='https://code.highcharts.com/modules/cylinder.js']\");  if (existing_tags.length == 0) {\n        var script = document.createElement(\"script\");\n        script.onload = resolve;\n        script.onerror = reject;        script.src = 'https://code.highcharts.com/modules/cylinder.js';        document.head.appendChild(script);\n    };\n}).then(() => {new Promise(function(resolve, reject) {\n  var existing_tags = document.querySelectorAll(\"script[src='https://code.highcharts.com/modules/data.js']\");  if (existing_tags.length == 0) {\n        var script = document.createElement(\"script\");\n        script.onload = resolve;\n        script.onerror = reject;        script.src = 'https://code.highcharts.com/modules/data.js';        document.head.appendChild(script);\n    };\n}).then(() => {new Promise(function(resolve, reject) {\n  var existing_tags = document.querySelectorAll(\"script[src='https://code.highcharts.com/modules/datagrouping.js']\");  if (existing_tags.length == 0) {\n        var script = document.createElement(\"script\");\n        script.onload = resolve;\n        script.onerror = reject;        script.src = 'https://code.highcharts.com/modules/datagrouping.js';        document.head.appendChild(script);\n    };\n}).then(() => {new Promise(function(resolve, reject) {\n  var existing_tags = document.querySelectorAll(\"script[src='https://code.highcharts.com/modules/debugger.js']\");  if (existing_tags.length == 0) {\n        var script = document.createElement(\"script\");\n        script.onload = resolve;\n        script.onerror = reject;        script.src = 'https://code.highcharts.com/modules/debugger.js';        document.head.appendChild(script);\n    };\n}).then(() => {new Promise(function(resolve, reject) {\n  var existing_tags = document.querySelectorAll(\"script[src='https://code.highcharts.com/modules/dependency-wheel.js']\");  if (existing_tags.length == 0) {\n        var script = document.createElement(\"script\");\n        script.onload = resolve;\n        script.onerror = reject;        script.src = 'https://code.highcharts.com/modules/dependency-wheel.js';        document.head.appendChild(script);\n    };\n}).then(() => {new Promise(function(resolve, reject) {\n  var existing_tags = document.querySelectorAll(\"script[src='https://code.highcharts.com/modules/drag-panes.js']\");  if (existing_tags.length == 0) {\n        var script = document.createElement(\"script\");\n        script.onload = resolve;\n        script.onerror = reject;        script.src = 'https://code.highcharts.com/modules/drag-panes.js';        document.head.appendChild(script);\n    };\n}).then(() => {new Promise(function(resolve, reject) {\n  var existing_tags = document.querySelectorAll(\"script[src='https://code.highcharts.com/modules/draggable-points.js']\");  if (existing_tags.length == 0) {\n        var script = document.createElement(\"script\");\n        script.onload = resolve;\n        script.onerror = reject;        script.src = 'https://code.highcharts.com/modules/draggable-points.js';        document.head.appendChild(script);\n    };\n}).then(() => {new Promise(function(resolve, reject) {\n  var existing_tags = document.querySelectorAll(\"script[src='https://code.highcharts.com/modules/drilldown.js']\");  if (existing_tags.length == 0) {\n        var script = document.createElement(\"script\");\n        script.onload = resolve;\n        script.onerror = reject;        script.src = 'https://code.highcharts.com/modules/drilldown.js';        document.head.appendChild(script);\n    };\n}).then(() => {new Promise(function(resolve, reject) {\n  var existing_tags = document.querySelectorAll(\"script[src='https://code.highcharts.com/modules/dumbbell.js']\");  if (existing_tags.length == 0) {\n        var script = document.createElement(\"script\");\n        script.onload = resolve;\n        script.onerror = reject;        script.src = 'https://code.highcharts.com/modules/dumbbell.js';        document.head.appendChild(script);\n    };\n}).then(() => {new Promise(function(resolve, reject) {\n  var existing_tags = document.querySelectorAll(\"script[src='https://code.highcharts.com/modules/export-data.js']\");  if (existing_tags.length == 0) {\n        var script = document.createElement(\"script\");\n        script.onload = resolve;\n        script.onerror = reject;        script.src = 'https://code.highcharts.com/modules/export-data.js';        document.head.appendChild(script);\n    };\n}).then(() => {new Promise(function(resolve, reject) {\n  var existing_tags = document.querySelectorAll(\"script[src='https://code.highcharts.com/modules/exporting.js']\");  if (existing_tags.length == 0) {\n        var script = document.createElement(\"script\");\n        script.onload = resolve;\n        script.onerror = reject;        script.src = 'https://code.highcharts.com/modules/exporting.js';        document.head.appendChild(script);\n    };\n}).then(() => {new Promise(function(resolve, reject) {\n  var existing_tags = document.querySelectorAll(\"script[src='https://code.highcharts.com/modules/funnel.js']\");  if (existing_tags.length == 0) {\n        var script = document.createElement(\"script\");\n        script.onload = resolve;\n        script.onerror = reject;        script.src = 'https://code.highcharts.com/modules/funnel.js';        document.head.appendChild(script);\n    };\n}).then(() => {new Promise(function(resolve, reject) {\n  var existing_tags = document.querySelectorAll(\"script[src='https://code.highcharts.com/modules/funnel3d.js']\");  if (existing_tags.length == 0) {\n        var script = document.createElement(\"script\");\n        script.onload = resolve;\n        script.onerror = reject;        script.src = 'https://code.highcharts.com/modules/funnel3d.js';        document.head.appendChild(script);\n    };\n}).then(() => {new Promise(function(resolve, reject) {\n  var existing_tags = document.querySelectorAll(\"script[src='https://code.highcharts.com/modules/heatmap.js']\");  if (existing_tags.length == 0) {\n        var script = document.createElement(\"script\");\n        script.onload = resolve;\n        script.onerror = reject;        script.src = 'https://code.highcharts.com/modules/heatmap.js';        document.head.appendChild(script);\n    };\n}).then(() => {new Promise(function(resolve, reject) {\n  var existing_tags = document.querySelectorAll(\"script[src='https://code.highcharts.com/modules/item-series.js']\");  if (existing_tags.length == 0) {\n        var script = document.createElement(\"script\");\n        script.onload = resolve;\n        script.onerror = reject;        script.src = 'https://code.highcharts.com/modules/item-series.js';        document.head.appendChild(script);\n    };\n}).then(() => {new Promise(function(resolve, reject) {\n  var existing_tags = document.querySelectorAll(\"script[src='https://code.highcharts.com/modules/lollipop.js']\");  if (existing_tags.length == 0) {\n        var script = document.createElement(\"script\");\n        script.onload = resolve;\n        script.onerror = reject;        script.src = 'https://code.highcharts.com/modules/lollipop.js';        document.head.appendChild(script);\n    };\n}).then(() => {new Promise(function(resolve, reject) {\n  var existing_tags = document.querySelectorAll(\"script[src='https://code.highcharts.com/modules/networkgraph.js']\");  if (existing_tags.length == 0) {\n        var script = document.createElement(\"script\");\n        script.onload = resolve;\n        script.onerror = reject;        script.src = 'https://code.highcharts.com/modules/networkgraph.js';        document.head.appendChild(script);\n    };\n}).then(() => {new Promise(function(resolve, reject) {\n  var existing_tags = document.querySelectorAll(\"script[src='https://code.highcharts.com/modules/no-data-to-display.js']\");  if (existing_tags.length == 0) {\n        var script = document.createElement(\"script\");\n        script.onload = resolve;\n        script.onerror = reject;        script.src = 'https://code.highcharts.com/modules/no-data-to-display.js';        document.head.appendChild(script);\n    };\n}).then(() => {new Promise(function(resolve, reject) {\n  var existing_tags = document.querySelectorAll(\"script[src='https://code.highcharts.com/modules/offline-exporting.js']\");  if (existing_tags.length == 0) {\n        var script = document.createElement(\"script\");\n        script.onload = resolve;\n        script.onerror = reject;        script.src = 'https://code.highcharts.com/modules/offline-exporting.js';        document.head.appendChild(script);\n    };\n}).then(() => {new Promise(function(resolve, reject) {\n  var existing_tags = document.querySelectorAll(\"script[src='https://code.highcharts.com/modules/oldie.js']\");  if (existing_tags.length == 0) {\n        var script = document.createElement(\"script\");\n        script.onload = resolve;\n        script.onerror = reject;        script.src = 'https://code.highcharts.com/modules/oldie.js';        document.head.appendChild(script);\n    };\n}).then(() => {new Promise(function(resolve, reject) {\n  var existing_tags = document.querySelectorAll(\"script[src='https://code.highcharts.com/modules/organization.js']\");  if (existing_tags.length == 0) {\n        var script = document.createElement(\"script\");\n        script.onload = resolve;\n        script.onerror = reject;        script.src = 'https://code.highcharts.com/modules/organization.js';        document.head.appendChild(script);\n    };\n}).then(() => {new Promise(function(resolve, reject) {\n  var existing_tags = document.querySelectorAll(\"script[src='https://code.highcharts.com/modules/parallel-coordinates.js']\");  if (existing_tags.length == 0) {\n        var script = document.createElement(\"script\");\n        script.onload = resolve;\n        script.onerror = reject;        script.src = 'https://code.highcharts.com/modules/parallel-coordinates.js';        document.head.appendChild(script);\n    };\n}).then(() => {new Promise(function(resolve, reject) {\n  var existing_tags = document.querySelectorAll(\"script[src='https://code.highcharts.com/modules/pareto.js']\");  if (existing_tags.length == 0) {\n        var script = document.createElement(\"script\");\n        script.onload = resolve;\n        script.onerror = reject;        script.src = 'https://code.highcharts.com/modules/pareto.js';        document.head.appendChild(script);\n    };\n}).then(() => {new Promise(function(resolve, reject) {\n  var existing_tags = document.querySelectorAll(\"script[src='https://code.highcharts.com/modules/pictorial.js']\");  if (existing_tags.length == 0) {\n        var script = document.createElement(\"script\");\n        script.onload = resolve;\n        script.onerror = reject;        script.src = 'https://code.highcharts.com/modules/pictorial.js';        document.head.appendChild(script);\n    };\n}).then(() => {new Promise(function(resolve, reject) {\n  var existing_tags = document.querySelectorAll(\"script[src='https://code.highcharts.com/modules/pyramid3d.js']\");  if (existing_tags.length == 0) {\n        var script = document.createElement(\"script\");\n        script.onload = resolve;\n        script.onerror = reject;        script.src = 'https://code.highcharts.com/modules/pyramid3d.js';        document.head.appendChild(script);\n    };\n}).then(() => {new Promise(function(resolve, reject) {\n  var existing_tags = document.querySelectorAll(\"script[src='https://code.highcharts.com/modules/series-label.js']\");  if (existing_tags.length == 0) {\n        var script = document.createElement(\"script\");\n        script.onload = resolve;\n        script.onerror = reject;        script.src = 'https://code.highcharts.com/modules/series-label.js';        document.head.appendChild(script);\n    };\n}).then(() => {new Promise(function(resolve, reject) {\n  var existing_tags = document.querySelectorAll(\"script[src='https://code.highcharts.com/modules/series-on-point.js']\");  if (existing_tags.length == 0) {\n        var script = document.createElement(\"script\");\n        script.onload = resolve;\n        script.onerror = reject;        script.src = 'https://code.highcharts.com/modules/series-on-point.js';        document.head.appendChild(script);\n    };\n}).then(() => {new Promise(function(resolve, reject) {\n  var existing_tags = document.querySelectorAll(\"script[src='https://code.highcharts.com/modules/solid-gauge.js']\");  if (existing_tags.length == 0) {\n        var script = document.createElement(\"script\");\n        script.onload = resolve;\n        script.onerror = reject;        script.src = 'https://code.highcharts.com/modules/solid-gauge.js';        document.head.appendChild(script);\n    };\n}).then(() => {new Promise(function(resolve, reject) {\n  var existing_tags = document.querySelectorAll(\"script[src='https://code.highcharts.com/modules/streamgraph.js']\");  if (existing_tags.length == 0) {\n        var script = document.createElement(\"script\");\n        script.onload = resolve;\n        script.onerror = reject;        script.src = 'https://code.highcharts.com/modules/streamgraph.js';        document.head.appendChild(script);\n    };\n}).then(() => {new Promise(function(resolve, reject) {\n  var existing_tags = document.querySelectorAll(\"script[src='https://code.highcharts.com/modules/sunburst.js']\");  if (existing_tags.length == 0) {\n        var script = document.createElement(\"script\");\n        script.onload = resolve;\n        script.onerror = reject;        script.src = 'https://code.highcharts.com/modules/sunburst.js';        document.head.appendChild(script);\n    };\n}).then(() => {new Promise(function(resolve, reject) {\n  var existing_tags = document.querySelectorAll(\"script[src='https://code.highcharts.com/modules/tilemap.js']\");  if (existing_tags.length == 0) {\n        var script = document.createElement(\"script\");\n        script.onload = resolve;\n        script.onerror = reject;        script.src = 'https://code.highcharts.com/modules/tilemap.js';        document.head.appendChild(script);\n    };\n}).then(() => {new Promise(function(resolve, reject) {\n  var existing_tags = document.querySelectorAll(\"script[src='https://code.highcharts.com/modules/timeline.js']\");  if (existing_tags.length == 0) {\n        var script = document.createElement(\"script\");\n        script.onload = resolve;\n        script.onerror = reject;        script.src = 'https://code.highcharts.com/modules/timeline.js';        document.head.appendChild(script);\n    };\n}).then(() => {new Promise(function(resolve, reject) {\n  var existing_tags = document.querySelectorAll(\"script[src='https://code.highcharts.com/modules/treegraph.js']\");  if (existing_tags.length == 0) {\n        var script = document.createElement(\"script\");\n        script.onload = resolve;\n        script.onerror = reject;        script.src = 'https://code.highcharts.com/modules/treegraph.js';        document.head.appendChild(script);\n    };\n}).then(() => {new Promise(function(resolve, reject) {\n  var existing_tags = document.querySelectorAll(\"script[src='https://code.highcharts.com/modules/treemap.js']\");  if (existing_tags.length == 0) {\n        var script = document.createElement(\"script\");\n        script.onload = resolve;\n        script.onerror = reject;        script.src = 'https://code.highcharts.com/modules/treemap.js';        document.head.appendChild(script);\n    };\n}).then(() => {new Promise(function(resolve, reject) {\n  var existing_tags = document.querySelectorAll(\"script[src='https://code.highcharts.com/modules/variable-pie.js']\");  if (existing_tags.length == 0) {\n        var script = document.createElement(\"script\");\n        script.onload = resolve;\n        script.onerror = reject;        script.src = 'https://code.highcharts.com/modules/variable-pie.js';        document.head.appendChild(script);\n    };\n}).then(() => {new Promise(function(resolve, reject) {\n  var existing_tags = document.querySelectorAll(\"script[src='https://code.highcharts.com/modules/variwide.js']\");  if (existing_tags.length == 0) {\n        var script = document.createElement(\"script\");\n        script.onload = resolve;\n        script.onerror = reject;        script.src = 'https://code.highcharts.com/modules/variwide.js';        document.head.appendChild(script);\n    };\n}).then(() => {new Promise(function(resolve, reject) {\n  var existing_tags = document.querySelectorAll(\"script[src='https://code.highcharts.com/modules/vector.js']\");  if (existing_tags.length == 0) {\n        var script = document.createElement(\"script\");\n        script.onload = resolve;\n        script.onerror = reject;        script.src = 'https://code.highcharts.com/modules/vector.js';        document.head.appendChild(script);\n    };\n}).then(() => {new Promise(function(resolve, reject) {\n  var existing_tags = document.querySelectorAll(\"script[src='https://code.highcharts.com/modules/venn.js']\");  if (existing_tags.length == 0) {\n        var script = document.createElement(\"script\");\n        script.onload = resolve;\n        script.onerror = reject;        script.src = 'https://code.highcharts.com/modules/venn.js';        document.head.appendChild(script);\n    };\n}).then(() => {new Promise(function(resolve, reject) {\n  var existing_tags = document.querySelectorAll(\"script[src='https://code.highcharts.com/modules/windbarb.js']\");  if (existing_tags.length == 0) {\n        var script = document.createElement(\"script\");\n        script.onload = resolve;\n        script.onerror = reject;        script.src = 'https://code.highcharts.com/modules/windbarb.js';        document.head.appendChild(script);\n    };\n}).then(() => {new Promise(function(resolve, reject) {\n  var existing_tags = document.querySelectorAll(\"script[src='https://code.highcharts.com/modules/wordcloud.js']\");  if (existing_tags.length == 0) {\n        var script = document.createElement(\"script\");\n        script.onload = resolve;\n        script.onerror = reject;        script.src = 'https://code.highcharts.com/modules/wordcloud.js';        document.head.appendChild(script);\n    };\n}).then(() => {new Promise(function(resolve, reject) {\n  var existing_tags = document.querySelectorAll(\"script[src='https://code.highcharts.com/modules/xrange.js']\");  if (existing_tags.length == 0) {\n        var script = document.createElement(\"script\");\n        script.onload = resolve;\n        script.onerror = reject;        script.src = 'https://code.highcharts.com/modules/xrange.js';        document.head.appendChild(script);\n    };\n}).then(() => {});});});});});});});});});});});});});});});});});});});});});});});});});});});});});});});});});});});});});});});});});});});});});});});});});});});});});"
     },
     "metadata": {},
     "output_type": "display_data"
    },
    {
     "data": {
      "text/plain": "<IPython.core.display.HTML object>",
      "text/html": "<div id=\"highcharts_container_YT8Y09\" style=\"width:100%; height:400;\"></div>\n"
     },
     "metadata": {},
     "output_type": "display_data"
    },
    {
     "data": {
      "text/plain": "<IPython.core.display.Javascript object>",
      "application/javascript": "function retryHighcharts(fn, container = 'highcharts_target_div', retries = 3, retriesLeft = 3, \n        interval = 1000) {\n            return new Promise((resolve, reject) => {\n            try {\n                fn()\n                return resolve();\n            } catch (err) {\n                if ((err instanceof ReferenceError) || (err instanceof TypeError)) {\n                    if (retriesLeft === 0) {\n                        var target_div = document.getElementById(container);\n                        if (target_div) {\n                            var timeElapsed = (retries * interval) / 1000;\n                            var errorMessage = \"Something went wrong with the Highcharts.js script. It should have been automatically loaded, but it did not load for over \" + timeElapsed + \" seconds. Check your internet connection, and then if the problem persists please reach out for support. (You can also check your browser's console log for more details.)\";\n                            var errorHTML = \"<p>\" + errorMessage + \"</p>\";\n                            target_div.innerHTML = errorMessage;\n                            console.log(errorMessage);\n                            console.error(err);\n                        }\n                        return reject();\n                    }\n\n                    setTimeout(() => {\n                        retryHighcharts(fn, container, retries, retriesLeft - 1, interval).then(resolve).catch(reject);\n                    }, interval);\n                } else if ((err instanceof Error) && (err.message.includes('#13'))) {\n                    var errorMessage = \"It looks like the container specified '\" + container + \"' was not created successfully. Please check your browser's console log for more details.\";\n                    console.error(errorMessage);\n                    console.error(err);\n                    \n                    return reject();\n                } else {\n                    throw err;\n                }\n            }\n        });\n    };function insertChart_YT8Y09() {\n\nHighcharts.chart('highcharts_container_YT8Y09',\n{\n  chart: {\n  zooming: {\n  key: 'shift',\n  type: 'x'\n}\n},\n  legend: {\n  enabled: true\n},\n  series: [{\n  data: [{\n  x: Date.UTC(2021, 6, 27),\n  y: 546.0\n},\n{\n  x: Date.UTC(2021, 6, 28),\n  y: 312.0\n},\n{\n  x: Date.UTC(2021, 6, 29),\n  y: 390.0\n},\n{\n  x: Date.UTC(2021, 6, 30),\n  y: 232.0\n},\n{\n  x: Date.UTC(2021, 6, 31),\n  y: 0.0\n},\n{\n  x: Date.UTC(2021, 7, 1),\n  y: 0.0\n},\n{\n  x: Date.UTC(2021, 7, 2),\n  y: 0.0\n},\n{\n  x: Date.UTC(2021, 7, 3),\n  y: 39.0\n},\n{\n  x: Date.UTC(2021, 7, 4),\n  y: 0.0\n},\n{\n  x: Date.UTC(2021, 7, 5),\n  y: 0.0\n},\n{\n  x: Date.UTC(2021, 7, 6),\n  y: 0.0\n},\n{\n  x: Date.UTC(2021, 7, 7),\n  y: 0.0\n},\n{\n  x: Date.UTC(2021, 7, 8),\n  y: 0.0\n},\n{\n  x: Date.UTC(2021, 7, 9),\n  y: 0.0\n},\n{\n  x: Date.UTC(2021, 7, 10),\n  y: 0.0\n},\n{\n  x: Date.UTC(2021, 7, 11),\n  y: 0.0\n},\n{\n  x: Date.UTC(2021, 7, 12),\n  y: 0.0\n},\n{\n  x: Date.UTC(2021, 7, 13),\n  y: 0.0\n},\n{\n  x: Date.UTC(2021, 7, 14),\n  y: 0.0\n},\n{\n  x: Date.UTC(2021, 7, 15),\n  y: 0.0\n},\n{\n  x: Date.UTC(2021, 7, 16),\n  y: 0.0\n},\n{\n  x: Date.UTC(2021, 7, 17),\n  y: 0.0\n},\n{\n  x: Date.UTC(2021, 7, 18),\n  y: 0.0\n},\n{\n  x: Date.UTC(2021, 7, 19),\n  y: 0.0\n},\n{\n  x: Date.UTC(2021, 7, 20),\n  y: 0.0\n},\n{\n  x: Date.UTC(2021, 7, 21),\n  y: 0.0\n},\n{\n  x: Date.UTC(2021, 7, 22),\n  y: 0.0\n},\n{\n  x: Date.UTC(2021, 7, 23),\n  y: 0.0\n},\n{\n  x: Date.UTC(2021, 7, 24),\n  y: 0.0\n},\n{\n  x: Date.UTC(2021, 7, 25),\n  y: 0.0\n},\n{\n  x: Date.UTC(2021, 7, 26),\n  y: 0.0\n},\n{\n  x: Date.UTC(2021, 7, 27),\n  y: 0.0\n},\n{\n  x: Date.UTC(2021, 7, 28),\n  y: 0.0\n},\n{\n  x: Date.UTC(2021, 7, 29),\n  y: 0.0\n},\n{\n  x: Date.UTC(2021, 7, 30),\n  y: 0.0\n},\n{\n  x: Date.UTC(2021, 7, 31),\n  y: 0.0\n},\n{\n  x: Date.UTC(2021, 8, 1),\n  y: 0.0\n},\n{\n  x: Date.UTC(2021, 8, 2),\n  y: 0.0\n},\n{\n  x: Date.UTC(2021, 8, 3),\n  y: 0.0\n},\n{\n  x: Date.UTC(2021, 8, 4),\n  y: 0.0\n},\n{\n  x: Date.UTC(2021, 8, 5),\n  y: 0.0\n},\n{\n  x: Date.UTC(2021, 8, 6),\n  y: 0.0\n},\n{\n  x: Date.UTC(2021, 8, 7),\n  y: 0.0\n},\n{\n  x: Date.UTC(2021, 8, 8),\n  y: 0.0\n},\n{\n  x: Date.UTC(2021, 8, 9),\n  y: 0.0\n},\n{\n  x: Date.UTC(2021, 8, 10),\n  y: 0.0\n},\n{\n  x: Date.UTC(2021, 8, 11),\n  y: 0.0\n},\n{\n  x: Date.UTC(2021, 8, 12),\n  y: 0.0\n},\n{\n  x: Date.UTC(2021, 8, 13),\n  y: 0.0\n},\n{\n  x: Date.UTC(2021, 8, 14),\n  y: 0.0\n},\n{\n  x: Date.UTC(2021, 8, 15),\n  y: 0.0\n},\n{\n  x: Date.UTC(2021, 8, 16),\n  y: 0.0\n},\n{\n  x: Date.UTC(2021, 8, 17),\n  y: 0.0\n},\n{\n  x: Date.UTC(2021, 8, 18),\n  y: 0.0\n},\n{\n  x: Date.UTC(2021, 8, 19),\n  y: 0.0\n},\n{\n  x: Date.UTC(2021, 8, 20),\n  y: 0.0\n},\n{\n  x: Date.UTC(2021, 8, 21),\n  y: 0.0\n},\n{\n  x: Date.UTC(2021, 8, 22),\n  y: 0.0\n},\n{\n  x: Date.UTC(2021, 8, 23),\n  y: 0.0\n},\n{\n  x: Date.UTC(2021, 8, 24),\n  y: 0.0\n},\n{\n  x: Date.UTC(2021, 8, 25),\n  y: 0.0\n},\n{\n  x: Date.UTC(2021, 8, 26),\n  y: 0.0\n},\n{\n  x: Date.UTC(2021, 8, 27),\n  y: 0.0\n},\n{\n  x: Date.UTC(2021, 8, 28),\n  y: 0.0\n},\n{\n  x: Date.UTC(2021, 8, 29),\n  y: 0.0\n},\n{\n  x: Date.UTC(2021, 8, 30),\n  y: 0.0\n},\n{\n  x: Date.UTC(2021, 9, 1),\n  y: 0.0\n},\n{\n  x: Date.UTC(2021, 9, 2),\n  y: 0.0\n},\n{\n  x: Date.UTC(2021, 9, 3),\n  y: 0.0\n},\n{\n  x: Date.UTC(2021, 9, 4),\n  y: 0.0\n},\n{\n  x: Date.UTC(2021, 9, 5),\n  y: 0.0\n},\n{\n  x: Date.UTC(2021, 9, 6),\n  y: 0.0\n},\n{\n  x: Date.UTC(2021, 9, 7),\n  y: 0.0\n},\n{\n  x: Date.UTC(2021, 9, 8),\n  y: 0.0\n},\n{\n  x: Date.UTC(2021, 9, 9),\n  y: 0.0\n},\n{\n  x: Date.UTC(2021, 9, 10),\n  y: 0.0\n},\n{\n  x: Date.UTC(2021, 9, 11),\n  y: 0.0\n},\n{\n  x: Date.UTC(2021, 9, 12),\n  y: 0.0\n},\n{\n  x: Date.UTC(2021, 9, 13),\n  y: 0.0\n},\n{\n  x: Date.UTC(2021, 9, 14),\n  y: 0.0\n},\n{\n  x: Date.UTC(2021, 9, 15),\n  y: 0.0\n},\n{\n  x: Date.UTC(2021, 9, 16),\n  y: 0.0\n},\n{\n  x: Date.UTC(2021, 9, 17),\n  y: 0.0\n},\n{\n  x: Date.UTC(2021, 9, 18),\n  y: 0.0\n},\n{\n  x: Date.UTC(2021, 9, 19),\n  y: 0.0\n},\n{\n  x: Date.UTC(2021, 9, 20),\n  y: 0.0\n},\n{\n  x: Date.UTC(2021, 9, 21),\n  y: 0.0\n},\n{\n  x: Date.UTC(2021, 9, 22),\n  y: 0.0\n},\n{\n  x: Date.UTC(2021, 9, 23),\n  y: 0.0\n},\n{\n  x: Date.UTC(2021, 9, 24),\n  y: 0.0\n},\n{\n  x: Date.UTC(2021, 9, 25),\n  y: 0.0\n},\n{\n  x: Date.UTC(2021, 9, 26),\n  y: 0.0\n},\n{\n  x: Date.UTC(2021, 9, 27),\n  y: 0.0\n},\n{\n  x: Date.UTC(2021, 9, 28),\n  y: 0.0\n},\n{\n  x: Date.UTC(2021, 9, 29),\n  y: 0.0\n},\n{\n  x: Date.UTC(2021, 9, 30),\n  y: 0.0\n},\n{\n  x: Date.UTC(2021, 9, 31),\n  y: 0.0\n},\n{\n  x: Date.UTC(2021, 10, 1),\n  y: 0.0\n},\n{\n  x: Date.UTC(2021, 10, 2),\n  y: 0.0\n},\n{\n  x: Date.UTC(2021, 10, 3),\n  y: 0.0\n},\n{\n  x: Date.UTC(2021, 10, 4),\n  y: 0.0\n},\n{\n  x: Date.UTC(2021, 10, 5),\n  y: 0.0\n},\n{\n  x: Date.UTC(2021, 10, 6),\n  y: 0.0\n},\n{\n  x: Date.UTC(2021, 10, 7),\n  y: 0.0\n},\n{\n  x: Date.UTC(2021, 10, 8),\n  y: 0.0\n},\n{\n  x: Date.UTC(2021, 10, 9),\n  y: 0.0\n},\n{\n  x: Date.UTC(2021, 10, 10),\n  y: 0.0\n},\n{\n  x: Date.UTC(2021, 10, 11),\n  y: 0.0\n},\n{\n  x: Date.UTC(2021, 10, 12),\n  y: 0.0\n},\n{\n  x: Date.UTC(2021, 10, 13),\n  y: 0.0\n},\n{\n  x: Date.UTC(2021, 10, 14),\n  y: 0.0\n},\n{\n  x: Date.UTC(2021, 10, 15),\n  y: 0.0\n},\n{\n  x: Date.UTC(2021, 10, 16),\n  y: 0.0\n},\n{\n  x: Date.UTC(2021, 10, 17),\n  y: 0.0\n},\n{\n  x: Date.UTC(2021, 10, 18),\n  y: 0.0\n},\n{\n  x: Date.UTC(2021, 10, 19),\n  y: 0.0\n},\n{\n  x: Date.UTC(2021, 10, 20),\n  y: 0.0\n},\n{\n  x: Date.UTC(2021, 10, 21),\n  y: 0.0\n},\n{\n  x: Date.UTC(2021, 10, 22),\n  y: 0.0\n},\n{\n  x: Date.UTC(2021, 10, 23),\n  y: 0.0\n},\n{\n  x: Date.UTC(2021, 10, 24),\n  y: 0.0\n},\n{\n  x: Date.UTC(2021, 10, 25),\n  y: 0.0\n},\n{\n  x: Date.UTC(2021, 10, 26),\n  y: 0.0\n},\n{\n  x: Date.UTC(2021, 10, 27),\n  y: 0.0\n},\n{\n  x: Date.UTC(2021, 10, 28),\n  y: 0.0\n},\n{\n  x: Date.UTC(2021, 10, 29),\n  y: 0.0\n},\n{\n  x: Date.UTC(2021, 10, 30),\n  y: 0.0\n},\n{\n  x: Date.UTC(2021, 11, 1),\n  y: 0.0\n},\n{\n  x: Date.UTC(2021, 11, 2),\n  y: 0.0\n},\n{\n  x: Date.UTC(2021, 11, 3),\n  y: 0.0\n},\n{\n  x: Date.UTC(2021, 11, 4),\n  y: 0.0\n},\n{\n  x: Date.UTC(2021, 11, 5),\n  y: 0.0\n},\n{\n  x: Date.UTC(2021, 11, 6),\n  y: 0.0\n},\n{\n  x: Date.UTC(2021, 11, 7),\n  y: 0.0\n},\n{\n  x: Date.UTC(2021, 11, 8),\n  y: 0.0\n},\n{\n  x: Date.UTC(2021, 11, 9),\n  y: 0.0\n},\n{\n  x: Date.UTC(2021, 11, 10),\n  y: 0.0\n},\n{\n  x: Date.UTC(2021, 11, 11),\n  y: 0.0\n},\n{\n  x: Date.UTC(2021, 11, 12),\n  y: 0.0\n},\n{\n  x: Date.UTC(2021, 11, 13),\n  y: 0.0\n},\n{\n  x: Date.UTC(2021, 11, 14),\n  y: 0.0\n},\n{\n  x: Date.UTC(2021, 11, 15),\n  y: 0.0\n},\n{\n  x: Date.UTC(2021, 11, 16),\n  y: 0.0\n},\n{\n  x: Date.UTC(2021, 11, 17),\n  y: 0.0\n},\n{\n  x: Date.UTC(2021, 11, 18),\n  y: 0.0\n},\n{\n  x: Date.UTC(2021, 11, 19),\n  y: 0.0\n},\n{\n  x: Date.UTC(2021, 11, 20),\n  y: 0.0\n},\n{\n  x: Date.UTC(2021, 11, 21),\n  y: 0.0\n},\n{\n  x: Date.UTC(2021, 11, 22),\n  y: 0.0\n},\n{\n  x: Date.UTC(2021, 11, 23),\n  y: 0.0\n},\n{\n  x: Date.UTC(2021, 11, 24),\n  y: 0.0\n},\n{\n  x: Date.UTC(2021, 11, 25),\n  y: 0.0\n},\n{\n  x: Date.UTC(2021, 11, 26),\n  y: 0.0\n},\n{\n  x: Date.UTC(2021, 11, 27),\n  y: 0.0\n},\n{\n  x: Date.UTC(2021, 11, 28),\n  y: 0.0\n},\n{\n  x: Date.UTC(2021, 11, 29),\n  y: 0.0\n},\n{\n  x: Date.UTC(2021, 11, 30),\n  y: 0.0\n},\n{\n  x: Date.UTC(2021, 11, 31),\n  y: 0.0\n},\n{\n  x: Date.UTC(2022, 0, 1),\n  y: 0.0\n},\n{\n  x: Date.UTC(2022, 0, 2),\n  y: 0.0\n},\n{\n  x: Date.UTC(2022, 0, 3),\n  y: 0.0\n},\n{\n  x: Date.UTC(2022, 0, 4),\n  y: 0.0\n},\n{\n  x: Date.UTC(2022, 0, 5),\n  y: 0.0\n},\n{\n  x: Date.UTC(2022, 0, 6),\n  y: 0.0\n},\n{\n  x: Date.UTC(2022, 0, 7),\n  y: 0.0\n},\n{\n  x: Date.UTC(2022, 0, 8),\n  y: 0.0\n},\n{\n  x: Date.UTC(2022, 0, 9),\n  y: 0.0\n},\n{\n  x: Date.UTC(2022, 0, 10),\n  y: 0.0\n},\n{\n  x: Date.UTC(2022, 0, 11),\n  y: 0.0\n},\n{\n  x: Date.UTC(2022, 0, 12),\n  y: 0.0\n},\n{\n  x: Date.UTC(2022, 0, 13),\n  y: 0.0\n},\n{\n  x: Date.UTC(2022, 0, 14),\n  y: 0.0\n},\n{\n  x: Date.UTC(2022, 0, 15),\n  y: 0.0\n},\n{\n  x: Date.UTC(2022, 0, 16),\n  y: 0.0\n},\n{\n  x: Date.UTC(2022, 0, 17),\n  y: 0.0\n},\n{\n  x: Date.UTC(2022, 0, 18),\n  y: 0.0\n},\n{\n  x: Date.UTC(2022, 0, 19),\n  y: 0.0\n},\n{\n  x: Date.UTC(2022, 0, 20),\n  y: 0.0\n},\n{\n  x: Date.UTC(2022, 0, 21),\n  y: 0.0\n},\n{\n  x: Date.UTC(2022, 0, 22),\n  y: 0.0\n},\n{\n  x: Date.UTC(2022, 0, 23),\n  y: 0.0\n},\n{\n  x: Date.UTC(2022, 0, 24),\n  y: 0.0\n},\n{\n  x: Date.UTC(2022, 0, 25),\n  y: 0.0\n},\n{\n  x: Date.UTC(2022, 0, 26),\n  y: 0.0\n},\n{\n  x: Date.UTC(2022, 0, 27),\n  y: 0.0\n},\n{\n  x: Date.UTC(2022, 0, 28),\n  y: 0.0\n},\n{\n  x: Date.UTC(2022, 0, 29),\n  y: 0.0\n},\n{\n  x: Date.UTC(2022, 0, 30),\n  y: 0.0\n},\n{\n  x: Date.UTC(2022, 0, 31),\n  y: 192.0\n},\n{\n  x: Date.UTC(2022, 1, 1),\n  y: 576.0\n},\n{\n  x: Date.UTC(2022, 1, 2),\n  y: 864.0\n},\n{\n  x: Date.UTC(2022, 1, 3),\n  y: 240.0\n},\n{\n  x: Date.UTC(2022, 1, 4),\n  y: 480.0\n},\n{\n  x: Date.UTC(2022, 1, 5),\n  y: 0.0\n},\n{\n  x: Date.UTC(2022, 1, 6),\n  y: 0.0\n},\n{\n  x: Date.UTC(2022, 1, 7),\n  y: 528.0\n},\n{\n  x: Date.UTC(2022, 1, 8),\n  y: 672.0\n},\n{\n  x: Date.UTC(2022, 1, 9),\n  y: 288.0\n},\n{\n  x: Date.UTC(2022, 1, 10),\n  y: 467.0\n},\n{\n  x: Date.UTC(2022, 1, 11),\n  y: 431.0\n},\n{\n  x: Date.UTC(2022, 1, 12),\n  y: 0.0\n},\n{\n  x: Date.UTC(2022, 1, 13),\n  y: 0.0\n},\n{\n  x: Date.UTC(2022, 1, 14),\n  y: 672.0\n},\n{\n  x: Date.UTC(2022, 1, 15),\n  y: 480.0\n},\n{\n  x: Date.UTC(2022, 1, 16),\n  y: 384.0\n},\n{\n  x: Date.UTC(2022, 1, 17),\n  y: 432.0\n},\n{\n  x: Date.UTC(2022, 1, 18),\n  y: 432.0\n},\n{\n  x: Date.UTC(2022, 1, 19),\n  y: 0.0\n},\n{\n  x: Date.UTC(2022, 1, 20),\n  y: 0.0\n},\n{\n  x: Date.UTC(2022, 1, 21),\n  y: 384.0\n},\n{\n  x: Date.UTC(2022, 1, 22),\n  y: 96.0\n},\n{\n  x: Date.UTC(2022, 1, 23),\n  y: 192.0\n},\n{\n  x: Date.UTC(2022, 1, 24),\n  y: 192.0\n},\n{\n  x: Date.UTC(2022, 1, 25),\n  y: 288.0\n},\n{\n  x: Date.UTC(2022, 1, 26),\n  y: 0.0\n},\n{\n  x: Date.UTC(2022, 1, 27),\n  y: 0.0\n},\n{\n  x: Date.UTC(2022, 1, 28),\n  y: 48.0\n},\n{\n  x: Date.UTC(2022, 2, 1),\n  y: 0.0\n},\n{\n  x: Date.UTC(2022, 2, 2),\n  y: 192.0\n},\n{\n  x: Date.UTC(2022, 2, 3),\n  y: 48.0\n},\n{\n  x: Date.UTC(2022, 2, 4),\n  y: 240.0\n},\n{\n  x: Date.UTC(2022, 2, 5),\n  y: 0.0\n},\n{\n  x: Date.UTC(2022, 2, 6),\n  y: 0.0\n},\n{\n  x: Date.UTC(2022, 2, 7),\n  y: 0.0\n},\n{\n  x: Date.UTC(2022, 2, 8),\n  y: 96.0\n},\n{\n  x: Date.UTC(2022, 2, 9),\n  y: 48.0\n},\n{\n  x: Date.UTC(2022, 2, 10),\n  y: 48.0\n},\n{\n  x: Date.UTC(2022, 2, 11),\n  y: 48.0\n},\n{\n  x: Date.UTC(2022, 2, 12),\n  y: 0.0\n},\n{\n  x: Date.UTC(2022, 2, 13),\n  y: 0.0\n},\n{\n  x: Date.UTC(2022, 2, 14),\n  y: 96.0\n},\n{\n  x: Date.UTC(2022, 2, 15),\n  y: 96.0\n},\n{\n  x: Date.UTC(2022, 2, 16),\n  y: 0.0\n},\n{\n  x: Date.UTC(2022, 2, 17),\n  y: 48.0\n}],\n  name: 'VMM groundwater',\n  type: 'line'\n}],\n  title: {\n  text: 'Count of datapoints'\n},\n  xAxis: {\n  title: {\n  text: 'Date'\n},\n  type: 'datetime'\n},\n  yAxis: {\n  title: {\n  text: 'Count'\n}\n}\n},\n);\n\n};\nretryHighcharts(insertChart_YT8Y09, 'highcharts_container_YT8Y09', 3, 3, 1000);"
     },
     "metadata": {},
     "output_type": "display_data"
    }
   ],
   "source": [
    "chart.display(container = 'highcharts_container')"
   ],
   "metadata": {
    "collapsed": false,
    "ExecuteTime": {
     "end_time": "2023-07-06T07:58:32.927757300Z",
     "start_time": "2023-07-06T07:58:31.935823300Z"
    }
   }
  },
  {
   "cell_type": "code",
   "execution_count": null,
   "outputs": [],
   "source": [],
   "metadata": {
    "collapsed": false
   }
  }
 ],
 "metadata": {
  "kernelspec": {
   "display_name": "Python 3",
   "language": "python",
   "name": "python3"
  },
  "language_info": {
   "codemirror_mode": {
    "name": "ipython",
    "version": 2
   },
   "file_extension": ".py",
   "mimetype": "text/x-python",
   "name": "python",
   "nbconvert_exporter": "python",
   "pygments_lexer": "ipython2",
   "version": "2.7.6"
  }
 },
 "nbformat": 4,
 "nbformat_minor": 0
}
