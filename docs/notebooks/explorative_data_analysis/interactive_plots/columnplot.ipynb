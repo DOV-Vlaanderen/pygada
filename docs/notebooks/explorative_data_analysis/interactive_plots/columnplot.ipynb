{
 "cells": [
  {
   "cell_type": "markdown",
   "source": [
    "## Import Dependencies"
   ],
   "metadata": {
    "collapsed": false
   }
  },
  {
   "cell_type": "code",
   "execution_count": 21,
   "outputs": [],
   "source": [
    "from highcharts_core.chart import Chart\n",
    "import pandas as pd\n",
    "from scipy.spatial import distance\n",
    "import numpy as np\n",
    "from highcharts_core.options.series.bar import ColumnSeries"
   ],
   "metadata": {
    "collapsed": false,
    "ExecuteTime": {
     "end_time": "2023-07-10T14:10:38.710718200Z",
     "start_time": "2023-07-10T14:10:38.690339900Z"
    }
   }
  },
  {
   "cell_type": "markdown",
   "source": [
    "## Populate the Dataframe"
   ],
   "metadata": {
    "collapsed": false
   }
  },
  {
   "cell_type": "code",
   "execution_count": 22,
   "outputs": [
    {
     "data": {
      "text/plain": "    count      bin_mean       bin_edges\n0  389738   1124.179782      0m - 2248m\n1  270420   3372.539346   2248m - 4497m\n2  411075   5620.898910   4497m - 6745m\n3  440658   7869.258475   6745m - 8993m\n4  604935  10117.618039  8993m - 11242m",
      "text/html": "<div>\n<style scoped>\n    .dataframe tbody tr th:only-of-type {\n        vertical-align: middle;\n    }\n\n    .dataframe tbody tr th {\n        vertical-align: top;\n    }\n\n    .dataframe thead th {\n        text-align: right;\n    }\n</style>\n<table border=\"1\" class=\"dataframe\">\n  <thead>\n    <tr style=\"text-align: right;\">\n      <th></th>\n      <th>count</th>\n      <th>bin_mean</th>\n      <th>bin_edges</th>\n    </tr>\n  </thead>\n  <tbody>\n    <tr>\n      <th>0</th>\n      <td>389738</td>\n      <td>1124.179782</td>\n      <td>0m - 2248m</td>\n    </tr>\n    <tr>\n      <th>1</th>\n      <td>270420</td>\n      <td>3372.539346</td>\n      <td>2248m - 4497m</td>\n    </tr>\n    <tr>\n      <th>2</th>\n      <td>411075</td>\n      <td>5620.898910</td>\n      <td>4497m - 6745m</td>\n    </tr>\n    <tr>\n      <th>3</th>\n      <td>440658</td>\n      <td>7869.258475</td>\n      <td>6745m - 8993m</td>\n    </tr>\n    <tr>\n      <th>4</th>\n      <td>604935</td>\n      <td>10117.618039</td>\n      <td>8993m - 11242m</td>\n    </tr>\n  </tbody>\n</table>\n</div>"
     },
     "execution_count": 22,
     "metadata": {},
     "output_type": "execute_result"
    }
   ],
   "source": [
    "df = pd.read_csv('C:/Users/vandekgu/OneDrive - Vlaamse overheid - Office 365/Documenten/PycharmProjects/pygada/pygada/test_data/results/PFAS_gw_VMM.csv')\n",
    "\n",
    "coords_array, x2, y2, distances = [], [], [], []\n",
    "\n",
    "for i in df[\"x\"].values.tolist():\n",
    "    x2.append(i.replace(\",\", \".\"))\n",
    "for i in df[\"y\"].values.tolist():\n",
    "    y2.append(i.replace(\",\", \".\"))\n",
    "\n",
    "for i in range(len(df)):\n",
    "    coords_array.append([float(x2[i]), float(y2[i])])\n",
    "\n",
    "distance1 = distance.cdist(coords_array, coords_array, \"euclidean\")\n",
    "for i in range(len(df)):\n",
    "    for j in range(len(df)):\n",
    "        if j > i:\n",
    "            distances.append(distance1[i][j])\n",
    "distances = sorted(distances)\n",
    "hist, bin_edges = np.histogram(distances, bins=100)\n",
    "bin_edges_mean = []\n",
    "bin_edges_label = []\n",
    "for i in range(len(bin_edges) - 1):\n",
    "    bin_edges_mean.append((bin_edges[i] + bin_edges[i + 1]) / 2)\n",
    "    bin_edges_label.append(f'{round(bin_edges[i])}m - {round(bin_edges[i + 1])}m')\n",
    "df = pd.DataFrame({'count': hist, 'bin_mean': bin_edges_mean, 'bin_edges': bin_edges_label})\n",
    "df.head()"
   ],
   "metadata": {
    "collapsed": false,
    "ExecuteTime": {
     "end_time": "2023-07-10T14:11:17.294329700Z",
     "start_time": "2023-07-10T14:10:38.710685900Z"
    }
   }
  },
  {
   "cell_type": "markdown",
   "source": [
    "## Create the Series"
   ],
   "metadata": {
    "collapsed": false
   }
  },
  {
   "cell_type": "code",
   "execution_count": 23,
   "outputs": [],
   "source": [
    "series = [ColumnSeries.from_pandas(df, property_map = {'y': 'count', 'x': 'bin_mean', 'id': 'bin_edges'}, series_kwargs={'name': 'VMM groundwater'})]"
   ],
   "metadata": {
    "collapsed": false,
    "ExecuteTime": {
     "end_time": "2023-07-10T14:11:17.401146600Z",
     "start_time": "2023-07-10T14:11:17.293517700Z"
    }
   }
  },
  {
   "cell_type": "markdown",
   "source": [
    "## Prepare the Configuration"
   ],
   "metadata": {
    "collapsed": false
   }
  },
  {
   "cell_type": "code",
   "execution_count": 27,
   "outputs": [],
   "source": [
    "options_kwargs = {\n",
    "    'chart': {\n",
    "        'zooming': {\n",
    "            'key': 'shift',\n",
    "            'type': 'x'\n",
    "        },\n",
    "    },\n",
    "    'title': {\n",
    "        'text': 'Distance histogram'\n",
    "    },\n",
    "\n",
    "    'legend': {\n",
    "        'enabled': True\n",
    "    },\n",
    "\n",
    "    'xAxis': {\n",
    "        'title': {\n",
    "            'text': 'Distance (m)'\n",
    "        }\n",
    "    },\n",
    "\n",
    "    'yAxis': {\n",
    "        'title': {\n",
    "            'text': 'Count'\n",
    "        }\n",
    "    },\n",
    "    \"tooltip\": {\n",
    "        \"pointFormat\": 'Distance interval: {point.id}<br/> Count: {point.y}'\n",
    "    },\n",
    "    \"plotOptions\": {'column' : {'groupPadding': 0,\n",
    "                'pointPadding': 0}\n",
    "        }\n",
    "}"
   ],
   "metadata": {
    "collapsed": false,
    "ExecuteTime": {
     "end_time": "2023-07-10T14:17:33.787267900Z",
     "start_time": "2023-07-10T14:17:33.779518200Z"
    }
   }
  },
  {
   "cell_type": "markdown",
   "source": [
    "## Assemble the Chart"
   ],
   "metadata": {
    "collapsed": false
   }
  },
  {
   "cell_type": "code",
   "execution_count": 28,
   "outputs": [],
   "source": [
    "chart = Chart(options = options_kwargs)\n",
    "chart.add_series(*series)"
   ],
   "metadata": {
    "collapsed": false,
    "ExecuteTime": {
     "end_time": "2023-07-10T14:17:34.652475700Z",
     "start_time": "2023-07-10T14:17:34.649032200Z"
    }
   }
  },
  {
   "cell_type": "markdown",
   "source": [
    "## Display the Chart"
   ],
   "metadata": {
    "collapsed": false
   }
  },
  {
   "cell_type": "code",
   "execution_count": 29,
   "outputs": [
    {
     "data": {
      "text/plain": "<IPython.core.display.Javascript object>",
      "application/javascript": "new Promise(function(resolve, reject) {\n  var existing_tags = document.querySelectorAll(\"script[src='https://code.highcharts.com/highcharts.js']\");  if (existing_tags.length == 0) {\n        var script = document.createElement(\"script\");\n        script.onload = resolve;\n        script.onerror = reject;        script.src = 'https://code.highcharts.com/highcharts.js';        document.head.appendChild(script);\n    };\n}).then(() => {new Promise(function(resolve, reject) {\n  var existing_tags = document.querySelectorAll(\"script[src='https://code.highcharts.com/highcharts-more.js']\");  if (existing_tags.length == 0) {\n        var script = document.createElement(\"script\");\n        script.onload = resolve;\n        script.onerror = reject;        script.src = 'https://code.highcharts.com/highcharts-more.js';        document.head.appendChild(script);\n    };\n}).then(() => {new Promise(function(resolve, reject) {\n  var existing_tags = document.querySelectorAll(\"script[src='https://code.highcharts.com/highcharts-3d.js']\");  if (existing_tags.length == 0) {\n        var script = document.createElement(\"script\");\n        script.onload = resolve;\n        script.onerror = reject;        script.src = 'https://code.highcharts.com/highcharts-3d.js';        document.head.appendChild(script);\n    };\n}).then(() => {new Promise(function(resolve, reject) {\n  var existing_tags = document.querySelectorAll(\"script[src='https://code.highcharts.com/modules/sonification.js']\");  if (existing_tags.length == 0) {\n        var script = document.createElement(\"script\");\n        script.onload = resolve;\n        script.onerror = reject;        script.src = 'https://code.highcharts.com/modules/sonification.js';        document.head.appendChild(script);\n    };\n}).then(() => {new Promise(function(resolve, reject) {\n  var existing_tags = document.querySelectorAll(\"script[src='https://code.highcharts.com/modules/accessibility.js']\");  if (existing_tags.length == 0) {\n        var script = document.createElement(\"script\");\n        script.onload = resolve;\n        script.onerror = reject;        script.src = 'https://code.highcharts.com/modules/accessibility.js';        document.head.appendChild(script);\n    };\n}).then(() => {new Promise(function(resolve, reject) {\n  var existing_tags = document.querySelectorAll(\"script[src='https://code.highcharts.com/modules/annotations.js']\");  if (existing_tags.length == 0) {\n        var script = document.createElement(\"script\");\n        script.onload = resolve;\n        script.onerror = reject;        script.src = 'https://code.highcharts.com/modules/annotations.js';        document.head.appendChild(script);\n    };\n}).then(() => {new Promise(function(resolve, reject) {\n  var existing_tags = document.querySelectorAll(\"script[src='https://code.highcharts.com/modules/annotations-advanced.js']\");  if (existing_tags.length == 0) {\n        var script = document.createElement(\"script\");\n        script.onload = resolve;\n        script.onerror = reject;        script.src = 'https://code.highcharts.com/modules/annotations-advanced.js';        document.head.appendChild(script);\n    };\n}).then(() => {new Promise(function(resolve, reject) {\n  var existing_tags = document.querySelectorAll(\"script[src='https://code.highcharts.com/modules/sankey.js']\");  if (existing_tags.length == 0) {\n        var script = document.createElement(\"script\");\n        script.onload = resolve;\n        script.onerror = reject;        script.src = 'https://code.highcharts.com/modules/sankey.js';        document.head.appendChild(script);\n    };\n}).then(() => {new Promise(function(resolve, reject) {\n  var existing_tags = document.querySelectorAll(\"script[src='https://code.highcharts.com/modules/arc-diagram.js']\");  if (existing_tags.length == 0) {\n        var script = document.createElement(\"script\");\n        script.onload = resolve;\n        script.onerror = reject;        script.src = 'https://code.highcharts.com/modules/arc-diagram.js';        document.head.appendChild(script);\n    };\n}).then(() => {new Promise(function(resolve, reject) {\n  var existing_tags = document.querySelectorAll(\"script[src='https://code.highcharts.com/modules/boost.js']\");  if (existing_tags.length == 0) {\n        var script = document.createElement(\"script\");\n        script.onload = resolve;\n        script.onerror = reject;        script.src = 'https://code.highcharts.com/modules/boost.js';        document.head.appendChild(script);\n    };\n}).then(() => {new Promise(function(resolve, reject) {\n  var existing_tags = document.querySelectorAll(\"script[src='https://code.highcharts.com/modules/broken-axis.js']\");  if (existing_tags.length == 0) {\n        var script = document.createElement(\"script\");\n        script.onload = resolve;\n        script.onerror = reject;        script.src = 'https://code.highcharts.com/modules/broken-axis.js';        document.head.appendChild(script);\n    };\n}).then(() => {new Promise(function(resolve, reject) {\n  var existing_tags = document.querySelectorAll(\"script[src='https://code.highcharts.com/modules/bullet.js']\");  if (existing_tags.length == 0) {\n        var script = document.createElement(\"script\");\n        script.onload = resolve;\n        script.onerror = reject;        script.src = 'https://code.highcharts.com/modules/bullet.js';        document.head.appendChild(script);\n    };\n}).then(() => {new Promise(function(resolve, reject) {\n  var existing_tags = document.querySelectorAll(\"script[src='https://code.highcharts.com/modules/cylinder.js']\");  if (existing_tags.length == 0) {\n        var script = document.createElement(\"script\");\n        script.onload = resolve;\n        script.onerror = reject;        script.src = 'https://code.highcharts.com/modules/cylinder.js';        document.head.appendChild(script);\n    };\n}).then(() => {new Promise(function(resolve, reject) {\n  var existing_tags = document.querySelectorAll(\"script[src='https://code.highcharts.com/modules/data.js']\");  if (existing_tags.length == 0) {\n        var script = document.createElement(\"script\");\n        script.onload = resolve;\n        script.onerror = reject;        script.src = 'https://code.highcharts.com/modules/data.js';        document.head.appendChild(script);\n    };\n}).then(() => {new Promise(function(resolve, reject) {\n  var existing_tags = document.querySelectorAll(\"script[src='https://code.highcharts.com/modules/datagrouping.js']\");  if (existing_tags.length == 0) {\n        var script = document.createElement(\"script\");\n        script.onload = resolve;\n        script.onerror = reject;        script.src = 'https://code.highcharts.com/modules/datagrouping.js';        document.head.appendChild(script);\n    };\n}).then(() => {new Promise(function(resolve, reject) {\n  var existing_tags = document.querySelectorAll(\"script[src='https://code.highcharts.com/modules/debugger.js']\");  if (existing_tags.length == 0) {\n        var script = document.createElement(\"script\");\n        script.onload = resolve;\n        script.onerror = reject;        script.src = 'https://code.highcharts.com/modules/debugger.js';        document.head.appendChild(script);\n    };\n}).then(() => {new Promise(function(resolve, reject) {\n  var existing_tags = document.querySelectorAll(\"script[src='https://code.highcharts.com/modules/dependency-wheel.js']\");  if (existing_tags.length == 0) {\n        var script = document.createElement(\"script\");\n        script.onload = resolve;\n        script.onerror = reject;        script.src = 'https://code.highcharts.com/modules/dependency-wheel.js';        document.head.appendChild(script);\n    };\n}).then(() => {new Promise(function(resolve, reject) {\n  var existing_tags = document.querySelectorAll(\"script[src='https://code.highcharts.com/modules/drag-panes.js']\");  if (existing_tags.length == 0) {\n        var script = document.createElement(\"script\");\n        script.onload = resolve;\n        script.onerror = reject;        script.src = 'https://code.highcharts.com/modules/drag-panes.js';        document.head.appendChild(script);\n    };\n}).then(() => {new Promise(function(resolve, reject) {\n  var existing_tags = document.querySelectorAll(\"script[src='https://code.highcharts.com/modules/draggable-points.js']\");  if (existing_tags.length == 0) {\n        var script = document.createElement(\"script\");\n        script.onload = resolve;\n        script.onerror = reject;        script.src = 'https://code.highcharts.com/modules/draggable-points.js';        document.head.appendChild(script);\n    };\n}).then(() => {new Promise(function(resolve, reject) {\n  var existing_tags = document.querySelectorAll(\"script[src='https://code.highcharts.com/modules/drilldown.js']\");  if (existing_tags.length == 0) {\n        var script = document.createElement(\"script\");\n        script.onload = resolve;\n        script.onerror = reject;        script.src = 'https://code.highcharts.com/modules/drilldown.js';        document.head.appendChild(script);\n    };\n}).then(() => {new Promise(function(resolve, reject) {\n  var existing_tags = document.querySelectorAll(\"script[src='https://code.highcharts.com/modules/dumbbell.js']\");  if (existing_tags.length == 0) {\n        var script = document.createElement(\"script\");\n        script.onload = resolve;\n        script.onerror = reject;        script.src = 'https://code.highcharts.com/modules/dumbbell.js';        document.head.appendChild(script);\n    };\n}).then(() => {new Promise(function(resolve, reject) {\n  var existing_tags = document.querySelectorAll(\"script[src='https://code.highcharts.com/modules/export-data.js']\");  if (existing_tags.length == 0) {\n        var script = document.createElement(\"script\");\n        script.onload = resolve;\n        script.onerror = reject;        script.src = 'https://code.highcharts.com/modules/export-data.js';        document.head.appendChild(script);\n    };\n}).then(() => {new Promise(function(resolve, reject) {\n  var existing_tags = document.querySelectorAll(\"script[src='https://code.highcharts.com/modules/exporting.js']\");  if (existing_tags.length == 0) {\n        var script = document.createElement(\"script\");\n        script.onload = resolve;\n        script.onerror = reject;        script.src = 'https://code.highcharts.com/modules/exporting.js';        document.head.appendChild(script);\n    };\n}).then(() => {new Promise(function(resolve, reject) {\n  var existing_tags = document.querySelectorAll(\"script[src='https://code.highcharts.com/modules/funnel.js']\");  if (existing_tags.length == 0) {\n        var script = document.createElement(\"script\");\n        script.onload = resolve;\n        script.onerror = reject;        script.src = 'https://code.highcharts.com/modules/funnel.js';        document.head.appendChild(script);\n    };\n}).then(() => {new Promise(function(resolve, reject) {\n  var existing_tags = document.querySelectorAll(\"script[src='https://code.highcharts.com/modules/funnel3d.js']\");  if (existing_tags.length == 0) {\n        var script = document.createElement(\"script\");\n        script.onload = resolve;\n        script.onerror = reject;        script.src = 'https://code.highcharts.com/modules/funnel3d.js';        document.head.appendChild(script);\n    };\n}).then(() => {new Promise(function(resolve, reject) {\n  var existing_tags = document.querySelectorAll(\"script[src='https://code.highcharts.com/modules/heatmap.js']\");  if (existing_tags.length == 0) {\n        var script = document.createElement(\"script\");\n        script.onload = resolve;\n        script.onerror = reject;        script.src = 'https://code.highcharts.com/modules/heatmap.js';        document.head.appendChild(script);\n    };\n}).then(() => {new Promise(function(resolve, reject) {\n  var existing_tags = document.querySelectorAll(\"script[src='https://code.highcharts.com/modules/item-series.js']\");  if (existing_tags.length == 0) {\n        var script = document.createElement(\"script\");\n        script.onload = resolve;\n        script.onerror = reject;        script.src = 'https://code.highcharts.com/modules/item-series.js';        document.head.appendChild(script);\n    };\n}).then(() => {new Promise(function(resolve, reject) {\n  var existing_tags = document.querySelectorAll(\"script[src='https://code.highcharts.com/modules/lollipop.js']\");  if (existing_tags.length == 0) {\n        var script = document.createElement(\"script\");\n        script.onload = resolve;\n        script.onerror = reject;        script.src = 'https://code.highcharts.com/modules/lollipop.js';        document.head.appendChild(script);\n    };\n}).then(() => {new Promise(function(resolve, reject) {\n  var existing_tags = document.querySelectorAll(\"script[src='https://code.highcharts.com/modules/networkgraph.js']\");  if (existing_tags.length == 0) {\n        var script = document.createElement(\"script\");\n        script.onload = resolve;\n        script.onerror = reject;        script.src = 'https://code.highcharts.com/modules/networkgraph.js';        document.head.appendChild(script);\n    };\n}).then(() => {new Promise(function(resolve, reject) {\n  var existing_tags = document.querySelectorAll(\"script[src='https://code.highcharts.com/modules/no-data-to-display.js']\");  if (existing_tags.length == 0) {\n        var script = document.createElement(\"script\");\n        script.onload = resolve;\n        script.onerror = reject;        script.src = 'https://code.highcharts.com/modules/no-data-to-display.js';        document.head.appendChild(script);\n    };\n}).then(() => {new Promise(function(resolve, reject) {\n  var existing_tags = document.querySelectorAll(\"script[src='https://code.highcharts.com/modules/offline-exporting.js']\");  if (existing_tags.length == 0) {\n        var script = document.createElement(\"script\");\n        script.onload = resolve;\n        script.onerror = reject;        script.src = 'https://code.highcharts.com/modules/offline-exporting.js';        document.head.appendChild(script);\n    };\n}).then(() => {new Promise(function(resolve, reject) {\n  var existing_tags = document.querySelectorAll(\"script[src='https://code.highcharts.com/modules/oldie.js']\");  if (existing_tags.length == 0) {\n        var script = document.createElement(\"script\");\n        script.onload = resolve;\n        script.onerror = reject;        script.src = 'https://code.highcharts.com/modules/oldie.js';        document.head.appendChild(script);\n    };\n}).then(() => {new Promise(function(resolve, reject) {\n  var existing_tags = document.querySelectorAll(\"script[src='https://code.highcharts.com/modules/organization.js']\");  if (existing_tags.length == 0) {\n        var script = document.createElement(\"script\");\n        script.onload = resolve;\n        script.onerror = reject;        script.src = 'https://code.highcharts.com/modules/organization.js';        document.head.appendChild(script);\n    };\n}).then(() => {new Promise(function(resolve, reject) {\n  var existing_tags = document.querySelectorAll(\"script[src='https://code.highcharts.com/modules/parallel-coordinates.js']\");  if (existing_tags.length == 0) {\n        var script = document.createElement(\"script\");\n        script.onload = resolve;\n        script.onerror = reject;        script.src = 'https://code.highcharts.com/modules/parallel-coordinates.js';        document.head.appendChild(script);\n    };\n}).then(() => {new Promise(function(resolve, reject) {\n  var existing_tags = document.querySelectorAll(\"script[src='https://code.highcharts.com/modules/pareto.js']\");  if (existing_tags.length == 0) {\n        var script = document.createElement(\"script\");\n        script.onload = resolve;\n        script.onerror = reject;        script.src = 'https://code.highcharts.com/modules/pareto.js';        document.head.appendChild(script);\n    };\n}).then(() => {new Promise(function(resolve, reject) {\n  var existing_tags = document.querySelectorAll(\"script[src='https://code.highcharts.com/modules/pictorial.js']\");  if (existing_tags.length == 0) {\n        var script = document.createElement(\"script\");\n        script.onload = resolve;\n        script.onerror = reject;        script.src = 'https://code.highcharts.com/modules/pictorial.js';        document.head.appendChild(script);\n    };\n}).then(() => {new Promise(function(resolve, reject) {\n  var existing_tags = document.querySelectorAll(\"script[src='https://code.highcharts.com/modules/pyramid3d.js']\");  if (existing_tags.length == 0) {\n        var script = document.createElement(\"script\");\n        script.onload = resolve;\n        script.onerror = reject;        script.src = 'https://code.highcharts.com/modules/pyramid3d.js';        document.head.appendChild(script);\n    };\n}).then(() => {new Promise(function(resolve, reject) {\n  var existing_tags = document.querySelectorAll(\"script[src='https://code.highcharts.com/modules/series-label.js']\");  if (existing_tags.length == 0) {\n        var script = document.createElement(\"script\");\n        script.onload = resolve;\n        script.onerror = reject;        script.src = 'https://code.highcharts.com/modules/series-label.js';        document.head.appendChild(script);\n    };\n}).then(() => {new Promise(function(resolve, reject) {\n  var existing_tags = document.querySelectorAll(\"script[src='https://code.highcharts.com/modules/series-on-point.js']\");  if (existing_tags.length == 0) {\n        var script = document.createElement(\"script\");\n        script.onload = resolve;\n        script.onerror = reject;        script.src = 'https://code.highcharts.com/modules/series-on-point.js';        document.head.appendChild(script);\n    };\n}).then(() => {new Promise(function(resolve, reject) {\n  var existing_tags = document.querySelectorAll(\"script[src='https://code.highcharts.com/modules/solid-gauge.js']\");  if (existing_tags.length == 0) {\n        var script = document.createElement(\"script\");\n        script.onload = resolve;\n        script.onerror = reject;        script.src = 'https://code.highcharts.com/modules/solid-gauge.js';        document.head.appendChild(script);\n    };\n}).then(() => {new Promise(function(resolve, reject) {\n  var existing_tags = document.querySelectorAll(\"script[src='https://code.highcharts.com/modules/streamgraph.js']\");  if (existing_tags.length == 0) {\n        var script = document.createElement(\"script\");\n        script.onload = resolve;\n        script.onerror = reject;        script.src = 'https://code.highcharts.com/modules/streamgraph.js';        document.head.appendChild(script);\n    };\n}).then(() => {new Promise(function(resolve, reject) {\n  var existing_tags = document.querySelectorAll(\"script[src='https://code.highcharts.com/modules/sunburst.js']\");  if (existing_tags.length == 0) {\n        var script = document.createElement(\"script\");\n        script.onload = resolve;\n        script.onerror = reject;        script.src = 'https://code.highcharts.com/modules/sunburst.js';        document.head.appendChild(script);\n    };\n}).then(() => {new Promise(function(resolve, reject) {\n  var existing_tags = document.querySelectorAll(\"script[src='https://code.highcharts.com/modules/tilemap.js']\");  if (existing_tags.length == 0) {\n        var script = document.createElement(\"script\");\n        script.onload = resolve;\n        script.onerror = reject;        script.src = 'https://code.highcharts.com/modules/tilemap.js';        document.head.appendChild(script);\n    };\n}).then(() => {new Promise(function(resolve, reject) {\n  var existing_tags = document.querySelectorAll(\"script[src='https://code.highcharts.com/modules/timeline.js']\");  if (existing_tags.length == 0) {\n        var script = document.createElement(\"script\");\n        script.onload = resolve;\n        script.onerror = reject;        script.src = 'https://code.highcharts.com/modules/timeline.js';        document.head.appendChild(script);\n    };\n}).then(() => {new Promise(function(resolve, reject) {\n  var existing_tags = document.querySelectorAll(\"script[src='https://code.highcharts.com/modules/treegraph.js']\");  if (existing_tags.length == 0) {\n        var script = document.createElement(\"script\");\n        script.onload = resolve;\n        script.onerror = reject;        script.src = 'https://code.highcharts.com/modules/treegraph.js';        document.head.appendChild(script);\n    };\n}).then(() => {new Promise(function(resolve, reject) {\n  var existing_tags = document.querySelectorAll(\"script[src='https://code.highcharts.com/modules/treemap.js']\");  if (existing_tags.length == 0) {\n        var script = document.createElement(\"script\");\n        script.onload = resolve;\n        script.onerror = reject;        script.src = 'https://code.highcharts.com/modules/treemap.js';        document.head.appendChild(script);\n    };\n}).then(() => {new Promise(function(resolve, reject) {\n  var existing_tags = document.querySelectorAll(\"script[src='https://code.highcharts.com/modules/variable-pie.js']\");  if (existing_tags.length == 0) {\n        var script = document.createElement(\"script\");\n        script.onload = resolve;\n        script.onerror = reject;        script.src = 'https://code.highcharts.com/modules/variable-pie.js';        document.head.appendChild(script);\n    };\n}).then(() => {new Promise(function(resolve, reject) {\n  var existing_tags = document.querySelectorAll(\"script[src='https://code.highcharts.com/modules/variwide.js']\");  if (existing_tags.length == 0) {\n        var script = document.createElement(\"script\");\n        script.onload = resolve;\n        script.onerror = reject;        script.src = 'https://code.highcharts.com/modules/variwide.js';        document.head.appendChild(script);\n    };\n}).then(() => {new Promise(function(resolve, reject) {\n  var existing_tags = document.querySelectorAll(\"script[src='https://code.highcharts.com/modules/vector.js']\");  if (existing_tags.length == 0) {\n        var script = document.createElement(\"script\");\n        script.onload = resolve;\n        script.onerror = reject;        script.src = 'https://code.highcharts.com/modules/vector.js';        document.head.appendChild(script);\n    };\n}).then(() => {new Promise(function(resolve, reject) {\n  var existing_tags = document.querySelectorAll(\"script[src='https://code.highcharts.com/modules/venn.js']\");  if (existing_tags.length == 0) {\n        var script = document.createElement(\"script\");\n        script.onload = resolve;\n        script.onerror = reject;        script.src = 'https://code.highcharts.com/modules/venn.js';        document.head.appendChild(script);\n    };\n}).then(() => {new Promise(function(resolve, reject) {\n  var existing_tags = document.querySelectorAll(\"script[src='https://code.highcharts.com/modules/windbarb.js']\");  if (existing_tags.length == 0) {\n        var script = document.createElement(\"script\");\n        script.onload = resolve;\n        script.onerror = reject;        script.src = 'https://code.highcharts.com/modules/windbarb.js';        document.head.appendChild(script);\n    };\n}).then(() => {new Promise(function(resolve, reject) {\n  var existing_tags = document.querySelectorAll(\"script[src='https://code.highcharts.com/modules/wordcloud.js']\");  if (existing_tags.length == 0) {\n        var script = document.createElement(\"script\");\n        script.onload = resolve;\n        script.onerror = reject;        script.src = 'https://code.highcharts.com/modules/wordcloud.js';        document.head.appendChild(script);\n    };\n}).then(() => {new Promise(function(resolve, reject) {\n  var existing_tags = document.querySelectorAll(\"script[src='https://code.highcharts.com/modules/xrange.js']\");  if (existing_tags.length == 0) {\n        var script = document.createElement(\"script\");\n        script.onload = resolve;\n        script.onerror = reject;        script.src = 'https://code.highcharts.com/modules/xrange.js';        document.head.appendChild(script);\n    };\n}).then(() => {});});});});});});});});});});});});});});});});});});});});});});});});});});});});});});});});});});});});});});});});});});});});});});});});});});});});});"
     },
     "metadata": {},
     "output_type": "display_data"
    },
    {
     "data": {
      "text/plain": "<IPython.core.display.HTML object>",
      "text/html": "<div id=\"highcharts_container_TDFV9V\" style=\"width:100%; height:400;\"></div>\n"
     },
     "metadata": {},
     "output_type": "display_data"
    },
    {
     "data": {
      "text/plain": "<IPython.core.display.Javascript object>",
      "application/javascript": "function retryHighcharts(fn, container = 'highcharts_target_div', retries = 3, retriesLeft = 3, \n        interval = 1000) {\n            return new Promise((resolve, reject) => {\n            try {\n                fn()\n                return resolve();\n            } catch (err) {\n                if ((err instanceof ReferenceError) || (err instanceof TypeError)) {\n                    if (retriesLeft === 0) {\n                        var target_div = document.getElementById(container);\n                        if (target_div) {\n                            var timeElapsed = (retries * interval) / 1000;\n                            var errorMessage = \"Something went wrong with the Highcharts.js script. It should have been automatically loaded, but it did not load for over \" + timeElapsed + \" seconds. Check your internet connection, and then if the problem persists please reach out for support. (You can also check your browser's console log for more details.)\";\n                            var errorHTML = \"<p>\" + errorMessage + \"</p>\";\n                            target_div.innerHTML = errorMessage;\n                            console.log(errorMessage);\n                            console.error(err);\n                        }\n                        return reject();\n                    }\n\n                    setTimeout(() => {\n                        retryHighcharts(fn, container, retries, retriesLeft - 1, interval).then(resolve).catch(reject);\n                    }, interval);\n                } else if ((err instanceof Error) && (err.message.includes('#13'))) {\n                    var errorMessage = \"It looks like the container specified '\" + container + \"' was not created successfully. Please check your browser's console log for more details.\";\n                    console.error(errorMessage);\n                    console.error(err);\n                    \n                    return reject();\n                } else {\n                    throw err;\n                }\n            }\n        });\n    };function insertChart_TDFV9V() {\n\nHighcharts.chart('highcharts_container_TDFV9V',\n{\n  chart: {\n  zooming: {\n  key: 'shift',\n  type: 'x'\n}\n},\n  legend: {\n  enabled: true\n},\n  plotOptions: {\n  column: {\n  groupPadding: 0,\n  pointPadding: 0,\n  type: 'column'\n}\n},\n  series: [{\n  data: [{\n  x: 1124.1797820716445,\n  y: 389738,\n  id: '0m - 2248m'\n},\n{\n  x: 3372.539346214933,\n  y: 270420,\n  id: '2248m - 4497m'\n},\n{\n  x: 5620.898910358223,\n  y: 411075,\n  id: '4497m - 6745m'\n},\n{\n  x: 7869.258474501511,\n  y: 440658,\n  id: '6745m - 8993m'\n},\n{\n  x: 10117.6180386448,\n  y: 604935,\n  id: '8993m - 11242m'\n},\n{\n  x: 12365.977602788089,\n  y: 767691,\n  id: '11242m - 13490m'\n},\n{\n  x: 14614.337166931378,\n  y: 844800,\n  id: '13490m - 15739m'\n},\n{\n  x: 16862.696731074666,\n  y: 1025831,\n  id: '15739m - 17987m'\n},\n{\n  x: 19111.056295217953,\n  y: 1147356,\n  id: '17987m - 20235m'\n},\n{\n  x: 21359.415859361245,\n  y: 1142913,\n  id: '20235m - 22484m'\n},\n{\n  x: 23607.775423504536,\n  y: 1111317,\n  id: '22484m - 24732m'\n},\n{\n  x: 25856.13498764782,\n  y: 1248484,\n  id: '24732m - 26980m'\n},\n{\n  x: 28104.49455179111,\n  y: 1301112,\n  id: '26980m - 29229m'\n},\n{\n  x: 30352.854115934402,\n  y: 1566537,\n  id: '29229m - 31477m'\n},\n{\n  x: 32601.213680077686,\n  y: 1432361,\n  id: '31477m - 33725m'\n},\n{\n  x: 34849.57324422098,\n  y: 1421250,\n  id: '33725m - 35974m'\n},\n{\n  x: 37097.93280836427,\n  y: 1370562,\n  id: '35974m - 38222m'\n},\n{\n  x: 39346.29237250755,\n  y: 1357440,\n  id: '38222m - 40470m'\n},\n{\n  x: 41594.651936650844,\n  y: 1427232,\n  id: '40470m - 42719m'\n},\n{\n  x: 43843.011500794135,\n  y: 1469424,\n  id: '42719m - 44967m'\n},\n{\n  x: 46091.371064937426,\n  y: 1463232,\n  id: '44967m - 47216m'\n},\n{\n  x: 48339.73062908071,\n  y: 1329840,\n  id: '47216m - 49464m'\n},\n{\n  x: 50588.090193224,\n  y: 1591776,\n  id: '49464m - 51712m'\n},\n{\n  x: 52836.449757367285,\n  y: 1374240,\n  id: '51712m - 53961m'\n},\n{\n  x: 55084.80932151058,\n  y: 1361136,\n  id: '53961m - 56209m'\n},\n{\n  x: 57333.16888565387,\n  y: 1310976,\n  id: '56209m - 58457m'\n},\n{\n  x: 59581.52844979716,\n  y: 1256400,\n  id: '58457m - 60706m'\n},\n{\n  x: 61829.88801394045,\n  y: 1279440,\n  id: '60706m - 62954m'\n},\n{\n  x: 64078.247578083734,\n  y: 1239984,\n  id: '62954m - 65202m'\n},\n{\n  x: 66326.60714222702,\n  y: 1190880,\n  id: '65202m - 67451m'\n},\n{\n  x: 68574.96670637031,\n  y: 1139712,\n  id: '67451m - 69699m'\n},\n{\n  x: 70823.3262705136,\n  y: 1135488,\n  id: '69699m - 71948m'\n},\n{\n  x: 73071.68583465689,\n  y: 1105104,\n  id: '71948m - 74196m'\n},\n{\n  x: 75320.04539880018,\n  y: 1076640,\n  id: '74196m - 76444m'\n},\n{\n  x: 77568.40496294347,\n  y: 991680,\n  id: '76444m - 78693m'\n},\n{\n  x: 79816.76452708675,\n  y: 1098720,\n  id: '78693m - 80941m'\n},\n{\n  x: 82065.12409123004,\n  y: 887520,\n  id: '80941m - 83189m'\n},\n{\n  x: 84313.48365537333,\n  y: 922992,\n  id: '83189m - 85438m'\n},\n{\n  x: 86561.84321951662,\n  y: 869952,\n  id: '85438m - 87686m'\n},\n{\n  x: 88810.20278365992,\n  y: 887184,\n  id: '87686m - 89934m'\n},\n{\n  x: 91058.5623478032,\n  y: 699648,\n  id: '89934m - 92183m'\n},\n{\n  x: 93306.9219119465,\n  y: 759936,\n  id: '92183m - 94431m'\n},\n{\n  x: 95555.28147608977,\n  y: 686784,\n  id: '94431m - 96679m'\n},\n{\n  x: 97803.64104023307,\n  y: 633216,\n  id: '96679m - 98928m'\n},\n{\n  x: 100052.00060437636,\n  y: 664992,\n  id: '98928m - 101176m'\n},\n{\n  x: 102300.36016851965,\n  y: 693264,\n  id: '101176m - 103425m'\n},\n{\n  x: 104548.71973266294,\n  y: 616032,\n  id: '103425m - 105673m'\n},\n{\n  x: 106797.07929680622,\n  y: 587184,\n  id: '105673m - 107921m'\n},\n{\n  x: 109045.4388609495,\n  y: 495504,\n  id: '107921m - 110170m'\n},\n{\n  x: 111293.7984250928,\n  y: 503424,\n  id: '110170m - 112418m'\n},\n{\n  x: 113542.15798923609,\n  y: 518496,\n  id: '112418m - 114666m'\n},\n{\n  x: 115790.51755337938,\n  y: 462528,\n  id: '114666m - 116915m'\n},\n{\n  x: 118038.87711752267,\n  y: 430656,\n  id: '116915m - 119163m'\n},\n{\n  x: 120287.23668166596,\n  y: 439728,\n  id: '119163m - 121411m'\n},\n{\n  x: 122535.59624580925,\n  y: 350832,\n  id: '121411m - 123660m'\n},\n{\n  x: 124783.95580995253,\n  y: 383808,\n  id: '123660m - 125908m'\n},\n{\n  x: 127032.31537409582,\n  y: 363504,\n  id: '125908m - 128156m'\n},\n{\n  x: 129280.67493823911,\n  y: 363456,\n  id: '128156m - 130405m'\n},\n{\n  x: 131529.0345023824,\n  y: 303216,\n  id: '130405m - 132653m'\n},\n{\n  x: 133777.39406652568,\n  y: 286944,\n  id: '132653m - 134902m'\n},\n{\n  x: 136025.75363066897,\n  y: 293616,\n  id: '134902m - 137150m'\n},\n{\n  x: 138274.11319481226,\n  y: 299184,\n  id: '137150m - 139398m'\n},\n{\n  x: 140522.47275895556,\n  y: 230352,\n  id: '139398m - 141647m'\n},\n{\n  x: 142770.83232309885,\n  y: 237312,\n  id: '141647m - 143895m'\n},\n{\n  x: 145019.19188724214,\n  y: 228096,\n  id: '143895m - 146143m'\n},\n{\n  x: 147267.55145138543,\n  y: 216576,\n  id: '146143m - 148392m'\n},\n{\n  x: 149515.91101552872,\n  y: 218880,\n  id: '148392m - 150640m'\n},\n{\n  x: 151764.270579672,\n  y: 184320,\n  id: '150640m - 152888m'\n},\n{\n  x: 154012.6301438153,\n  y: 198144,\n  id: '152888m - 155137m'\n},\n{\n  x: 156260.9897079586,\n  y: 195840,\n  id: '155137m - 157385m'\n},\n{\n  x: 158509.34927210188,\n  y: 140544,\n  id: '157385m - 159634m'\n},\n{\n  x: 160757.70883624515,\n  y: 147456,\n  id: '159634m - 161882m'\n},\n{\n  x: 163006.06840038844,\n  y: 129024,\n  id: '161882m - 164130m'\n},\n{\n  x: 165254.42796453173,\n  y: 142848,\n  id: '164130m - 166379m'\n},\n{\n  x: 167502.78752867502,\n  y: 117504,\n  id: '166379m - 168627m'\n},\n{\n  x: 169751.1470928183,\n  y: 96768,\n  id: '168627m - 170875m'\n},\n{\n  x: 171999.5066569616,\n  y: 119808,\n  id: '170875m - 173124m'\n},\n{\n  x: 174247.8662211049,\n  y: 89856,\n  id: '173124m - 175372m'\n},\n{\n  x: 176496.22578524819,\n  y: 103680,\n  id: '175372m - 177620m'\n},\n{\n  x: 178744.58534939148,\n  y: 82944,\n  id: '177620m - 179869m'\n},\n{\n  x: 180992.94491353477,\n  y: 64512,\n  id: '179869m - 182117m'\n},\n{\n  x: 183241.30447767806,\n  y: 48384,\n  id: '182117m - 184365m'\n},\n{\n  x: 185489.66404182135,\n  y: 57600,\n  id: '184365m - 186614m'\n},\n{\n  x: 187738.0236059646,\n  y: 39168,\n  id: '186614m - 188862m'\n},\n{\n  x: 189986.3831701079,\n  y: 50688,\n  id: '188862m - 191111m'\n},\n{\n  x: 192234.7427342512,\n  y: 43776,\n  id: '191111m - 193359m'\n},\n{\n  x: 194483.1022983945,\n  y: 43776,\n  id: '193359m - 195607m'\n},\n{\n  x: 196731.46186253778,\n  y: 20736,\n  id: '195607m - 197856m'\n},\n{\n  x: 198979.82142668107,\n  y: 32256,\n  id: '197856m - 200104m'\n},\n{\n  x: 201228.18099082436,\n  y: 20736,\n  id: '200104m - 202352m'\n},\n{\n  x: 203476.54055496765,\n  y: 16128,\n  id: '202352m - 204601m'\n},\n{\n  x: 205724.90011911094,\n  y: 20736,\n  id: '204601m - 206849m'\n},\n{\n  x: 207973.25968325423,\n  y: 16128,\n  id: '206849m - 209097m'\n},\n{\n  x: 210221.61924739752,\n  y: 13824,\n  id: '209097m - 211346m'\n},\n{\n  x: 212469.97881154082,\n  y: 2304,\n  id: '211346m - 213594m'\n},\n{\n  x: 214718.3383756841,\n  y: 2304,\n  id: '213594m - 215843m'\n},\n{\n  x: 216966.69793982737,\n  y: 6912,\n  id: '215843m - 218091m'\n},\n{\n  x: 219215.05750397066,\n  y: 4608,\n  id: '218091m - 220339m'\n},\n{\n  x: 221463.41706811395,\n  y: 6912,\n  id: '220339m - 222588m'\n},\n{\n  x: 223711.77663225724,\n  y: 6912,\n  id: '222588m - 224836m'\n}],\n  name: 'VMM groundwater',\n  type: 'column'\n}],\n  title: {\n  text: 'Highcharts Box Plot Example'\n},\n  tooltip: {\n  pointFormat: 'Distance interval: {point.id}<br/> Count: {point.y}'\n},\n  xAxis: {\n  title: {\n  text: 'Distance (m)'\n}\n},\n  yAxis: {\n  title: {\n  text: 'Count'\n}\n}\n},\n);\n\n};\nretryHighcharts(insertChart_TDFV9V, 'highcharts_container_TDFV9V', 3, 3, 1000);"
     },
     "metadata": {},
     "output_type": "display_data"
    }
   ],
   "source": [
    "chart.display(container = 'highcharts_container')"
   ],
   "metadata": {
    "collapsed": false,
    "ExecuteTime": {
     "end_time": "2023-07-10T14:17:36.519154500Z",
     "start_time": "2023-07-10T14:17:35.698459500Z"
    }
   }
  },
  {
   "cell_type": "code",
   "execution_count": 26,
   "outputs": [],
   "source": [],
   "metadata": {
    "collapsed": false,
    "ExecuteTime": {
     "end_time": "2023-07-10T14:11:19.462633900Z",
     "start_time": "2023-07-10T14:11:19.453190700Z"
    }
   }
  }
 ],
 "metadata": {
  "kernelspec": {
   "display_name": "Python 3",
   "language": "python",
   "name": "python3"
  },
  "language_info": {
   "codemirror_mode": {
    "name": "ipython",
    "version": 2
   },
   "file_extension": ".py",
   "mimetype": "text/x-python",
   "name": "python",
   "nbconvert_exporter": "python",
   "pygments_lexer": "ipython2",
   "version": "2.7.6"
  }
 },
 "nbformat": 4,
 "nbformat_minor": 0
}
