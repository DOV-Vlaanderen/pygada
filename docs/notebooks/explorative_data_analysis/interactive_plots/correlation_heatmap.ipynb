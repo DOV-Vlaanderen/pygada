{
 "cells": [
  {
   "cell_type": "markdown",
   "metadata": {},
   "source": [
    "## Import Dependencies"
   ]
  },
  {
   "cell_type": "code",
   "execution_count": 12,
   "metadata": {
    "ExecuteTime": {
     "end_time": "2023-07-28T09:33:08.451178500Z",
     "start_time": "2023-07-28T09:33:06.713688700Z"
    }
   },
   "outputs": [],
   "source": [
    "from highcharts_core.chart import Chart\n",
    "import pandas as pd\n",
    "import numpy as np"
   ]
  },
  {
   "cell_type": "markdown",
   "metadata": {},
   "source": [
    "## Prepare the Configuration"
   ]
  },
  {
   "cell_type": "markdown",
   "metadata": {},
   "source": [
    "## Populate the Dataframe"
   ]
  },
  {
   "cell_type": "code",
   "execution_count": 13,
   "metadata": {
    "ExecuteTime": {
     "end_time": "2023-07-28T09:33:08.546590300Z",
     "start_time": "2023-07-28T09:33:08.454206500Z"
    }
   },
   "outputs": [
    {
     "data": {
      "text/html": [
       "<div>\n",
       "<style scoped>\n",
       "    .dataframe tbody tr th:only-of-type {\n",
       "        vertical-align: middle;\n",
       "    }\n",
       "\n",
       "    .dataframe tbody tr th {\n",
       "        vertical-align: top;\n",
       "    }\n",
       "\n",
       "    .dataframe thead th {\n",
       "        text-align: right;\n",
       "    }\n",
       "</style>\n",
       "<table border=\"1\" class=\"dataframe\">\n",
       "  <thead>\n",
       "    <tr style=\"text-align: right;\">\n",
       "      <th>parameter</th>\n",
       "      <th>PFOS</th>\n",
       "      <th>PFHxS</th>\n",
       "      <th>PFNA</th>\n",
       "      <th>PFOA</th>\n",
       "    </tr>\n",
       "    <tr>\n",
       "      <th>parameter</th>\n",
       "      <th></th>\n",
       "      <th></th>\n",
       "      <th></th>\n",
       "      <th></th>\n",
       "    </tr>\n",
       "  </thead>\n",
       "  <tbody>\n",
       "    <tr>\n",
       "      <th>PFOS</th>\n",
       "      <td>1.00</td>\n",
       "      <td>0.20</td>\n",
       "      <td>0.33</td>\n",
       "      <td>0.37</td>\n",
       "    </tr>\n",
       "    <tr>\n",
       "      <th>PFHxS</th>\n",
       "      <td>0.20</td>\n",
       "      <td>1.00</td>\n",
       "      <td>0.06</td>\n",
       "      <td>0.60</td>\n",
       "    </tr>\n",
       "    <tr>\n",
       "      <th>PFNA</th>\n",
       "      <td>0.33</td>\n",
       "      <td>0.06</td>\n",
       "      <td>1.00</td>\n",
       "      <td>0.18</td>\n",
       "    </tr>\n",
       "    <tr>\n",
       "      <th>PFOA</th>\n",
       "      <td>0.37</td>\n",
       "      <td>0.60</td>\n",
       "      <td>0.18</td>\n",
       "      <td>1.00</td>\n",
       "    </tr>\n",
       "  </tbody>\n",
       "</table>\n",
       "</div>"
      ],
      "text/plain": [
       "parameter  PFOS  PFHxS  PFNA  PFOA\n",
       "parameter                         \n",
       "PFOS       1.00   0.20  0.33  0.37\n",
       "PFHxS      0.20   1.00  0.06  0.60\n",
       "PFNA       0.33   0.06  1.00  0.18\n",
       "PFOA       0.37   0.60  0.18  1.00"
      ]
     },
     "execution_count": 13,
     "metadata": {},
     "output_type": "execute_result"
    }
   ],
   "source": [
    "df = pd.read_csv('C:/Users/vandekgu/OneDrive - Vlaamse overheid - Office 365/Documenten/PycharmProjects/pygada/pygada/test_data/results/PFAS_gw_VMM.csv')\n",
    "\n",
    "df = df.pivot(index='index', columns='parameter', values='value')\n",
    "df = df[['PFOS', 'PFHxS', 'PFNA', 'PFOA']]\n",
    "df = np.log(df[:]).replace(np.NINF, np.nan)  # todo: check if necessary\n",
    "\n",
    "df1_correlation = df.corr().round(2)\n",
    "df1_correlation"
   ]
  },
  {
   "cell_type": "code",
   "execution_count": 148,
   "outputs": [
    {
     "data": {
      "text/plain": "        PFOS  PFHxS   PFNA   PFOA\nPFOS   232.0  232.0  231.0  232.0\nPFHxS  232.0  233.0  232.0  233.0\nPFNA   231.0  232.0  232.0  232.0\nPFOA   232.0  233.0  232.0  233.0",
      "text/html": "<div>\n<style scoped>\n    .dataframe tbody tr th:only-of-type {\n        vertical-align: middle;\n    }\n\n    .dataframe tbody tr th {\n        vertical-align: top;\n    }\n\n    .dataframe thead th {\n        text-align: right;\n    }\n</style>\n<table border=\"1\" class=\"dataframe\">\n  <thead>\n    <tr style=\"text-align: right;\">\n      <th></th>\n      <th>PFOS</th>\n      <th>PFHxS</th>\n      <th>PFNA</th>\n      <th>PFOA</th>\n    </tr>\n  </thead>\n  <tbody>\n    <tr>\n      <th>PFOS</th>\n      <td>232.0</td>\n      <td>232.0</td>\n      <td>231.0</td>\n      <td>232.0</td>\n    </tr>\n    <tr>\n      <th>PFHxS</th>\n      <td>232.0</td>\n      <td>233.0</td>\n      <td>232.0</td>\n      <td>233.0</td>\n    </tr>\n    <tr>\n      <th>PFNA</th>\n      <td>231.0</td>\n      <td>232.0</td>\n      <td>232.0</td>\n      <td>232.0</td>\n    </tr>\n    <tr>\n      <th>PFOA</th>\n      <td>232.0</td>\n      <td>233.0</td>\n      <td>232.0</td>\n      <td>233.0</td>\n    </tr>\n  </tbody>\n</table>\n</div>"
     },
     "execution_count": 148,
     "metadata": {},
     "output_type": "execute_result"
    }
   ],
   "source": [
    "parameters = ['PFOS', 'PFHxS', 'PFNA', 'PFOA']\n",
    "\n",
    "df_cor_nb = pd.DataFrame(np.nan, index=parameters, columns=parameters)\n",
    "for i in range(len(parameters)):\n",
    "    for j in range(len(parameters)):\n",
    "        df_count = df.dropna(subset=[parameters[i], parameters[j]])\n",
    "        df_cor_nb.loc[parameters[i], parameters[j]] = int(len(df_count))\n",
    "df_cor_nb"
   ],
   "metadata": {
    "collapsed": false,
    "ExecuteTime": {
     "end_time": "2023-07-28T10:34:39.095781800Z",
     "start_time": "2023-07-28T10:34:39.072697900Z"
    }
   }
  },
  {
   "cell_type": "code",
   "execution_count": 308,
   "metadata": {
    "ExecuteTime": {
     "end_time": "2023-07-28T12:50:32.731529400Z",
     "start_time": "2023-07-28T12:50:32.708688Z"
    }
   },
   "outputs": [
    {
     "name": "stdout",
     "output_type": "stream",
     "text": [
      "['PFOS-PFOS', 'PFOS-PFHxS', 'PFOS-PFNA', 'PFOS-PFOA', 'PFHxS-PFOS', 'PFHxS-PFHxS', 'PFHxS-PFNA', 'PFHxS-PFOA', 'PFNA-PFOS', 'PFNA-PFHxS', 'PFNA-PFNA', 'PFNA-PFOA', 'PFOA-PFOS', 'PFOA-PFHxS', 'PFOA-PFNA', 'PFOA-PFOA']\n",
      "[{'x': 0, 'y': 0, 'value': 1.0, 'name': '232.0'}, {'x': 0, 'y': 1, 'value': 0.2, 'name': '232.0'}, {'x': 0, 'y': 2, 'value': 0.33, 'name': '231.0'}, {'x': 0, 'y': 3, 'value': 0.37, 'name': '232.0'}, {'x': 1, 'y': 0, 'value': 0.2, 'name': '232.0'}, {'x': 1, 'y': 1, 'value': 1.0, 'name': '233.0'}, {'x': 1, 'y': 2, 'value': 0.06, 'name': '232.0'}, {'x': 1, 'y': 3, 'value': 0.6, 'name': '233.0'}, {'x': 2, 'y': 0, 'value': 0.33, 'name': '231.0'}, {'x': 2, 'y': 1, 'value': 0.06, 'name': '232.0'}, {'x': 2, 'y': 2, 'value': 1.0, 'name': '232.0'}, {'x': 2, 'y': 3, 'value': 0.18, 'name': '232.0'}, {'x': 3, 'y': 0, 'value': 0.37, 'name': '232.0'}, {'x': 3, 'y': 1, 'value': 0.6, 'name': '233.0'}, {'x': 3, 'y': 2, 'value': 0.18, 'name': '232.0'}, {'x': 3, 'y': 3, 'value': 1.0, 'name': '233.0'}]\n",
      "[232.0, 232.0, 231.0, 232.0, 232.0, 233.0, 232.0, 233.0, 231.0, 232.0, 232.0, 232.0, 232.0, 233.0, 232.0, 233.0]\n"
     ]
    }
   ],
   "source": [
    "data_highcharts = []\n",
    "\n",
    "columns = list(df1_correlation.columns)\n",
    "data = list(df1_correlation[x].values.tolist() for x in columns)\n",
    "count_data = list(df_cor_nb[x].values.tolist() for x in columns)\n",
    "names = []\n",
    "count = []\n",
    "\n",
    "for i in range(len(data)):\n",
    "    for j in range(len(data)):\n",
    "        names.append(f'{columns[i]}-{columns[j]}')\n",
    "        data_highcharts.append({'x': i, 'y': j, 'value': data[i][j], 'name': f'{count_data[i][j]}'})\n",
    "        count.append(count_data[i][j])\n",
    "\n",
    "print(names)\n",
    "print(data_highcharts)\n",
    "print(count)"
   ]
  },
  {
   "cell_type": "code",
   "execution_count": 367,
   "metadata": {
    "ExecuteTime": {
     "end_time": "2023-07-28T13:17:47.195401100Z",
     "start_time": "2023-07-28T13:17:47.152719400Z"
    }
   },
   "outputs": [
    {
     "data": {
      "text/plain": "[{'name': 'Correlation',\n  'borderWidth': 1,\n  'data': [{'x': 0, 'y': 0, 'value': 1.0, 'name': '232.0'},\n   {'x': 0, 'y': 1, 'value': 0.2, 'name': '232.0'},\n   {'x': 0, 'y': 2, 'value': 0.33, 'name': '231.0'},\n   {'x': 0, 'y': 3, 'value': 0.37, 'name': '232.0'},\n   {'x': 1, 'y': 0, 'value': 0.2, 'name': '232.0'},\n   {'x': 1, 'y': 1, 'value': 1.0, 'name': '233.0'},\n   {'x': 1, 'y': 2, 'value': 0.06, 'name': '232.0'},\n   {'x': 1, 'y': 3, 'value': 0.6, 'name': '233.0'},\n   {'x': 2, 'y': 0, 'value': 0.33, 'name': '231.0'},\n   {'x': 2, 'y': 1, 'value': 0.06, 'name': '232.0'},\n   {'x': 2, 'y': 2, 'value': 1.0, 'name': '232.0'},\n   {'x': 2, 'y': 3, 'value': 0.18, 'name': '232.0'},\n   {'x': 3, 'y': 0, 'value': 0.37, 'name': '232.0'},\n   {'x': 3, 'y': 1, 'value': 0.6, 'name': '233.0'},\n   {'x': 3, 'y': 2, 'value': 0.18, 'name': '232.0'},\n   {'x': 3, 'y': 3, 'value': 1.0, 'name': '233.0'}],\n  'type': 'heatmap',\n  'dataLabels': [{'enabled': True,\n    'format': '{point.value} <br> ({point.options.name})'}]}]"
     },
     "execution_count": 367,
     "metadata": {},
     "output_type": "execute_result"
    }
   ],
   "source": [
    "data = [{\n",
    "        \"name\": \"Correlation\",\n",
    "        \"borderWidth\": 1,\n",
    "        \"data\": data_highcharts,\n",
    "        \"type\": 'heatmap',\n",
    "        \"dataLabels\": [{\"enabled\": True,\n",
    "                        'format': '{point.value} <br> ({point.options.name})'}]\n",
    "}\n",
    "]\n",
    "data"
   ]
  },
  {
   "cell_type": "code",
   "execution_count": 368,
   "metadata": {
    "ExecuteTime": {
     "end_time": "2023-07-28T13:17:47.621534400Z",
     "start_time": "2023-07-28T13:17:47.593251600Z"
    }
   },
   "outputs": [],
   "source": [
    "options_kwargs = {\n",
    "    'title': {\n",
    "        'text': 'Correlation per parameter'\n",
    "    },\n",
    "    'legend': {\n",
    "        'align': 'right',\n",
    "        'layout': 'vertical',\n",
    "        'margin': 0,\n",
    "        'verticalAlign': 'top',\n",
    "        'y': 25,\n",
    "        'symbolHeight': 280,\n",
    "\n",
    "    },\n",
    "\n",
    "    'xAxis': {\n",
    "        'categories': columns,\n",
    "        'title': {\n",
    "            'text': 'Parameter'\n",
    "        }\n",
    "    },\n",
    "\n",
    "    'yAxis': {\n",
    "        'categories': columns,\n",
    "        'title': {\n",
    "            'text': f'Parameter'\n",
    "        },\n",
    "        'reversed':True,\n",
    "    },\n",
    "    'colorAxis': {\n",
    "        'reversed':False,\n",
    "        'min': 0,\n",
    "        'max': 1,\n",
    "        'minColor': '#FFFFFF',\n",
    "        'maxColor': '#00C1FF',\n",
    "    },\n",
    "    'chart': {\n",
    "        'type': 'heatmap',\n",
    "        'zoomType': 'xy',\n",
    "    },\n",
    "    'tooltip': {\n",
    "    'formatter': 'function() {return this.series.xAxis.categories[this.point.x] + \"</b> - <b>\" + this.series.yAxis.categories[this.point.y] + \"</b><br> Correlation :<b>\" + this.point.value + \"</b><br> Count :<b>\" + this.point.options.name}'\n",
    "  },\n",
    "}"
   ]
  },
  {
   "cell_type": "markdown",
   "metadata": {},
   "source": [
    "## Assemble the Chart"
   ]
  },
  {
   "cell_type": "code",
   "execution_count": 369,
   "metadata": {
    "ExecuteTime": {
     "end_time": "2023-07-28T13:17:48.357294400Z",
     "start_time": "2023-07-28T13:17:48.328552Z"
    }
   },
   "outputs": [],
   "source": [
    "chart = Chart(options = options_kwargs)\n",
    "chart.add_series(*data)"
   ]
  },
  {
   "cell_type": "markdown",
   "metadata": {},
   "source": [
    "## Display the Chart"
   ]
  },
  {
   "cell_type": "code",
   "execution_count": 370,
   "metadata": {
    "ExecuteTime": {
     "end_time": "2023-07-28T13:17:49.548562800Z",
     "start_time": "2023-07-28T13:17:49.312009600Z"
    }
   },
   "outputs": [
    {
     "data": {
      "text/plain": "<IPython.core.display.Javascript object>",
      "application/javascript": "new Promise(function(resolve, reject) {\n  var existing_tags = document.querySelectorAll(\"script[src='https://code.highcharts.com/highcharts.js']\");  if (existing_tags.length == 0) {\n        var script = document.createElement(\"script\");\n        script.onload = resolve;\n        script.onerror = reject;        script.src = 'https://code.highcharts.com/highcharts.js';        document.head.appendChild(script);\n    };\n}).then(() => {new Promise(function(resolve, reject) {\n  var existing_tags = document.querySelectorAll(\"script[src='https://code.highcharts.com/highcharts-more.js']\");  if (existing_tags.length == 0) {\n        var script = document.createElement(\"script\");\n        script.onload = resolve;\n        script.onerror = reject;        script.src = 'https://code.highcharts.com/highcharts-more.js';        document.head.appendChild(script);\n    };\n}).then(() => {new Promise(function(resolve, reject) {\n  var existing_tags = document.querySelectorAll(\"script[src='https://code.highcharts.com/highcharts-3d.js']\");  if (existing_tags.length == 0) {\n        var script = document.createElement(\"script\");\n        script.onload = resolve;\n        script.onerror = reject;        script.src = 'https://code.highcharts.com/highcharts-3d.js';        document.head.appendChild(script);\n    };\n}).then(() => {new Promise(function(resolve, reject) {\n  var existing_tags = document.querySelectorAll(\"script[src='https://code.highcharts.com/modules/sonification.js']\");  if (existing_tags.length == 0) {\n        var script = document.createElement(\"script\");\n        script.onload = resolve;\n        script.onerror = reject;        script.src = 'https://code.highcharts.com/modules/sonification.js';        document.head.appendChild(script);\n    };\n}).then(() => {new Promise(function(resolve, reject) {\n  var existing_tags = document.querySelectorAll(\"script[src='https://code.highcharts.com/modules/accessibility.js']\");  if (existing_tags.length == 0) {\n        var script = document.createElement(\"script\");\n        script.onload = resolve;\n        script.onerror = reject;        script.src = 'https://code.highcharts.com/modules/accessibility.js';        document.head.appendChild(script);\n    };\n}).then(() => {new Promise(function(resolve, reject) {\n  var existing_tags = document.querySelectorAll(\"script[src='https://code.highcharts.com/modules/annotations.js']\");  if (existing_tags.length == 0) {\n        var script = document.createElement(\"script\");\n        script.onload = resolve;\n        script.onerror = reject;        script.src = 'https://code.highcharts.com/modules/annotations.js';        document.head.appendChild(script);\n    };\n}).then(() => {new Promise(function(resolve, reject) {\n  var existing_tags = document.querySelectorAll(\"script[src='https://code.highcharts.com/modules/annotations-advanced.js']\");  if (existing_tags.length == 0) {\n        var script = document.createElement(\"script\");\n        script.onload = resolve;\n        script.onerror = reject;        script.src = 'https://code.highcharts.com/modules/annotations-advanced.js';        document.head.appendChild(script);\n    };\n}).then(() => {new Promise(function(resolve, reject) {\n  var existing_tags = document.querySelectorAll(\"script[src='https://code.highcharts.com/modules/sankey.js']\");  if (existing_tags.length == 0) {\n        var script = document.createElement(\"script\");\n        script.onload = resolve;\n        script.onerror = reject;        script.src = 'https://code.highcharts.com/modules/sankey.js';        document.head.appendChild(script);\n    };\n}).then(() => {new Promise(function(resolve, reject) {\n  var existing_tags = document.querySelectorAll(\"script[src='https://code.highcharts.com/modules/arc-diagram.js']\");  if (existing_tags.length == 0) {\n        var script = document.createElement(\"script\");\n        script.onload = resolve;\n        script.onerror = reject;        script.src = 'https://code.highcharts.com/modules/arc-diagram.js';        document.head.appendChild(script);\n    };\n}).then(() => {new Promise(function(resolve, reject) {\n  var existing_tags = document.querySelectorAll(\"script[src='https://code.highcharts.com/modules/boost.js']\");  if (existing_tags.length == 0) {\n        var script = document.createElement(\"script\");\n        script.onload = resolve;\n        script.onerror = reject;        script.src = 'https://code.highcharts.com/modules/boost.js';        document.head.appendChild(script);\n    };\n}).then(() => {new Promise(function(resolve, reject) {\n  var existing_tags = document.querySelectorAll(\"script[src='https://code.highcharts.com/modules/broken-axis.js']\");  if (existing_tags.length == 0) {\n        var script = document.createElement(\"script\");\n        script.onload = resolve;\n        script.onerror = reject;        script.src = 'https://code.highcharts.com/modules/broken-axis.js';        document.head.appendChild(script);\n    };\n}).then(() => {new Promise(function(resolve, reject) {\n  var existing_tags = document.querySelectorAll(\"script[src='https://code.highcharts.com/modules/bullet.js']\");  if (existing_tags.length == 0) {\n        var script = document.createElement(\"script\");\n        script.onload = resolve;\n        script.onerror = reject;        script.src = 'https://code.highcharts.com/modules/bullet.js';        document.head.appendChild(script);\n    };\n}).then(() => {new Promise(function(resolve, reject) {\n  var existing_tags = document.querySelectorAll(\"script[src='https://code.highcharts.com/modules/cylinder.js']\");  if (existing_tags.length == 0) {\n        var script = document.createElement(\"script\");\n        script.onload = resolve;\n        script.onerror = reject;        script.src = 'https://code.highcharts.com/modules/cylinder.js';        document.head.appendChild(script);\n    };\n}).then(() => {new Promise(function(resolve, reject) {\n  var existing_tags = document.querySelectorAll(\"script[src='https://code.highcharts.com/modules/data.js']\");  if (existing_tags.length == 0) {\n        var script = document.createElement(\"script\");\n        script.onload = resolve;\n        script.onerror = reject;        script.src = 'https://code.highcharts.com/modules/data.js';        document.head.appendChild(script);\n    };\n}).then(() => {new Promise(function(resolve, reject) {\n  var existing_tags = document.querySelectorAll(\"script[src='https://code.highcharts.com/modules/datagrouping.js']\");  if (existing_tags.length == 0) {\n        var script = document.createElement(\"script\");\n        script.onload = resolve;\n        script.onerror = reject;        script.src = 'https://code.highcharts.com/modules/datagrouping.js';        document.head.appendChild(script);\n    };\n}).then(() => {new Promise(function(resolve, reject) {\n  var existing_tags = document.querySelectorAll(\"script[src='https://code.highcharts.com/modules/debugger.js']\");  if (existing_tags.length == 0) {\n        var script = document.createElement(\"script\");\n        script.onload = resolve;\n        script.onerror = reject;        script.src = 'https://code.highcharts.com/modules/debugger.js';        document.head.appendChild(script);\n    };\n}).then(() => {new Promise(function(resolve, reject) {\n  var existing_tags = document.querySelectorAll(\"script[src='https://code.highcharts.com/modules/dependency-wheel.js']\");  if (existing_tags.length == 0) {\n        var script = document.createElement(\"script\");\n        script.onload = resolve;\n        script.onerror = reject;        script.src = 'https://code.highcharts.com/modules/dependency-wheel.js';        document.head.appendChild(script);\n    };\n}).then(() => {new Promise(function(resolve, reject) {\n  var existing_tags = document.querySelectorAll(\"script[src='https://code.highcharts.com/modules/drag-panes.js']\");  if (existing_tags.length == 0) {\n        var script = document.createElement(\"script\");\n        script.onload = resolve;\n        script.onerror = reject;        script.src = 'https://code.highcharts.com/modules/drag-panes.js';        document.head.appendChild(script);\n    };\n}).then(() => {new Promise(function(resolve, reject) {\n  var existing_tags = document.querySelectorAll(\"script[src='https://code.highcharts.com/modules/draggable-points.js']\");  if (existing_tags.length == 0) {\n        var script = document.createElement(\"script\");\n        script.onload = resolve;\n        script.onerror = reject;        script.src = 'https://code.highcharts.com/modules/draggable-points.js';        document.head.appendChild(script);\n    };\n}).then(() => {new Promise(function(resolve, reject) {\n  var existing_tags = document.querySelectorAll(\"script[src='https://code.highcharts.com/modules/drilldown.js']\");  if (existing_tags.length == 0) {\n        var script = document.createElement(\"script\");\n        script.onload = resolve;\n        script.onerror = reject;        script.src = 'https://code.highcharts.com/modules/drilldown.js';        document.head.appendChild(script);\n    };\n}).then(() => {new Promise(function(resolve, reject) {\n  var existing_tags = document.querySelectorAll(\"script[src='https://code.highcharts.com/modules/dumbbell.js']\");  if (existing_tags.length == 0) {\n        var script = document.createElement(\"script\");\n        script.onload = resolve;\n        script.onerror = reject;        script.src = 'https://code.highcharts.com/modules/dumbbell.js';        document.head.appendChild(script);\n    };\n}).then(() => {new Promise(function(resolve, reject) {\n  var existing_tags = document.querySelectorAll(\"script[src='https://code.highcharts.com/modules/export-data.js']\");  if (existing_tags.length == 0) {\n        var script = document.createElement(\"script\");\n        script.onload = resolve;\n        script.onerror = reject;        script.src = 'https://code.highcharts.com/modules/export-data.js';        document.head.appendChild(script);\n    };\n}).then(() => {new Promise(function(resolve, reject) {\n  var existing_tags = document.querySelectorAll(\"script[src='https://code.highcharts.com/modules/exporting.js']\");  if (existing_tags.length == 0) {\n        var script = document.createElement(\"script\");\n        script.onload = resolve;\n        script.onerror = reject;        script.src = 'https://code.highcharts.com/modules/exporting.js';        document.head.appendChild(script);\n    };\n}).then(() => {new Promise(function(resolve, reject) {\n  var existing_tags = document.querySelectorAll(\"script[src='https://code.highcharts.com/modules/funnel.js']\");  if (existing_tags.length == 0) {\n        var script = document.createElement(\"script\");\n        script.onload = resolve;\n        script.onerror = reject;        script.src = 'https://code.highcharts.com/modules/funnel.js';        document.head.appendChild(script);\n    };\n}).then(() => {new Promise(function(resolve, reject) {\n  var existing_tags = document.querySelectorAll(\"script[src='https://code.highcharts.com/modules/funnel3d.js']\");  if (existing_tags.length == 0) {\n        var script = document.createElement(\"script\");\n        script.onload = resolve;\n        script.onerror = reject;        script.src = 'https://code.highcharts.com/modules/funnel3d.js';        document.head.appendChild(script);\n    };\n}).then(() => {new Promise(function(resolve, reject) {\n  var existing_tags = document.querySelectorAll(\"script[src='https://code.highcharts.com/modules/heatmap.js']\");  if (existing_tags.length == 0) {\n        var script = document.createElement(\"script\");\n        script.onload = resolve;\n        script.onerror = reject;        script.src = 'https://code.highcharts.com/modules/heatmap.js';        document.head.appendChild(script);\n    };\n}).then(() => {new Promise(function(resolve, reject) {\n  var existing_tags = document.querySelectorAll(\"script[src='https://code.highcharts.com/modules/item-series.js']\");  if (existing_tags.length == 0) {\n        var script = document.createElement(\"script\");\n        script.onload = resolve;\n        script.onerror = reject;        script.src = 'https://code.highcharts.com/modules/item-series.js';        document.head.appendChild(script);\n    };\n}).then(() => {new Promise(function(resolve, reject) {\n  var existing_tags = document.querySelectorAll(\"script[src='https://code.highcharts.com/modules/lollipop.js']\");  if (existing_tags.length == 0) {\n        var script = document.createElement(\"script\");\n        script.onload = resolve;\n        script.onerror = reject;        script.src = 'https://code.highcharts.com/modules/lollipop.js';        document.head.appendChild(script);\n    };\n}).then(() => {new Promise(function(resolve, reject) {\n  var existing_tags = document.querySelectorAll(\"script[src='https://code.highcharts.com/modules/networkgraph.js']\");  if (existing_tags.length == 0) {\n        var script = document.createElement(\"script\");\n        script.onload = resolve;\n        script.onerror = reject;        script.src = 'https://code.highcharts.com/modules/networkgraph.js';        document.head.appendChild(script);\n    };\n}).then(() => {new Promise(function(resolve, reject) {\n  var existing_tags = document.querySelectorAll(\"script[src='https://code.highcharts.com/modules/no-data-to-display.js']\");  if (existing_tags.length == 0) {\n        var script = document.createElement(\"script\");\n        script.onload = resolve;\n        script.onerror = reject;        script.src = 'https://code.highcharts.com/modules/no-data-to-display.js';        document.head.appendChild(script);\n    };\n}).then(() => {new Promise(function(resolve, reject) {\n  var existing_tags = document.querySelectorAll(\"script[src='https://code.highcharts.com/modules/offline-exporting.js']\");  if (existing_tags.length == 0) {\n        var script = document.createElement(\"script\");\n        script.onload = resolve;\n        script.onerror = reject;        script.src = 'https://code.highcharts.com/modules/offline-exporting.js';        document.head.appendChild(script);\n    };\n}).then(() => {new Promise(function(resolve, reject) {\n  var existing_tags = document.querySelectorAll(\"script[src='https://code.highcharts.com/modules/oldie.js']\");  if (existing_tags.length == 0) {\n        var script = document.createElement(\"script\");\n        script.onload = resolve;\n        script.onerror = reject;        script.src = 'https://code.highcharts.com/modules/oldie.js';        document.head.appendChild(script);\n    };\n}).then(() => {new Promise(function(resolve, reject) {\n  var existing_tags = document.querySelectorAll(\"script[src='https://code.highcharts.com/modules/organization.js']\");  if (existing_tags.length == 0) {\n        var script = document.createElement(\"script\");\n        script.onload = resolve;\n        script.onerror = reject;        script.src = 'https://code.highcharts.com/modules/organization.js';        document.head.appendChild(script);\n    };\n}).then(() => {new Promise(function(resolve, reject) {\n  var existing_tags = document.querySelectorAll(\"script[src='https://code.highcharts.com/modules/parallel-coordinates.js']\");  if (existing_tags.length == 0) {\n        var script = document.createElement(\"script\");\n        script.onload = resolve;\n        script.onerror = reject;        script.src = 'https://code.highcharts.com/modules/parallel-coordinates.js';        document.head.appendChild(script);\n    };\n}).then(() => {new Promise(function(resolve, reject) {\n  var existing_tags = document.querySelectorAll(\"script[src='https://code.highcharts.com/modules/pareto.js']\");  if (existing_tags.length == 0) {\n        var script = document.createElement(\"script\");\n        script.onload = resolve;\n        script.onerror = reject;        script.src = 'https://code.highcharts.com/modules/pareto.js';        document.head.appendChild(script);\n    };\n}).then(() => {new Promise(function(resolve, reject) {\n  var existing_tags = document.querySelectorAll(\"script[src='https://code.highcharts.com/modules/pictorial.js']\");  if (existing_tags.length == 0) {\n        var script = document.createElement(\"script\");\n        script.onload = resolve;\n        script.onerror = reject;        script.src = 'https://code.highcharts.com/modules/pictorial.js';        document.head.appendChild(script);\n    };\n}).then(() => {new Promise(function(resolve, reject) {\n  var existing_tags = document.querySelectorAll(\"script[src='https://code.highcharts.com/modules/pyramid3d.js']\");  if (existing_tags.length == 0) {\n        var script = document.createElement(\"script\");\n        script.onload = resolve;\n        script.onerror = reject;        script.src = 'https://code.highcharts.com/modules/pyramid3d.js';        document.head.appendChild(script);\n    };\n}).then(() => {new Promise(function(resolve, reject) {\n  var existing_tags = document.querySelectorAll(\"script[src='https://code.highcharts.com/modules/series-label.js']\");  if (existing_tags.length == 0) {\n        var script = document.createElement(\"script\");\n        script.onload = resolve;\n        script.onerror = reject;        script.src = 'https://code.highcharts.com/modules/series-label.js';        document.head.appendChild(script);\n    };\n}).then(() => {new Promise(function(resolve, reject) {\n  var existing_tags = document.querySelectorAll(\"script[src='https://code.highcharts.com/modules/series-on-point.js']\");  if (existing_tags.length == 0) {\n        var script = document.createElement(\"script\");\n        script.onload = resolve;\n        script.onerror = reject;        script.src = 'https://code.highcharts.com/modules/series-on-point.js';        document.head.appendChild(script);\n    };\n}).then(() => {new Promise(function(resolve, reject) {\n  var existing_tags = document.querySelectorAll(\"script[src='https://code.highcharts.com/modules/solid-gauge.js']\");  if (existing_tags.length == 0) {\n        var script = document.createElement(\"script\");\n        script.onload = resolve;\n        script.onerror = reject;        script.src = 'https://code.highcharts.com/modules/solid-gauge.js';        document.head.appendChild(script);\n    };\n}).then(() => {new Promise(function(resolve, reject) {\n  var existing_tags = document.querySelectorAll(\"script[src='https://code.highcharts.com/modules/streamgraph.js']\");  if (existing_tags.length == 0) {\n        var script = document.createElement(\"script\");\n        script.onload = resolve;\n        script.onerror = reject;        script.src = 'https://code.highcharts.com/modules/streamgraph.js';        document.head.appendChild(script);\n    };\n}).then(() => {new Promise(function(resolve, reject) {\n  var existing_tags = document.querySelectorAll(\"script[src='https://code.highcharts.com/modules/sunburst.js']\");  if (existing_tags.length == 0) {\n        var script = document.createElement(\"script\");\n        script.onload = resolve;\n        script.onerror = reject;        script.src = 'https://code.highcharts.com/modules/sunburst.js';        document.head.appendChild(script);\n    };\n}).then(() => {new Promise(function(resolve, reject) {\n  var existing_tags = document.querySelectorAll(\"script[src='https://code.highcharts.com/modules/tilemap.js']\");  if (existing_tags.length == 0) {\n        var script = document.createElement(\"script\");\n        script.onload = resolve;\n        script.onerror = reject;        script.src = 'https://code.highcharts.com/modules/tilemap.js';        document.head.appendChild(script);\n    };\n}).then(() => {new Promise(function(resolve, reject) {\n  var existing_tags = document.querySelectorAll(\"script[src='https://code.highcharts.com/modules/timeline.js']\");  if (existing_tags.length == 0) {\n        var script = document.createElement(\"script\");\n        script.onload = resolve;\n        script.onerror = reject;        script.src = 'https://code.highcharts.com/modules/timeline.js';        document.head.appendChild(script);\n    };\n}).then(() => {new Promise(function(resolve, reject) {\n  var existing_tags = document.querySelectorAll(\"script[src='https://code.highcharts.com/modules/treegraph.js']\");  if (existing_tags.length == 0) {\n        var script = document.createElement(\"script\");\n        script.onload = resolve;\n        script.onerror = reject;        script.src = 'https://code.highcharts.com/modules/treegraph.js';        document.head.appendChild(script);\n    };\n}).then(() => {new Promise(function(resolve, reject) {\n  var existing_tags = document.querySelectorAll(\"script[src='https://code.highcharts.com/modules/treemap.js']\");  if (existing_tags.length == 0) {\n        var script = document.createElement(\"script\");\n        script.onload = resolve;\n        script.onerror = reject;        script.src = 'https://code.highcharts.com/modules/treemap.js';        document.head.appendChild(script);\n    };\n}).then(() => {new Promise(function(resolve, reject) {\n  var existing_tags = document.querySelectorAll(\"script[src='https://code.highcharts.com/modules/variable-pie.js']\");  if (existing_tags.length == 0) {\n        var script = document.createElement(\"script\");\n        script.onload = resolve;\n        script.onerror = reject;        script.src = 'https://code.highcharts.com/modules/variable-pie.js';        document.head.appendChild(script);\n    };\n}).then(() => {new Promise(function(resolve, reject) {\n  var existing_tags = document.querySelectorAll(\"script[src='https://code.highcharts.com/modules/variwide.js']\");  if (existing_tags.length == 0) {\n        var script = document.createElement(\"script\");\n        script.onload = resolve;\n        script.onerror = reject;        script.src = 'https://code.highcharts.com/modules/variwide.js';        document.head.appendChild(script);\n    };\n}).then(() => {new Promise(function(resolve, reject) {\n  var existing_tags = document.querySelectorAll(\"script[src='https://code.highcharts.com/modules/vector.js']\");  if (existing_tags.length == 0) {\n        var script = document.createElement(\"script\");\n        script.onload = resolve;\n        script.onerror = reject;        script.src = 'https://code.highcharts.com/modules/vector.js';        document.head.appendChild(script);\n    };\n}).then(() => {new Promise(function(resolve, reject) {\n  var existing_tags = document.querySelectorAll(\"script[src='https://code.highcharts.com/modules/venn.js']\");  if (existing_tags.length == 0) {\n        var script = document.createElement(\"script\");\n        script.onload = resolve;\n        script.onerror = reject;        script.src = 'https://code.highcharts.com/modules/venn.js';        document.head.appendChild(script);\n    };\n}).then(() => {new Promise(function(resolve, reject) {\n  var existing_tags = document.querySelectorAll(\"script[src='https://code.highcharts.com/modules/windbarb.js']\");  if (existing_tags.length == 0) {\n        var script = document.createElement(\"script\");\n        script.onload = resolve;\n        script.onerror = reject;        script.src = 'https://code.highcharts.com/modules/windbarb.js';        document.head.appendChild(script);\n    };\n}).then(() => {new Promise(function(resolve, reject) {\n  var existing_tags = document.querySelectorAll(\"script[src='https://code.highcharts.com/modules/wordcloud.js']\");  if (existing_tags.length == 0) {\n        var script = document.createElement(\"script\");\n        script.onload = resolve;\n        script.onerror = reject;        script.src = 'https://code.highcharts.com/modules/wordcloud.js';        document.head.appendChild(script);\n    };\n}).then(() => {new Promise(function(resolve, reject) {\n  var existing_tags = document.querySelectorAll(\"script[src='https://code.highcharts.com/modules/xrange.js']\");  if (existing_tags.length == 0) {\n        var script = document.createElement(\"script\");\n        script.onload = resolve;\n        script.onerror = reject;        script.src = 'https://code.highcharts.com/modules/xrange.js';        document.head.appendChild(script);\n    };\n}).then(() => {});});});});});});});});});});});});});});});});});});});});});});});});});});});});});});});});});});});});});});});});});});});});});});});});});});});});});"
     },
     "metadata": {},
     "output_type": "display_data"
    },
    {
     "data": {
      "text/plain": "<IPython.core.display.HTML object>",
      "text/html": "<div id=\"highcharts_container_0B9T51\" style=\"width:100%; height:400;\"></div>\n"
     },
     "metadata": {},
     "output_type": "display_data"
    },
    {
     "data": {
      "text/plain": "<IPython.core.display.Javascript object>",
      "application/javascript": "function retryHighcharts(fn, container = 'highcharts_target_div', retries = 3, retriesLeft = 3, \n        interval = 1000) {\n            return new Promise((resolve, reject) => {\n            try {\n                fn()\n                return resolve();\n            } catch (err) {\n                if ((err instanceof ReferenceError) || (err instanceof TypeError)) {\n                    if (retriesLeft === 0) {\n                        var target_div = document.getElementById(container);\n                        if (target_div) {\n                            var timeElapsed = (retries * interval) / 1000;\n                            var errorMessage = \"Something went wrong with the Highcharts.js script. It should have been automatically loaded, but it did not load for over \" + timeElapsed + \" seconds. Check your internet connection, and then if the problem persists please reach out for support. (You can also check your browser's console log for more details.)\";\n                            var errorHTML = \"<p>\" + errorMessage + \"</p>\";\n                            target_div.innerHTML = errorMessage;\n                            console.log(errorMessage);\n                            console.error(err);\n                        }\n                        return reject();\n                    }\n\n                    setTimeout(() => {\n                        retryHighcharts(fn, container, retries, retriesLeft - 1, interval).then(resolve).catch(reject);\n                    }, interval);\n                } else if ((err instanceof Error) && (err.message.includes('#13'))) {\n                    var errorMessage = \"It looks like the container specified '\" + container + \"' was not created successfully. Please check your browser's console log for more details.\";\n                    console.error(errorMessage);\n                    console.error(err);\n                    \n                    return reject();\n                } else {\n                    throw err;\n                }\n            }\n        });\n    };function insertChart_0B9T51() {\n\nHighcharts.chart('highcharts_container_0B9T51',\n{\n  chart: {\n  type: 'heatmap'\n},\n  colorAxis: {\n  max: 1,\n  min: 0,\n  reversed: false,\n  maxColor: '#00C1FF',\n  minColor: '#FFFFFF'\n},\n  legend: {\n  align: 'right',\n  layout: 'vertical',\n  margin: 0,\n  symbolHeight: 280,\n  verticalAlign: 'top',\n  y: 25\n},\n  series: [{\n  data: [{\n  value: 1.0,\n  x: 0,\n  y: 0,\n  name: '232.0'\n},\n{\n  value: 0.2,\n  x: 0,\n  y: 1,\n  name: '232.0'\n},\n{\n  value: 0.33,\n  x: 0,\n  y: 2,\n  name: '231.0'\n},\n{\n  value: 0.37,\n  x: 0,\n  y: 3,\n  name: '232.0'\n},\n{\n  value: 0.2,\n  x: 1,\n  y: 0,\n  name: '232.0'\n},\n{\n  value: 1.0,\n  x: 1,\n  y: 1,\n  name: '233.0'\n},\n{\n  value: 0.06,\n  x: 1,\n  y: 2,\n  name: '232.0'\n},\n{\n  value: 0.6,\n  x: 1,\n  y: 3,\n  name: '233.0'\n},\n{\n  value: 0.33,\n  x: 2,\n  y: 0,\n  name: '231.0'\n},\n{\n  value: 0.06,\n  x: 2,\n  y: 1,\n  name: '232.0'\n},\n{\n  value: 1.0,\n  x: 2,\n  y: 2,\n  name: '232.0'\n},\n{\n  value: 0.18,\n  x: 2,\n  y: 3,\n  name: '232.0'\n},\n{\n  value: 0.37,\n  x: 3,\n  y: 0,\n  name: '232.0'\n},\n{\n  value: 0.6,\n  x: 3,\n  y: 1,\n  name: '233.0'\n},\n{\n  value: 0.18,\n  x: 3,\n  y: 2,\n  name: '232.0'\n},\n{\n  value: 1.0,\n  x: 3,\n  y: 3,\n  name: '233.0'\n}],\n  name: 'Correlation',\n  dataLabels: [{\n  enabled: true,\n  format: '{point.value} <br> ({point.options.name})'\n}],\n  type: 'heatmap'\n}],\n  title: {\n  text: 'Correlation per parameter'\n},\n  tooltip: {\n  formatter: function() {\nreturn this.series.xAxis.categories[this.point.x] + \"</b> - <b>\" + this.series.yAxis.categories[this.point.y] + \"</b><br> Correlation :<b>\" + this.point.value + \"</b><br> Count :<b>\" + this.point.options.name}\n},\n  xAxis: {\n  categories: ['PFOS',\n'PFHxS',\n'PFNA',\n'PFOA'],\n  title: {\n  text: 'Parameter'\n}\n},\n  yAxis: {\n  categories: ['PFOS',\n'PFHxS',\n'PFNA',\n'PFOA'],\n  reversed: true,\n  title: {\n  text: 'Parameter'\n}\n}\n},\n);\n\n};\nretryHighcharts(insertChart_0B9T51, 'highcharts_container_0B9T51', 3, 3, 1000);"
     },
     "metadata": {},
     "output_type": "display_data"
    }
   ],
   "source": [
    "chart.display(container = 'highcharts_container')"
   ]
  },
  {
   "cell_type": "code",
   "execution_count": 330,
   "metadata": {
    "ExecuteTime": {
     "end_time": "2023-07-28T13:10:39.205614Z",
     "start_time": "2023-07-28T13:10:39.197010100Z"
    }
   },
   "outputs": [],
   "source": []
  },
  {
   "cell_type": "code",
   "execution_count": null,
   "outputs": [],
   "source": [],
   "metadata": {
    "collapsed": false
   }
  }
 ],
 "metadata": {
  "kernelspec": {
   "display_name": "Python 3 (ipykernel)",
   "language": "python",
   "name": "python3"
  },
  "language_info": {
   "codemirror_mode": {
    "name": "ipython",
    "version": 3
   },
   "file_extension": ".py",
   "mimetype": "text/x-python",
   "name": "python",
   "nbconvert_exporter": "python",
   "pygments_lexer": "ipython3",
   "version": "3.10.10"
  }
 },
 "nbformat": 4,
 "nbformat_minor": 1
}
