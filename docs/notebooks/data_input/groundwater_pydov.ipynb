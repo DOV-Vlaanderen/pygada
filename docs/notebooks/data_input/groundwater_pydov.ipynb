{
 "cells": [
  {
   "cell_type": "markdown",
   "metadata": {},
   "source": [
    "# Introductory tutorial"
   ]
  }
}
